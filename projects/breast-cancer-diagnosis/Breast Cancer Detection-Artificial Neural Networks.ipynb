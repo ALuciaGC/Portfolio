{
 "cells": [
  {
   "cell_type": "markdown",
   "id": "6305dcc2",
   "metadata": {},
   "source": [
    "# Artifical Neural Network"
   ]
  },
  {
   "cell_type": "markdown",
   "id": "35b99d68",
   "metadata": {},
   "source": [
    "## Import libraries and data"
   ]
  },
  {
   "cell_type": "code",
   "execution_count": 1,
   "id": "c96b1ce1",
   "metadata": {},
   "outputs": [],
   "source": [
    "import pandas as pd\n",
    "import numpy as np\n",
    "from sklearn.datasets import load_breast_cancer\n",
    "\n",
    "data = load_breast_cancer()"
   ]
  },
  {
   "cell_type": "code",
   "execution_count": 2,
   "id": "2cf1f2aa",
   "metadata": {},
   "outputs": [
    {
     "data": {
      "text/plain": [
       "dict_keys(['data', 'target', 'frame', 'target_names', 'DESCR', 'feature_names', 'filename', 'data_module'])"
      ]
     },
     "execution_count": 2,
     "metadata": {},
     "output_type": "execute_result"
    }
   ],
   "source": [
    "data.keys()"
   ]
  },
  {
   "cell_type": "code",
   "execution_count": 3,
   "id": "03a85316",
   "metadata": {},
   "outputs": [],
   "source": [
    "ds = pd.DataFrame(np.c_[data['data'], data['target']], columns= np.append(data['feature_names'], ['target']))"
   ]
  },
  {
   "cell_type": "markdown",
   "id": "c9407a61",
   "metadata": {},
   "source": [
    "## Data Analysis"
   ]
  },
  {
   "cell_type": "code",
   "execution_count": 4,
   "id": "fb91c462",
   "metadata": {},
   "outputs": [
    {
     "data": {
      "text/html": [
       "<div>\n",
       "<style scoped>\n",
       "    .dataframe tbody tr th:only-of-type {\n",
       "        vertical-align: middle;\n",
       "    }\n",
       "\n",
       "    .dataframe tbody tr th {\n",
       "        vertical-align: top;\n",
       "    }\n",
       "\n",
       "    .dataframe thead th {\n",
       "        text-align: right;\n",
       "    }\n",
       "</style>\n",
       "<table border=\"1\" class=\"dataframe\">\n",
       "  <thead>\n",
       "    <tr style=\"text-align: right;\">\n",
       "      <th></th>\n",
       "      <th>mean radius</th>\n",
       "      <th>mean texture</th>\n",
       "      <th>mean perimeter</th>\n",
       "      <th>mean area</th>\n",
       "      <th>mean smoothness</th>\n",
       "      <th>mean compactness</th>\n",
       "      <th>mean concavity</th>\n",
       "      <th>mean concave points</th>\n",
       "      <th>mean symmetry</th>\n",
       "      <th>mean fractal dimension</th>\n",
       "      <th>...</th>\n",
       "      <th>worst texture</th>\n",
       "      <th>worst perimeter</th>\n",
       "      <th>worst area</th>\n",
       "      <th>worst smoothness</th>\n",
       "      <th>worst compactness</th>\n",
       "      <th>worst concavity</th>\n",
       "      <th>worst concave points</th>\n",
       "      <th>worst symmetry</th>\n",
       "      <th>worst fractal dimension</th>\n",
       "      <th>target</th>\n",
       "    </tr>\n",
       "  </thead>\n",
       "  <tbody>\n",
       "    <tr>\n",
       "      <th>0</th>\n",
       "      <td>17.99</td>\n",
       "      <td>10.38</td>\n",
       "      <td>122.80</td>\n",
       "      <td>1001.0</td>\n",
       "      <td>0.11840</td>\n",
       "      <td>0.27760</td>\n",
       "      <td>0.3001</td>\n",
       "      <td>0.14710</td>\n",
       "      <td>0.2419</td>\n",
       "      <td>0.07871</td>\n",
       "      <td>...</td>\n",
       "      <td>17.33</td>\n",
       "      <td>184.60</td>\n",
       "      <td>2019.0</td>\n",
       "      <td>0.1622</td>\n",
       "      <td>0.6656</td>\n",
       "      <td>0.7119</td>\n",
       "      <td>0.2654</td>\n",
       "      <td>0.4601</td>\n",
       "      <td>0.11890</td>\n",
       "      <td>0.0</td>\n",
       "    </tr>\n",
       "    <tr>\n",
       "      <th>1</th>\n",
       "      <td>20.57</td>\n",
       "      <td>17.77</td>\n",
       "      <td>132.90</td>\n",
       "      <td>1326.0</td>\n",
       "      <td>0.08474</td>\n",
       "      <td>0.07864</td>\n",
       "      <td>0.0869</td>\n",
       "      <td>0.07017</td>\n",
       "      <td>0.1812</td>\n",
       "      <td>0.05667</td>\n",
       "      <td>...</td>\n",
       "      <td>23.41</td>\n",
       "      <td>158.80</td>\n",
       "      <td>1956.0</td>\n",
       "      <td>0.1238</td>\n",
       "      <td>0.1866</td>\n",
       "      <td>0.2416</td>\n",
       "      <td>0.1860</td>\n",
       "      <td>0.2750</td>\n",
       "      <td>0.08902</td>\n",
       "      <td>0.0</td>\n",
       "    </tr>\n",
       "    <tr>\n",
       "      <th>2</th>\n",
       "      <td>19.69</td>\n",
       "      <td>21.25</td>\n",
       "      <td>130.00</td>\n",
       "      <td>1203.0</td>\n",
       "      <td>0.10960</td>\n",
       "      <td>0.15990</td>\n",
       "      <td>0.1974</td>\n",
       "      <td>0.12790</td>\n",
       "      <td>0.2069</td>\n",
       "      <td>0.05999</td>\n",
       "      <td>...</td>\n",
       "      <td>25.53</td>\n",
       "      <td>152.50</td>\n",
       "      <td>1709.0</td>\n",
       "      <td>0.1444</td>\n",
       "      <td>0.4245</td>\n",
       "      <td>0.4504</td>\n",
       "      <td>0.2430</td>\n",
       "      <td>0.3613</td>\n",
       "      <td>0.08758</td>\n",
       "      <td>0.0</td>\n",
       "    </tr>\n",
       "    <tr>\n",
       "      <th>3</th>\n",
       "      <td>11.42</td>\n",
       "      <td>20.38</td>\n",
       "      <td>77.58</td>\n",
       "      <td>386.1</td>\n",
       "      <td>0.14250</td>\n",
       "      <td>0.28390</td>\n",
       "      <td>0.2414</td>\n",
       "      <td>0.10520</td>\n",
       "      <td>0.2597</td>\n",
       "      <td>0.09744</td>\n",
       "      <td>...</td>\n",
       "      <td>26.50</td>\n",
       "      <td>98.87</td>\n",
       "      <td>567.7</td>\n",
       "      <td>0.2098</td>\n",
       "      <td>0.8663</td>\n",
       "      <td>0.6869</td>\n",
       "      <td>0.2575</td>\n",
       "      <td>0.6638</td>\n",
       "      <td>0.17300</td>\n",
       "      <td>0.0</td>\n",
       "    </tr>\n",
       "    <tr>\n",
       "      <th>4</th>\n",
       "      <td>20.29</td>\n",
       "      <td>14.34</td>\n",
       "      <td>135.10</td>\n",
       "      <td>1297.0</td>\n",
       "      <td>0.10030</td>\n",
       "      <td>0.13280</td>\n",
       "      <td>0.1980</td>\n",
       "      <td>0.10430</td>\n",
       "      <td>0.1809</td>\n",
       "      <td>0.05883</td>\n",
       "      <td>...</td>\n",
       "      <td>16.67</td>\n",
       "      <td>152.20</td>\n",
       "      <td>1575.0</td>\n",
       "      <td>0.1374</td>\n",
       "      <td>0.2050</td>\n",
       "      <td>0.4000</td>\n",
       "      <td>0.1625</td>\n",
       "      <td>0.2364</td>\n",
       "      <td>0.07678</td>\n",
       "      <td>0.0</td>\n",
       "    </tr>\n",
       "  </tbody>\n",
       "</table>\n",
       "<p>5 rows × 31 columns</p>\n",
       "</div>"
      ],
      "text/plain": [
       "   mean radius  mean texture  mean perimeter  mean area  mean smoothness  \\\n",
       "0        17.99         10.38          122.80     1001.0          0.11840   \n",
       "1        20.57         17.77          132.90     1326.0          0.08474   \n",
       "2        19.69         21.25          130.00     1203.0          0.10960   \n",
       "3        11.42         20.38           77.58      386.1          0.14250   \n",
       "4        20.29         14.34          135.10     1297.0          0.10030   \n",
       "\n",
       "   mean compactness  mean concavity  mean concave points  mean symmetry  \\\n",
       "0           0.27760          0.3001              0.14710         0.2419   \n",
       "1           0.07864          0.0869              0.07017         0.1812   \n",
       "2           0.15990          0.1974              0.12790         0.2069   \n",
       "3           0.28390          0.2414              0.10520         0.2597   \n",
       "4           0.13280          0.1980              0.10430         0.1809   \n",
       "\n",
       "   mean fractal dimension  ...  worst texture  worst perimeter  worst area  \\\n",
       "0                 0.07871  ...          17.33           184.60      2019.0   \n",
       "1                 0.05667  ...          23.41           158.80      1956.0   \n",
       "2                 0.05999  ...          25.53           152.50      1709.0   \n",
       "3                 0.09744  ...          26.50            98.87       567.7   \n",
       "4                 0.05883  ...          16.67           152.20      1575.0   \n",
       "\n",
       "   worst smoothness  worst compactness  worst concavity  worst concave points  \\\n",
       "0            0.1622             0.6656           0.7119                0.2654   \n",
       "1            0.1238             0.1866           0.2416                0.1860   \n",
       "2            0.1444             0.4245           0.4504                0.2430   \n",
       "3            0.2098             0.8663           0.6869                0.2575   \n",
       "4            0.1374             0.2050           0.4000                0.1625   \n",
       "\n",
       "   worst symmetry  worst fractal dimension  target  \n",
       "0          0.4601                  0.11890     0.0  \n",
       "1          0.2750                  0.08902     0.0  \n",
       "2          0.3613                  0.08758     0.0  \n",
       "3          0.6638                  0.17300     0.0  \n",
       "4          0.2364                  0.07678     0.0  \n",
       "\n",
       "[5 rows x 31 columns]"
      ]
     },
     "execution_count": 4,
     "metadata": {},
     "output_type": "execute_result"
    }
   ],
   "source": [
    "ds.head()"
   ]
  },
  {
   "cell_type": "code",
   "execution_count": 5,
   "id": "c0a6651b",
   "metadata": {},
   "outputs": [
    {
     "data": {
      "text/plain": [
       "(569, 31)"
      ]
     },
     "execution_count": 5,
     "metadata": {},
     "output_type": "execute_result"
    }
   ],
   "source": [
    "ds.shape"
   ]
  },
  {
   "cell_type": "code",
   "execution_count": 6,
   "id": "0b62db8e",
   "metadata": {
    "scrolled": true
   },
   "outputs": [
    {
     "data": {
      "text/plain": [
       "Index(['mean radius', 'mean texture', 'mean perimeter', 'mean area',\n",
       "       'mean smoothness', 'mean compactness', 'mean concavity',\n",
       "       'mean concave points', 'mean symmetry', 'mean fractal dimension',\n",
       "       'radius error', 'texture error', 'perimeter error', 'area error',\n",
       "       'smoothness error', 'compactness error', 'concavity error',\n",
       "       'concave points error', 'symmetry error', 'fractal dimension error',\n",
       "       'worst radius', 'worst texture', 'worst perimeter', 'worst area',\n",
       "       'worst smoothness', 'worst compactness', 'worst concavity',\n",
       "       'worst concave points', 'worst symmetry', 'worst fractal dimension',\n",
       "       'target'],\n",
       "      dtype='object')"
      ]
     },
     "execution_count": 6,
     "metadata": {},
     "output_type": "execute_result"
    }
   ],
   "source": [
    "ds.keys()"
   ]
  },
  {
   "cell_type": "code",
   "execution_count": 7,
   "id": "120cfb0a",
   "metadata": {},
   "outputs": [],
   "source": [
    "# [:,0:10] Interpeted as all rows for columns 0 through 10\n",
    "X = ds.iloc[:,0:30]\n",
    "# [:,10] Interpeted as all rows for column 10\n",
    "Y = ds.iloc[:,30]"
   ]
  },
  {
   "cell_type": "markdown",
   "id": "dda36f0e",
   "metadata": {},
   "source": [
    "Confirm that the variables look correct"
   ]
  },
  {
   "cell_type": "code",
   "execution_count": 8,
   "id": "2a2e5a49",
   "metadata": {
    "scrolled": true
   },
   "outputs": [
    {
     "data": {
      "text/html": [
       "<div>\n",
       "<style scoped>\n",
       "    .dataframe tbody tr th:only-of-type {\n",
       "        vertical-align: middle;\n",
       "    }\n",
       "\n",
       "    .dataframe tbody tr th {\n",
       "        vertical-align: top;\n",
       "    }\n",
       "\n",
       "    .dataframe thead th {\n",
       "        text-align: right;\n",
       "    }\n",
       "</style>\n",
       "<table border=\"1\" class=\"dataframe\">\n",
       "  <thead>\n",
       "    <tr style=\"text-align: right;\">\n",
       "      <th></th>\n",
       "      <th>mean radius</th>\n",
       "      <th>mean texture</th>\n",
       "      <th>mean perimeter</th>\n",
       "      <th>mean area</th>\n",
       "      <th>mean smoothness</th>\n",
       "      <th>mean compactness</th>\n",
       "      <th>mean concavity</th>\n",
       "      <th>mean concave points</th>\n",
       "      <th>mean symmetry</th>\n",
       "      <th>mean fractal dimension</th>\n",
       "      <th>...</th>\n",
       "      <th>worst radius</th>\n",
       "      <th>worst texture</th>\n",
       "      <th>worst perimeter</th>\n",
       "      <th>worst area</th>\n",
       "      <th>worst smoothness</th>\n",
       "      <th>worst compactness</th>\n",
       "      <th>worst concavity</th>\n",
       "      <th>worst concave points</th>\n",
       "      <th>worst symmetry</th>\n",
       "      <th>worst fractal dimension</th>\n",
       "    </tr>\n",
       "  </thead>\n",
       "  <tbody>\n",
       "    <tr>\n",
       "      <th>0</th>\n",
       "      <td>17.99</td>\n",
       "      <td>10.38</td>\n",
       "      <td>122.80</td>\n",
       "      <td>1001.0</td>\n",
       "      <td>0.11840</td>\n",
       "      <td>0.27760</td>\n",
       "      <td>0.30010</td>\n",
       "      <td>0.14710</td>\n",
       "      <td>0.2419</td>\n",
       "      <td>0.07871</td>\n",
       "      <td>...</td>\n",
       "      <td>25.380</td>\n",
       "      <td>17.33</td>\n",
       "      <td>184.60</td>\n",
       "      <td>2019.0</td>\n",
       "      <td>0.16220</td>\n",
       "      <td>0.66560</td>\n",
       "      <td>0.7119</td>\n",
       "      <td>0.2654</td>\n",
       "      <td>0.4601</td>\n",
       "      <td>0.11890</td>\n",
       "    </tr>\n",
       "    <tr>\n",
       "      <th>1</th>\n",
       "      <td>20.57</td>\n",
       "      <td>17.77</td>\n",
       "      <td>132.90</td>\n",
       "      <td>1326.0</td>\n",
       "      <td>0.08474</td>\n",
       "      <td>0.07864</td>\n",
       "      <td>0.08690</td>\n",
       "      <td>0.07017</td>\n",
       "      <td>0.1812</td>\n",
       "      <td>0.05667</td>\n",
       "      <td>...</td>\n",
       "      <td>24.990</td>\n",
       "      <td>23.41</td>\n",
       "      <td>158.80</td>\n",
       "      <td>1956.0</td>\n",
       "      <td>0.12380</td>\n",
       "      <td>0.18660</td>\n",
       "      <td>0.2416</td>\n",
       "      <td>0.1860</td>\n",
       "      <td>0.2750</td>\n",
       "      <td>0.08902</td>\n",
       "    </tr>\n",
       "    <tr>\n",
       "      <th>2</th>\n",
       "      <td>19.69</td>\n",
       "      <td>21.25</td>\n",
       "      <td>130.00</td>\n",
       "      <td>1203.0</td>\n",
       "      <td>0.10960</td>\n",
       "      <td>0.15990</td>\n",
       "      <td>0.19740</td>\n",
       "      <td>0.12790</td>\n",
       "      <td>0.2069</td>\n",
       "      <td>0.05999</td>\n",
       "      <td>...</td>\n",
       "      <td>23.570</td>\n",
       "      <td>25.53</td>\n",
       "      <td>152.50</td>\n",
       "      <td>1709.0</td>\n",
       "      <td>0.14440</td>\n",
       "      <td>0.42450</td>\n",
       "      <td>0.4504</td>\n",
       "      <td>0.2430</td>\n",
       "      <td>0.3613</td>\n",
       "      <td>0.08758</td>\n",
       "    </tr>\n",
       "    <tr>\n",
       "      <th>3</th>\n",
       "      <td>11.42</td>\n",
       "      <td>20.38</td>\n",
       "      <td>77.58</td>\n",
       "      <td>386.1</td>\n",
       "      <td>0.14250</td>\n",
       "      <td>0.28390</td>\n",
       "      <td>0.24140</td>\n",
       "      <td>0.10520</td>\n",
       "      <td>0.2597</td>\n",
       "      <td>0.09744</td>\n",
       "      <td>...</td>\n",
       "      <td>14.910</td>\n",
       "      <td>26.50</td>\n",
       "      <td>98.87</td>\n",
       "      <td>567.7</td>\n",
       "      <td>0.20980</td>\n",
       "      <td>0.86630</td>\n",
       "      <td>0.6869</td>\n",
       "      <td>0.2575</td>\n",
       "      <td>0.6638</td>\n",
       "      <td>0.17300</td>\n",
       "    </tr>\n",
       "    <tr>\n",
       "      <th>4</th>\n",
       "      <td>20.29</td>\n",
       "      <td>14.34</td>\n",
       "      <td>135.10</td>\n",
       "      <td>1297.0</td>\n",
       "      <td>0.10030</td>\n",
       "      <td>0.13280</td>\n",
       "      <td>0.19800</td>\n",
       "      <td>0.10430</td>\n",
       "      <td>0.1809</td>\n",
       "      <td>0.05883</td>\n",
       "      <td>...</td>\n",
       "      <td>22.540</td>\n",
       "      <td>16.67</td>\n",
       "      <td>152.20</td>\n",
       "      <td>1575.0</td>\n",
       "      <td>0.13740</td>\n",
       "      <td>0.20500</td>\n",
       "      <td>0.4000</td>\n",
       "      <td>0.1625</td>\n",
       "      <td>0.2364</td>\n",
       "      <td>0.07678</td>\n",
       "    </tr>\n",
       "    <tr>\n",
       "      <th>...</th>\n",
       "      <td>...</td>\n",
       "      <td>...</td>\n",
       "      <td>...</td>\n",
       "      <td>...</td>\n",
       "      <td>...</td>\n",
       "      <td>...</td>\n",
       "      <td>...</td>\n",
       "      <td>...</td>\n",
       "      <td>...</td>\n",
       "      <td>...</td>\n",
       "      <td>...</td>\n",
       "      <td>...</td>\n",
       "      <td>...</td>\n",
       "      <td>...</td>\n",
       "      <td>...</td>\n",
       "      <td>...</td>\n",
       "      <td>...</td>\n",
       "      <td>...</td>\n",
       "      <td>...</td>\n",
       "      <td>...</td>\n",
       "      <td>...</td>\n",
       "    </tr>\n",
       "    <tr>\n",
       "      <th>564</th>\n",
       "      <td>21.56</td>\n",
       "      <td>22.39</td>\n",
       "      <td>142.00</td>\n",
       "      <td>1479.0</td>\n",
       "      <td>0.11100</td>\n",
       "      <td>0.11590</td>\n",
       "      <td>0.24390</td>\n",
       "      <td>0.13890</td>\n",
       "      <td>0.1726</td>\n",
       "      <td>0.05623</td>\n",
       "      <td>...</td>\n",
       "      <td>25.450</td>\n",
       "      <td>26.40</td>\n",
       "      <td>166.10</td>\n",
       "      <td>2027.0</td>\n",
       "      <td>0.14100</td>\n",
       "      <td>0.21130</td>\n",
       "      <td>0.4107</td>\n",
       "      <td>0.2216</td>\n",
       "      <td>0.2060</td>\n",
       "      <td>0.07115</td>\n",
       "    </tr>\n",
       "    <tr>\n",
       "      <th>565</th>\n",
       "      <td>20.13</td>\n",
       "      <td>28.25</td>\n",
       "      <td>131.20</td>\n",
       "      <td>1261.0</td>\n",
       "      <td>0.09780</td>\n",
       "      <td>0.10340</td>\n",
       "      <td>0.14400</td>\n",
       "      <td>0.09791</td>\n",
       "      <td>0.1752</td>\n",
       "      <td>0.05533</td>\n",
       "      <td>...</td>\n",
       "      <td>23.690</td>\n",
       "      <td>38.25</td>\n",
       "      <td>155.00</td>\n",
       "      <td>1731.0</td>\n",
       "      <td>0.11660</td>\n",
       "      <td>0.19220</td>\n",
       "      <td>0.3215</td>\n",
       "      <td>0.1628</td>\n",
       "      <td>0.2572</td>\n",
       "      <td>0.06637</td>\n",
       "    </tr>\n",
       "    <tr>\n",
       "      <th>566</th>\n",
       "      <td>16.60</td>\n",
       "      <td>28.08</td>\n",
       "      <td>108.30</td>\n",
       "      <td>858.1</td>\n",
       "      <td>0.08455</td>\n",
       "      <td>0.10230</td>\n",
       "      <td>0.09251</td>\n",
       "      <td>0.05302</td>\n",
       "      <td>0.1590</td>\n",
       "      <td>0.05648</td>\n",
       "      <td>...</td>\n",
       "      <td>18.980</td>\n",
       "      <td>34.12</td>\n",
       "      <td>126.70</td>\n",
       "      <td>1124.0</td>\n",
       "      <td>0.11390</td>\n",
       "      <td>0.30940</td>\n",
       "      <td>0.3403</td>\n",
       "      <td>0.1418</td>\n",
       "      <td>0.2218</td>\n",
       "      <td>0.07820</td>\n",
       "    </tr>\n",
       "    <tr>\n",
       "      <th>567</th>\n",
       "      <td>20.60</td>\n",
       "      <td>29.33</td>\n",
       "      <td>140.10</td>\n",
       "      <td>1265.0</td>\n",
       "      <td>0.11780</td>\n",
       "      <td>0.27700</td>\n",
       "      <td>0.35140</td>\n",
       "      <td>0.15200</td>\n",
       "      <td>0.2397</td>\n",
       "      <td>0.07016</td>\n",
       "      <td>...</td>\n",
       "      <td>25.740</td>\n",
       "      <td>39.42</td>\n",
       "      <td>184.60</td>\n",
       "      <td>1821.0</td>\n",
       "      <td>0.16500</td>\n",
       "      <td>0.86810</td>\n",
       "      <td>0.9387</td>\n",
       "      <td>0.2650</td>\n",
       "      <td>0.4087</td>\n",
       "      <td>0.12400</td>\n",
       "    </tr>\n",
       "    <tr>\n",
       "      <th>568</th>\n",
       "      <td>7.76</td>\n",
       "      <td>24.54</td>\n",
       "      <td>47.92</td>\n",
       "      <td>181.0</td>\n",
       "      <td>0.05263</td>\n",
       "      <td>0.04362</td>\n",
       "      <td>0.00000</td>\n",
       "      <td>0.00000</td>\n",
       "      <td>0.1587</td>\n",
       "      <td>0.05884</td>\n",
       "      <td>...</td>\n",
       "      <td>9.456</td>\n",
       "      <td>30.37</td>\n",
       "      <td>59.16</td>\n",
       "      <td>268.6</td>\n",
       "      <td>0.08996</td>\n",
       "      <td>0.06444</td>\n",
       "      <td>0.0000</td>\n",
       "      <td>0.0000</td>\n",
       "      <td>0.2871</td>\n",
       "      <td>0.07039</td>\n",
       "    </tr>\n",
       "  </tbody>\n",
       "</table>\n",
       "<p>569 rows × 30 columns</p>\n",
       "</div>"
      ],
      "text/plain": [
       "     mean radius  mean texture  mean perimeter  mean area  mean smoothness  \\\n",
       "0          17.99         10.38          122.80     1001.0          0.11840   \n",
       "1          20.57         17.77          132.90     1326.0          0.08474   \n",
       "2          19.69         21.25          130.00     1203.0          0.10960   \n",
       "3          11.42         20.38           77.58      386.1          0.14250   \n",
       "4          20.29         14.34          135.10     1297.0          0.10030   \n",
       "..           ...           ...             ...        ...              ...   \n",
       "564        21.56         22.39          142.00     1479.0          0.11100   \n",
       "565        20.13         28.25          131.20     1261.0          0.09780   \n",
       "566        16.60         28.08          108.30      858.1          0.08455   \n",
       "567        20.60         29.33          140.10     1265.0          0.11780   \n",
       "568         7.76         24.54           47.92      181.0          0.05263   \n",
       "\n",
       "     mean compactness  mean concavity  mean concave points  mean symmetry  \\\n",
       "0             0.27760         0.30010              0.14710         0.2419   \n",
       "1             0.07864         0.08690              0.07017         0.1812   \n",
       "2             0.15990         0.19740              0.12790         0.2069   \n",
       "3             0.28390         0.24140              0.10520         0.2597   \n",
       "4             0.13280         0.19800              0.10430         0.1809   \n",
       "..                ...             ...                  ...            ...   \n",
       "564           0.11590         0.24390              0.13890         0.1726   \n",
       "565           0.10340         0.14400              0.09791         0.1752   \n",
       "566           0.10230         0.09251              0.05302         0.1590   \n",
       "567           0.27700         0.35140              0.15200         0.2397   \n",
       "568           0.04362         0.00000              0.00000         0.1587   \n",
       "\n",
       "     mean fractal dimension  ...  worst radius  worst texture  \\\n",
       "0                   0.07871  ...        25.380          17.33   \n",
       "1                   0.05667  ...        24.990          23.41   \n",
       "2                   0.05999  ...        23.570          25.53   \n",
       "3                   0.09744  ...        14.910          26.50   \n",
       "4                   0.05883  ...        22.540          16.67   \n",
       "..                      ...  ...           ...            ...   \n",
       "564                 0.05623  ...        25.450          26.40   \n",
       "565                 0.05533  ...        23.690          38.25   \n",
       "566                 0.05648  ...        18.980          34.12   \n",
       "567                 0.07016  ...        25.740          39.42   \n",
       "568                 0.05884  ...         9.456          30.37   \n",
       "\n",
       "     worst perimeter  worst area  worst smoothness  worst compactness  \\\n",
       "0             184.60      2019.0           0.16220            0.66560   \n",
       "1             158.80      1956.0           0.12380            0.18660   \n",
       "2             152.50      1709.0           0.14440            0.42450   \n",
       "3              98.87       567.7           0.20980            0.86630   \n",
       "4             152.20      1575.0           0.13740            0.20500   \n",
       "..               ...         ...               ...                ...   \n",
       "564           166.10      2027.0           0.14100            0.21130   \n",
       "565           155.00      1731.0           0.11660            0.19220   \n",
       "566           126.70      1124.0           0.11390            0.30940   \n",
       "567           184.60      1821.0           0.16500            0.86810   \n",
       "568            59.16       268.6           0.08996            0.06444   \n",
       "\n",
       "     worst concavity  worst concave points  worst symmetry  \\\n",
       "0             0.7119                0.2654          0.4601   \n",
       "1             0.2416                0.1860          0.2750   \n",
       "2             0.4504                0.2430          0.3613   \n",
       "3             0.6869                0.2575          0.6638   \n",
       "4             0.4000                0.1625          0.2364   \n",
       "..               ...                   ...             ...   \n",
       "564           0.4107                0.2216          0.2060   \n",
       "565           0.3215                0.1628          0.2572   \n",
       "566           0.3403                0.1418          0.2218   \n",
       "567           0.9387                0.2650          0.4087   \n",
       "568           0.0000                0.0000          0.2871   \n",
       "\n",
       "     worst fractal dimension  \n",
       "0                    0.11890  \n",
       "1                    0.08902  \n",
       "2                    0.08758  \n",
       "3                    0.17300  \n",
       "4                    0.07678  \n",
       "..                       ...  \n",
       "564                  0.07115  \n",
       "565                  0.06637  \n",
       "566                  0.07820  \n",
       "567                  0.12400  \n",
       "568                  0.07039  \n",
       "\n",
       "[569 rows x 30 columns]"
      ]
     },
     "execution_count": 8,
     "metadata": {},
     "output_type": "execute_result"
    }
   ],
   "source": [
    "X"
   ]
  },
  {
   "cell_type": "code",
   "execution_count": 9,
   "id": "dd67bf56",
   "metadata": {},
   "outputs": [
    {
     "data": {
      "text/plain": [
       "0      0.0\n",
       "1      0.0\n",
       "2      0.0\n",
       "3      0.0\n",
       "4      0.0\n",
       "      ... \n",
       "564    0.0\n",
       "565    0.0\n",
       "566    0.0\n",
       "567    0.0\n",
       "568    1.0\n",
       "Name: target, Length: 569, dtype: float64"
      ]
     },
     "execution_count": 9,
     "metadata": {},
     "output_type": "execute_result"
    }
   ],
   "source": [
    "Y"
   ]
  },
  {
   "cell_type": "markdown",
   "id": "237455f4",
   "metadata": {},
   "source": [
    "##  Data Preprocessing"
   ]
  },
  {
   "cell_type": "code",
   "execution_count": 10,
   "id": "53d3591d",
   "metadata": {
    "scrolled": true
   },
   "outputs": [],
   "source": [
    "from sklearn import preprocessing\n",
    "\n",
    "# Transform features by scaling them to a given range. \n",
    "min_max_scaler = preprocessing.MinMaxScaler()\n",
    "X_scale = min_max_scaler.fit_transform(X)"
   ]
  },
  {
   "cell_type": "markdown",
   "id": "e66d5083",
   "metadata": {},
   "source": [
    "Compare the before and after"
   ]
  },
  {
   "cell_type": "code",
   "execution_count": 11,
   "id": "3e7a4564",
   "metadata": {},
   "outputs": [
    {
     "name": "stdout",
     "output_type": "stream",
     "text": [
      "X=       mean radius  mean texture  mean perimeter  mean area  mean smoothness  \\\n",
      "0          17.99         10.38          122.80     1001.0          0.11840   \n",
      "1          20.57         17.77          132.90     1326.0          0.08474   \n",
      "2          19.69         21.25          130.00     1203.0          0.10960   \n",
      "3          11.42         20.38           77.58      386.1          0.14250   \n",
      "4          20.29         14.34          135.10     1297.0          0.10030   \n",
      "..           ...           ...             ...        ...              ...   \n",
      "564        21.56         22.39          142.00     1479.0          0.11100   \n",
      "565        20.13         28.25          131.20     1261.0          0.09780   \n",
      "566        16.60         28.08          108.30      858.1          0.08455   \n",
      "567        20.60         29.33          140.10     1265.0          0.11780   \n",
      "568         7.76         24.54           47.92      181.0          0.05263   \n",
      "\n",
      "     mean compactness  mean concavity  mean concave points  mean symmetry  \\\n",
      "0             0.27760         0.30010              0.14710         0.2419   \n",
      "1             0.07864         0.08690              0.07017         0.1812   \n",
      "2             0.15990         0.19740              0.12790         0.2069   \n",
      "3             0.28390         0.24140              0.10520         0.2597   \n",
      "4             0.13280         0.19800              0.10430         0.1809   \n",
      "..                ...             ...                  ...            ...   \n",
      "564           0.11590         0.24390              0.13890         0.1726   \n",
      "565           0.10340         0.14400              0.09791         0.1752   \n",
      "566           0.10230         0.09251              0.05302         0.1590   \n",
      "567           0.27700         0.35140              0.15200         0.2397   \n",
      "568           0.04362         0.00000              0.00000         0.1587   \n",
      "\n",
      "     mean fractal dimension  ...  worst radius  worst texture  \\\n",
      "0                   0.07871  ...        25.380          17.33   \n",
      "1                   0.05667  ...        24.990          23.41   \n",
      "2                   0.05999  ...        23.570          25.53   \n",
      "3                   0.09744  ...        14.910          26.50   \n",
      "4                   0.05883  ...        22.540          16.67   \n",
      "..                      ...  ...           ...            ...   \n",
      "564                 0.05623  ...        25.450          26.40   \n",
      "565                 0.05533  ...        23.690          38.25   \n",
      "566                 0.05648  ...        18.980          34.12   \n",
      "567                 0.07016  ...        25.740          39.42   \n",
      "568                 0.05884  ...         9.456          30.37   \n",
      "\n",
      "     worst perimeter  worst area  worst smoothness  worst compactness  \\\n",
      "0             184.60      2019.0           0.16220            0.66560   \n",
      "1             158.80      1956.0           0.12380            0.18660   \n",
      "2             152.50      1709.0           0.14440            0.42450   \n",
      "3              98.87       567.7           0.20980            0.86630   \n",
      "4             152.20      1575.0           0.13740            0.20500   \n",
      "..               ...         ...               ...                ...   \n",
      "564           166.10      2027.0           0.14100            0.21130   \n",
      "565           155.00      1731.0           0.11660            0.19220   \n",
      "566           126.70      1124.0           0.11390            0.30940   \n",
      "567           184.60      1821.0           0.16500            0.86810   \n",
      "568            59.16       268.6           0.08996            0.06444   \n",
      "\n",
      "     worst concavity  worst concave points  worst symmetry  \\\n",
      "0             0.7119                0.2654          0.4601   \n",
      "1             0.2416                0.1860          0.2750   \n",
      "2             0.4504                0.2430          0.3613   \n",
      "3             0.6869                0.2575          0.6638   \n",
      "4             0.4000                0.1625          0.2364   \n",
      "..               ...                   ...             ...   \n",
      "564           0.4107                0.2216          0.2060   \n",
      "565           0.3215                0.1628          0.2572   \n",
      "566           0.3403                0.1418          0.2218   \n",
      "567           0.9387                0.2650          0.4087   \n",
      "568           0.0000                0.0000          0.2871   \n",
      "\n",
      "     worst fractal dimension  \n",
      "0                    0.11890  \n",
      "1                    0.08902  \n",
      "2                    0.08758  \n",
      "3                    0.17300  \n",
      "4                    0.07678  \n",
      "..                       ...  \n",
      "564                  0.07115  \n",
      "565                  0.06637  \n",
      "566                  0.07820  \n",
      "567                  0.12400  \n",
      "568                  0.07039  \n",
      "\n",
      "[569 rows x 30 columns]\n",
      "X_scale=  [[0.52103744 0.0226581  0.54598853 ... 0.91202749 0.59846245 0.41886396]\n",
      " [0.64314449 0.27257355 0.61578329 ... 0.63917526 0.23358959 0.22287813]\n",
      " [0.60149557 0.3902604  0.59574321 ... 0.83505155 0.40370589 0.21343303]\n",
      " ...\n",
      " [0.45525108 0.62123774 0.44578813 ... 0.48728522 0.12872068 0.1519087 ]\n",
      " [0.64456434 0.66351031 0.66553797 ... 0.91065292 0.49714173 0.45231536]\n",
      " [0.03686876 0.50152181 0.02853984 ... 0.         0.25744136 0.10068215]]\n"
     ]
    }
   ],
   "source": [
    "print(\"X= \", X)\n",
    "print(\"X_scale= \", X_scale)"
   ]
  },
  {
   "cell_type": "markdown",
   "id": "67b6e617",
   "metadata": {},
   "source": [
    "## Principal Component Analysis"
   ]
  },
  {
   "cell_type": "markdown",
   "id": "5d7c0b9a",
   "metadata": {},
   "source": [
    "Buidling on the Logistic Regression model, this study has determined that the optimal number of components should be set at 8."
   ]
  },
  {
   "cell_type": "code",
   "execution_count": 12,
   "id": "66af35dd",
   "metadata": {},
   "outputs": [],
   "source": [
    "# Apply PCA with 8 components\n",
    "from sklearn.decomposition import PCA\n",
    "pca = PCA(n_components=8)\n",
    "X_pca = pca.fit_transform(X_scale)\n",
    "\n",
    "# Get the transformed dataset\n",
    "X_pca = pd.DataFrame(X_pca)"
   ]
  },
  {
   "cell_type": "markdown",
   "id": "03ba17ad",
   "metadata": {},
   "source": [
    "Confirm that the data has been reduced"
   ]
  },
  {
   "cell_type": "code",
   "execution_count": 13,
   "id": "2dd1ef53",
   "metadata": {
    "scrolled": true
   },
   "outputs": [
    {
     "data": {
      "text/plain": [
       "(569, 8)"
      ]
     },
     "execution_count": 13,
     "metadata": {},
     "output_type": "execute_result"
    }
   ],
   "source": [
    "X_pca.shape"
   ]
  },
  {
   "cell_type": "markdown",
   "id": "04cfab9c",
   "metadata": {},
   "source": [
    "## Training and testing"
   ]
  },
  {
   "cell_type": "code",
   "execution_count": 14,
   "id": "c8b3e279",
   "metadata": {},
   "outputs": [],
   "source": [
    "from sklearn.model_selection import train_test_split"
   ]
  },
  {
   "cell_type": "code",
   "execution_count": 15,
   "id": "8fe4d37d",
   "metadata": {},
   "outputs": [],
   "source": [
    "## Split the data into training and other (validation and test)\n",
    "X_train, X_val_and_test, Y_train, Y_val_and_test = train_test_split(X_pca, Y, test_size=0.2, random_state=40)\n",
    "\n",
    "# Divide \"other\" into validation and testing\n",
    "X_val, X_test, Y_val, Y_test = train_test_split(X_val_and_test, Y_val_and_test, test_size=0.5)"
   ]
  },
  {
   "cell_type": "markdown",
   "id": "b7b6b8d6",
   "metadata": {},
   "source": [
    "Confirm the division"
   ]
  },
  {
   "cell_type": "code",
   "execution_count": 16,
   "id": "15a002cd",
   "metadata": {},
   "outputs": [
    {
     "name": "stdout",
     "output_type": "stream",
     "text": [
      "X_train (455, 8)\n",
      "Y_train (455,)\n",
      "X_val (57, 8)\n",
      "Y_val (57,)\n",
      "X_test (57, 8)\n",
      "Y_test (57,)\n"
     ]
    },
    {
     "data": {
      "text/plain": [
       "(None, None)"
      ]
     },
     "execution_count": 16,
     "metadata": {},
     "output_type": "execute_result"
    }
   ],
   "source": [
    "print(\"X_train\", X_train.shape), print(\"Y_train\", Y_train.shape)\n",
    "print(\"X_val\", X_val.shape), print(\"Y_val\", Y_val.shape)\n",
    "print(\"X_test\", X_test.shape), print(\"Y_test\", Y_test.shape)"
   ]
  },
  {
   "cell_type": "markdown",
   "id": "6065d756",
   "metadata": {},
   "source": [
    "## Buidling the ANN"
   ]
  },
  {
   "cell_type": "code",
   "execution_count": 17,
   "id": "d7624226",
   "metadata": {},
   "outputs": [
    {
     "name": "stderr",
     "output_type": "stream",
     "text": [
      "Using TensorFlow backend.\n"
     ]
    }
   ],
   "source": [
    "from keras.models import Sequential\n",
    "from keras.layers import Dense, Dropout\n",
    "import matplotlib.pyplot as plt"
   ]
  },
  {
   "cell_type": "code",
   "execution_count": 18,
   "id": "48000e37",
   "metadata": {},
   "outputs": [
    {
     "name": "stderr",
     "output_type": "stream",
     "text": [
      "2022-12-16 18:54:45.696447: I tensorflow/core/platform/cpu_feature_guard.cc:145] This TensorFlow binary is optimized with Intel(R) MKL-DNN to use the following CPU instructions in performance critical operations:  SSE4.1 SSE4.2 AVX AVX2 FMA\n",
      "To enable them in non-MKL-DNN operations, rebuild TensorFlow with the appropriate compiler flags.\n",
      "2022-12-16 18:54:45.696742: I tensorflow/core/common_runtime/process_util.cc:115] Creating new thread pool with default inter op setting: 8. Tune using inter_op_parallelism_threads for best performance.\n"
     ]
    }
   ],
   "source": [
    "model = Sequential([\n",
    "    #1st Layer Input\n",
    "    Dense(8, activation='relu', input_shape=(8,)),\n",
    "    #2nd Layer Hidden\n",
    "    Dense(3, activation='relu'),\n",
    "    #3 Layer Output\n",
    "    Dense(1, activation='sigmoid'),\n",
    "])"
   ]
  },
  {
   "cell_type": "code",
   "execution_count": 19,
   "id": "c96a20cd",
   "metadata": {},
   "outputs": [],
   "source": [
    "#Fitting the model\n",
    "model.compile(optimizer='sgd', loss='binary_crossentropy', metrics=['accuracy'])"
   ]
  },
  {
   "cell_type": "code",
   "execution_count": 20,
   "id": "e187d4fc",
   "metadata": {
    "scrolled": true
   },
   "outputs": [
    {
     "name": "stdout",
     "output_type": "stream",
     "text": [
      "Train on 455 samples, validate on 57 samples\n",
      "Epoch 1/120\n",
      "455/455 [==============================] - 0s 918us/step - loss: 0.6616 - accuracy: 0.6879 - val_loss: 0.6314 - val_accuracy: 0.7895\n",
      "Epoch 2/120\n",
      "455/455 [==============================] - 0s 61us/step - loss: 0.6498 - accuracy: 0.7165 - val_loss: 0.6170 - val_accuracy: 0.8246\n",
      "Epoch 3/120\n",
      "455/455 [==============================] - 0s 64us/step - loss: 0.6387 - accuracy: 0.7385 - val_loss: 0.6037 - val_accuracy: 0.8772\n",
      "Epoch 4/120\n",
      "455/455 [==============================] - 0s 73us/step - loss: 0.6280 - accuracy: 0.7582 - val_loss: 0.5906 - val_accuracy: 0.8947\n",
      "Epoch 5/120\n",
      "455/455 [==============================] - 0s 73us/step - loss: 0.6174 - accuracy: 0.7692 - val_loss: 0.5775 - val_accuracy: 0.8947\n",
      "Epoch 6/120\n",
      "455/455 [==============================] - 0s 52us/step - loss: 0.6068 - accuracy: 0.7824 - val_loss: 0.5647 - val_accuracy: 0.8947\n",
      "Epoch 7/120\n",
      "455/455 [==============================] - 0s 57us/step - loss: 0.5963 - accuracy: 0.7868 - val_loss: 0.5516 - val_accuracy: 0.9123\n",
      "Epoch 8/120\n",
      "455/455 [==============================] - 0s 52us/step - loss: 0.5856 - accuracy: 0.7934 - val_loss: 0.5392 - val_accuracy: 0.9123\n",
      "Epoch 9/120\n",
      "455/455 [==============================] - 0s 49us/step - loss: 0.5751 - accuracy: 0.8022 - val_loss: 0.5262 - val_accuracy: 0.9123\n",
      "Epoch 10/120\n",
      "455/455 [==============================] - 0s 49us/step - loss: 0.5645 - accuracy: 0.8154 - val_loss: 0.5135 - val_accuracy: 0.9123\n",
      "Epoch 11/120\n",
      "455/455 [==============================] - 0s 47us/step - loss: 0.5539 - accuracy: 0.8242 - val_loss: 0.5004 - val_accuracy: 0.9123\n",
      "Epoch 12/120\n",
      "455/455 [==============================] - 0s 45us/step - loss: 0.5432 - accuracy: 0.8264 - val_loss: 0.4877 - val_accuracy: 0.9123\n",
      "Epoch 13/120\n",
      "455/455 [==============================] - 0s 45us/step - loss: 0.5324 - accuracy: 0.8352 - val_loss: 0.4753 - val_accuracy: 0.9298\n",
      "Epoch 14/120\n",
      "455/455 [==============================] - 0s 44us/step - loss: 0.5218 - accuracy: 0.8396 - val_loss: 0.4626 - val_accuracy: 0.9298\n",
      "Epoch 15/120\n",
      "455/455 [==============================] - 0s 50us/step - loss: 0.5111 - accuracy: 0.8484 - val_loss: 0.4494 - val_accuracy: 0.9298\n",
      "Epoch 16/120\n",
      "455/455 [==============================] - 0s 47us/step - loss: 0.5003 - accuracy: 0.8571 - val_loss: 0.4368 - val_accuracy: 0.9298\n",
      "Epoch 17/120\n",
      "455/455 [==============================] - 0s 44us/step - loss: 0.4898 - accuracy: 0.8615 - val_loss: 0.4243 - val_accuracy: 0.9474\n",
      "Epoch 18/120\n",
      "455/455 [==============================] - 0s 44us/step - loss: 0.4793 - accuracy: 0.8615 - val_loss: 0.4120 - val_accuracy: 0.9474\n",
      "Epoch 19/120\n",
      "455/455 [==============================] - 0s 43us/step - loss: 0.4687 - accuracy: 0.8659 - val_loss: 0.3995 - val_accuracy: 0.9474\n",
      "Epoch 20/120\n",
      "455/455 [==============================] - 0s 44us/step - loss: 0.4584 - accuracy: 0.8659 - val_loss: 0.3875 - val_accuracy: 0.9474\n",
      "Epoch 21/120\n",
      "455/455 [==============================] - 0s 44us/step - loss: 0.4482 - accuracy: 0.8681 - val_loss: 0.3759 - val_accuracy: 0.9649\n",
      "Epoch 22/120\n",
      "455/455 [==============================] - 0s 44us/step - loss: 0.4384 - accuracy: 0.8747 - val_loss: 0.3644 - val_accuracy: 0.9649\n",
      "Epoch 23/120\n",
      "455/455 [==============================] - 0s 44us/step - loss: 0.4286 - accuracy: 0.8725 - val_loss: 0.3532 - val_accuracy: 0.9649\n",
      "Epoch 24/120\n",
      "455/455 [==============================] - 0s 45us/step - loss: 0.4189 - accuracy: 0.8747 - val_loss: 0.3422 - val_accuracy: 0.9649\n",
      "Epoch 25/120\n",
      "455/455 [==============================] - 0s 47us/step - loss: 0.4096 - accuracy: 0.8747 - val_loss: 0.3311 - val_accuracy: 0.9649\n",
      "Epoch 26/120\n",
      "455/455 [==============================] - 0s 44us/step - loss: 0.4002 - accuracy: 0.8769 - val_loss: 0.3208 - val_accuracy: 0.9649\n",
      "Epoch 27/120\n",
      "455/455 [==============================] - 0s 44us/step - loss: 0.3914 - accuracy: 0.8791 - val_loss: 0.3104 - val_accuracy: 0.9649\n",
      "Epoch 28/120\n",
      "455/455 [==============================] - 0s 43us/step - loss: 0.3825 - accuracy: 0.8835 - val_loss: 0.3006 - val_accuracy: 0.9649\n",
      "Epoch 29/120\n",
      "455/455 [==============================] - 0s 45us/step - loss: 0.3739 - accuracy: 0.8835 - val_loss: 0.2910 - val_accuracy: 0.9649\n",
      "Epoch 30/120\n",
      "455/455 [==============================] - 0s 44us/step - loss: 0.3656 - accuracy: 0.8835 - val_loss: 0.2814 - val_accuracy: 0.9649\n",
      "Epoch 31/120\n",
      "455/455 [==============================] - 0s 47us/step - loss: 0.3576 - accuracy: 0.8835 - val_loss: 0.2724 - val_accuracy: 0.9825\n",
      "Epoch 32/120\n",
      "455/455 [==============================] - 0s 45us/step - loss: 0.3499 - accuracy: 0.8857 - val_loss: 0.2635 - val_accuracy: 0.9825\n",
      "Epoch 33/120\n",
      "455/455 [==============================] - 0s 44us/step - loss: 0.3423 - accuracy: 0.8879 - val_loss: 0.2553 - val_accuracy: 0.9825\n",
      "Epoch 34/120\n",
      "455/455 [==============================] - 0s 44us/step - loss: 0.3352 - accuracy: 0.8879 - val_loss: 0.2472 - val_accuracy: 0.9825\n",
      "Epoch 35/120\n",
      "455/455 [==============================] - 0s 44us/step - loss: 0.3281 - accuracy: 0.8923 - val_loss: 0.2394 - val_accuracy: 0.9825\n",
      "Epoch 36/120\n",
      "455/455 [==============================] - 0s 44us/step - loss: 0.3214 - accuracy: 0.8923 - val_loss: 0.2329 - val_accuracy: 0.9825\n",
      "Epoch 37/120\n",
      "455/455 [==============================] - 0s 44us/step - loss: 0.3148 - accuracy: 0.8989 - val_loss: 0.2258 - val_accuracy: 0.9825\n",
      "Epoch 38/120\n",
      "455/455 [==============================] - 0s 45us/step - loss: 0.3085 - accuracy: 0.9011 - val_loss: 0.2187 - val_accuracy: 0.9825\n",
      "Epoch 39/120\n",
      "455/455 [==============================] - 0s 44us/step - loss: 0.3025 - accuracy: 0.9055 - val_loss: 0.2121 - val_accuracy: 0.9825\n",
      "Epoch 40/120\n",
      "455/455 [==============================] - 0s 63us/step - loss: 0.2969 - accuracy: 0.9055 - val_loss: 0.2058 - val_accuracy: 0.9825\n",
      "Epoch 41/120\n",
      "455/455 [==============================] - 0s 52us/step - loss: 0.2913 - accuracy: 0.9077 - val_loss: 0.2003 - val_accuracy: 0.9825\n",
      "Epoch 42/120\n",
      "455/455 [==============================] - 0s 45us/step - loss: 0.2859 - accuracy: 0.9099 - val_loss: 0.1950 - val_accuracy: 0.9825\n",
      "Epoch 43/120\n",
      "455/455 [==============================] - 0s 45us/step - loss: 0.2808 - accuracy: 0.9099 - val_loss: 0.1896 - val_accuracy: 0.9825\n",
      "Epoch 44/120\n",
      "455/455 [==============================] - 0s 46us/step - loss: 0.2757 - accuracy: 0.9121 - val_loss: 0.1845 - val_accuracy: 0.9825\n",
      "Epoch 45/120\n",
      "455/455 [==============================] - 0s 41us/step - loss: 0.2710 - accuracy: 0.9121 - val_loss: 0.1793 - val_accuracy: 0.9825\n",
      "Epoch 46/120\n",
      "455/455 [==============================] - 0s 45us/step - loss: 0.2663 - accuracy: 0.9121 - val_loss: 0.1747 - val_accuracy: 0.9825\n",
      "Epoch 47/120\n",
      "455/455 [==============================] - 0s 44us/step - loss: 0.2618 - accuracy: 0.9143 - val_loss: 0.1706 - val_accuracy: 0.9825\n",
      "Epoch 48/120\n",
      "455/455 [==============================] - 0s 43us/step - loss: 0.2575 - accuracy: 0.9187 - val_loss: 0.1665 - val_accuracy: 1.0000\n",
      "Epoch 49/120\n",
      "455/455 [==============================] - 0s 44us/step - loss: 0.2534 - accuracy: 0.9187 - val_loss: 0.1625 - val_accuracy: 1.0000\n",
      "Epoch 50/120\n",
      "455/455 [==============================] - 0s 45us/step - loss: 0.2494 - accuracy: 0.9209 - val_loss: 0.1585 - val_accuracy: 1.0000\n",
      "Epoch 51/120\n",
      "455/455 [==============================] - 0s 44us/step - loss: 0.2456 - accuracy: 0.9231 - val_loss: 0.1546 - val_accuracy: 1.0000\n",
      "Epoch 52/120\n",
      "455/455 [==============================] - 0s 44us/step - loss: 0.2419 - accuracy: 0.9231 - val_loss: 0.1511 - val_accuracy: 1.0000\n",
      "Epoch 53/120\n",
      "455/455 [==============================] - 0s 45us/step - loss: 0.2383 - accuracy: 0.9231 - val_loss: 0.1475 - val_accuracy: 1.0000\n",
      "Epoch 54/120\n",
      "455/455 [==============================] - 0s 46us/step - loss: 0.2348 - accuracy: 0.9275 - val_loss: 0.1442 - val_accuracy: 1.0000\n",
      "Epoch 55/120\n",
      "455/455 [==============================] - 0s 44us/step - loss: 0.2316 - accuracy: 0.9297 - val_loss: 0.1407 - val_accuracy: 1.0000\n",
      "Epoch 56/120\n",
      "455/455 [==============================] - 0s 44us/step - loss: 0.2284 - accuracy: 0.9319 - val_loss: 0.1378 - val_accuracy: 1.0000\n",
      "Epoch 57/120\n"
     ]
    },
    {
     "name": "stdout",
     "output_type": "stream",
     "text": [
      "455/455 [==============================] - 0s 46us/step - loss: 0.2252 - accuracy: 0.9319 - val_loss: 0.1353 - val_accuracy: 1.0000\n",
      "Epoch 58/120\n",
      "455/455 [==============================] - 0s 45us/step - loss: 0.2222 - accuracy: 0.9319 - val_loss: 0.1328 - val_accuracy: 1.0000\n",
      "Epoch 59/120\n",
      "455/455 [==============================] - 0s 42us/step - loss: 0.2193 - accuracy: 0.9341 - val_loss: 0.1304 - val_accuracy: 1.0000\n",
      "Epoch 60/120\n",
      "455/455 [==============================] - 0s 43us/step - loss: 0.2165 - accuracy: 0.9341 - val_loss: 0.1278 - val_accuracy: 1.0000\n",
      "Epoch 61/120\n",
      "455/455 [==============================] - 0s 43us/step - loss: 0.2138 - accuracy: 0.9341 - val_loss: 0.1257 - val_accuracy: 1.0000\n",
      "Epoch 62/120\n",
      "455/455 [==============================] - 0s 43us/step - loss: 0.2112 - accuracy: 0.9363 - val_loss: 0.1237 - val_accuracy: 1.0000\n",
      "Epoch 63/120\n",
      "455/455 [==============================] - 0s 42us/step - loss: 0.2087 - accuracy: 0.9341 - val_loss: 0.1216 - val_accuracy: 1.0000\n",
      "Epoch 64/120\n",
      "455/455 [==============================] - 0s 44us/step - loss: 0.2062 - accuracy: 0.9341 - val_loss: 0.1196 - val_accuracy: 1.0000\n",
      "Epoch 65/120\n",
      "455/455 [==============================] - 0s 42us/step - loss: 0.2038 - accuracy: 0.9363 - val_loss: 0.1173 - val_accuracy: 1.0000\n",
      "Epoch 66/120\n",
      "455/455 [==============================] - 0s 43us/step - loss: 0.2013 - accuracy: 0.9385 - val_loss: 0.1148 - val_accuracy: 1.0000\n",
      "Epoch 67/120\n",
      "455/455 [==============================] - 0s 42us/step - loss: 0.1990 - accuracy: 0.9363 - val_loss: 0.1128 - val_accuracy: 1.0000\n",
      "Epoch 68/120\n",
      "455/455 [==============================] - 0s 42us/step - loss: 0.1968 - accuracy: 0.9363 - val_loss: 0.1114 - val_accuracy: 1.0000\n",
      "Epoch 69/120\n",
      "455/455 [==============================] - 0s 43us/step - loss: 0.1946 - accuracy: 0.9385 - val_loss: 0.1096 - val_accuracy: 1.0000\n",
      "Epoch 70/120\n",
      "455/455 [==============================] - 0s 42us/step - loss: 0.1927 - accuracy: 0.9363 - val_loss: 0.1078 - val_accuracy: 1.0000\n",
      "Epoch 71/120\n",
      "455/455 [==============================] - 0s 43us/step - loss: 0.1905 - accuracy: 0.9385 - val_loss: 0.1062 - val_accuracy: 1.0000\n",
      "Epoch 72/120\n",
      "455/455 [==============================] - 0s 42us/step - loss: 0.1886 - accuracy: 0.9385 - val_loss: 0.1047 - val_accuracy: 1.0000\n",
      "Epoch 73/120\n",
      "455/455 [==============================] - 0s 43us/step - loss: 0.1866 - accuracy: 0.9385 - val_loss: 0.1033 - val_accuracy: 1.0000\n",
      "Epoch 74/120\n",
      "455/455 [==============================] - 0s 43us/step - loss: 0.1848 - accuracy: 0.9407 - val_loss: 0.1021 - val_accuracy: 1.0000\n",
      "Epoch 75/120\n",
      "455/455 [==============================] - 0s 42us/step - loss: 0.1829 - accuracy: 0.9407 - val_loss: 0.1009 - val_accuracy: 1.0000\n",
      "Epoch 76/120\n",
      "455/455 [==============================] - 0s 42us/step - loss: 0.1811 - accuracy: 0.9407 - val_loss: 0.0991 - val_accuracy: 1.0000\n",
      "Epoch 77/120\n",
      "455/455 [==============================] - 0s 42us/step - loss: 0.1794 - accuracy: 0.9385 - val_loss: 0.0981 - val_accuracy: 1.0000\n",
      "Epoch 78/120\n",
      "455/455 [==============================] - 0s 48us/step - loss: 0.1776 - accuracy: 0.9407 - val_loss: 0.0970 - val_accuracy: 1.0000\n",
      "Epoch 79/120\n",
      "455/455 [==============================] - 0s 44us/step - loss: 0.1759 - accuracy: 0.9407 - val_loss: 0.0959 - val_accuracy: 1.0000\n",
      "Epoch 80/120\n",
      "455/455 [==============================] - 0s 42us/step - loss: 0.1743 - accuracy: 0.9407 - val_loss: 0.0946 - val_accuracy: 1.0000\n",
      "Epoch 81/120\n",
      "455/455 [==============================] - 0s 43us/step - loss: 0.1727 - accuracy: 0.9407 - val_loss: 0.0936 - val_accuracy: 1.0000\n",
      "Epoch 82/120\n",
      "455/455 [==============================] - 0s 43us/step - loss: 0.1712 - accuracy: 0.9407 - val_loss: 0.0925 - val_accuracy: 1.0000\n",
      "Epoch 83/120\n",
      "455/455 [==============================] - 0s 43us/step - loss: 0.1697 - accuracy: 0.9407 - val_loss: 0.0912 - val_accuracy: 1.0000\n",
      "Epoch 84/120\n",
      "455/455 [==============================] - 0s 42us/step - loss: 0.1682 - accuracy: 0.9407 - val_loss: 0.0906 - val_accuracy: 1.0000\n",
      "Epoch 85/120\n",
      "455/455 [==============================] - 0s 43us/step - loss: 0.1667 - accuracy: 0.9407 - val_loss: 0.0896 - val_accuracy: 1.0000\n",
      "Epoch 86/120\n",
      "455/455 [==============================] - 0s 43us/step - loss: 0.1653 - accuracy: 0.9407 - val_loss: 0.0887 - val_accuracy: 1.0000\n",
      "Epoch 87/120\n",
      "455/455 [==============================] - 0s 42us/step - loss: 0.1640 - accuracy: 0.9407 - val_loss: 0.0871 - val_accuracy: 1.0000\n",
      "Epoch 88/120\n",
      "455/455 [==============================] - 0s 43us/step - loss: 0.1627 - accuracy: 0.9407 - val_loss: 0.0863 - val_accuracy: 1.0000\n",
      "Epoch 89/120\n",
      "455/455 [==============================] - 0s 43us/step - loss: 0.1613 - accuracy: 0.9407 - val_loss: 0.0854 - val_accuracy: 1.0000\n",
      "Epoch 90/120\n",
      "455/455 [==============================] - 0s 42us/step - loss: 0.1600 - accuracy: 0.9385 - val_loss: 0.0850 - val_accuracy: 1.0000\n",
      "Epoch 91/120\n",
      "455/455 [==============================] - 0s 43us/step - loss: 0.1586 - accuracy: 0.9385 - val_loss: 0.0842 - val_accuracy: 1.0000\n",
      "Epoch 92/120\n",
      "455/455 [==============================] - 0s 43us/step - loss: 0.1574 - accuracy: 0.9407 - val_loss: 0.0837 - val_accuracy: 1.0000\n",
      "Epoch 93/120\n",
      "455/455 [==============================] - 0s 42us/step - loss: 0.1561 - accuracy: 0.9407 - val_loss: 0.0833 - val_accuracy: 1.0000\n",
      "Epoch 94/120\n",
      "455/455 [==============================] - 0s 43us/step - loss: 0.1550 - accuracy: 0.9385 - val_loss: 0.0825 - val_accuracy: 1.0000\n",
      "Epoch 95/120\n",
      "455/455 [==============================] - 0s 44us/step - loss: 0.1538 - accuracy: 0.9385 - val_loss: 0.0816 - val_accuracy: 1.0000\n",
      "Epoch 96/120\n",
      "455/455 [==============================] - 0s 43us/step - loss: 0.1527 - accuracy: 0.9385 - val_loss: 0.0811 - val_accuracy: 1.0000\n",
      "Epoch 97/120\n",
      "455/455 [==============================] - 0s 42us/step - loss: 0.1516 - accuracy: 0.9429 - val_loss: 0.0804 - val_accuracy: 1.0000\n",
      "Epoch 98/120\n",
      "455/455 [==============================] - 0s 43us/step - loss: 0.1504 - accuracy: 0.9407 - val_loss: 0.0806 - val_accuracy: 1.0000\n",
      "Epoch 99/120\n",
      "455/455 [==============================] - 0s 43us/step - loss: 0.1493 - accuracy: 0.9451 - val_loss: 0.0806 - val_accuracy: 1.0000\n",
      "Epoch 100/120\n",
      "455/455 [==============================] - 0s 43us/step - loss: 0.1483 - accuracy: 0.9473 - val_loss: 0.0793 - val_accuracy: 1.0000\n",
      "Epoch 101/120\n",
      "455/455 [==============================] - 0s 44us/step - loss: 0.1473 - accuracy: 0.9451 - val_loss: 0.0784 - val_accuracy: 1.0000\n",
      "Epoch 102/120\n",
      "455/455 [==============================] - 0s 44us/step - loss: 0.1462 - accuracy: 0.9451 - val_loss: 0.0773 - val_accuracy: 1.0000\n",
      "Epoch 103/120\n",
      "455/455 [==============================] - 0s 44us/step - loss: 0.1452 - accuracy: 0.9473 - val_loss: 0.0772 - val_accuracy: 1.0000\n",
      "Epoch 104/120\n",
      "455/455 [==============================] - 0s 43us/step - loss: 0.1442 - accuracy: 0.9473 - val_loss: 0.0769 - val_accuracy: 1.0000\n",
      "Epoch 105/120\n",
      "455/455 [==============================] - 0s 43us/step - loss: 0.1432 - accuracy: 0.9451 - val_loss: 0.0767 - val_accuracy: 1.0000\n",
      "Epoch 106/120\n",
      "455/455 [==============================] - 0s 44us/step - loss: 0.1423 - accuracy: 0.9495 - val_loss: 0.0763 - val_accuracy: 1.0000\n",
      "Epoch 107/120\n",
      "455/455 [==============================] - 0s 43us/step - loss: 0.1413 - accuracy: 0.9495 - val_loss: 0.0753 - val_accuracy: 1.0000\n",
      "Epoch 108/120\n",
      "455/455 [==============================] - 0s 45us/step - loss: 0.1405 - accuracy: 0.9451 - val_loss: 0.0752 - val_accuracy: 1.0000\n",
      "Epoch 109/120\n",
      "455/455 [==============================] - 0s 42us/step - loss: 0.1395 - accuracy: 0.9495 - val_loss: 0.0747 - val_accuracy: 1.0000\n",
      "Epoch 110/120\n",
      "455/455 [==============================] - 0s 43us/step - loss: 0.1386 - accuracy: 0.9495 - val_loss: 0.0740 - val_accuracy: 1.0000\n",
      "Epoch 111/120\n",
      "455/455 [==============================] - 0s 43us/step - loss: 0.1378 - accuracy: 0.9495 - val_loss: 0.0735 - val_accuracy: 1.0000\n",
      "Epoch 112/120\n",
      "455/455 [==============================] - 0s 44us/step - loss: 0.1369 - accuracy: 0.9495 - val_loss: 0.0733 - val_accuracy: 1.0000\n",
      "Epoch 113/120\n"
     ]
    },
    {
     "name": "stdout",
     "output_type": "stream",
     "text": [
      "455/455 [==============================] - 0s 44us/step - loss: 0.1361 - accuracy: 0.9495 - val_loss: 0.0734 - val_accuracy: 1.0000\n",
      "Epoch 114/120\n",
      "455/455 [==============================] - 0s 43us/step - loss: 0.1354 - accuracy: 0.9495 - val_loss: 0.0727 - val_accuracy: 1.0000\n",
      "Epoch 115/120\n",
      "455/455 [==============================] - 0s 42us/step - loss: 0.1344 - accuracy: 0.9495 - val_loss: 0.0726 - val_accuracy: 1.0000\n",
      "Epoch 116/120\n",
      "455/455 [==============================] - 0s 42us/step - loss: 0.1337 - accuracy: 0.9516 - val_loss: 0.0717 - val_accuracy: 1.0000\n",
      "Epoch 117/120\n",
      "455/455 [==============================] - 0s 42us/step - loss: 0.1329 - accuracy: 0.9516 - val_loss: 0.0709 - val_accuracy: 1.0000\n",
      "Epoch 118/120\n",
      "455/455 [==============================] - 0s 42us/step - loss: 0.1322 - accuracy: 0.9516 - val_loss: 0.0702 - val_accuracy: 1.0000\n",
      "Epoch 119/120\n",
      "455/455 [==============================] - 0s 42us/step - loss: 0.1313 - accuracy: 0.9516 - val_loss: 0.0700 - val_accuracy: 1.0000\n",
      "Epoch 120/120\n",
      "455/455 [==============================] - 0s 42us/step - loss: 0.1307 - accuracy: 0.9516 - val_loss: 0.0695 - val_accuracy: 1.0000\n"
     ]
    }
   ],
   "source": [
    "#Training the model\n",
    "hist = model.fit(X_train, Y_train,\n",
    "                batch_size=40, epochs=120,\n",
    "                validation_data=(X_val, Y_val))"
   ]
  },
  {
   "cell_type": "markdown",
   "id": "182af3a1",
   "metadata": {},
   "source": [
    "## Performance Evaluation"
   ]
  },
  {
   "cell_type": "code",
   "execution_count": 21,
   "id": "d37b2ea1",
   "metadata": {
    "scrolled": true
   },
   "outputs": [
    {
     "name": "stdout",
     "output_type": "stream",
     "text": [
      "57/57 [==============================] - 0s 41us/step\n",
      "Accuracy score:  0.9473684430122375\n"
     ]
    }
   ],
   "source": [
    "accuracy = model.evaluate(X_test, Y_test)[1]\n",
    "print(\"Accuracy score: \", accuracy)"
   ]
  },
  {
   "cell_type": "code",
   "execution_count": 22,
   "id": "003fefda",
   "metadata": {},
   "outputs": [
    {
     "data": {
      "image/png": "[encoded data removed]",
      "text/plain": [
       "<Figure size 640x480 with 1 Axes>"
      ]
     },
     "metadata": {},
     "output_type": "display_data"
    }
   ],
   "source": [
    "#Plot training vs. validation accuracy\n",
    "plt.plot(hist.history['accuracy'])\n",
    "plt.plot(hist.history['val_accuracy'])\n",
    "plt.title('Model Accuracy')\n",
    "plt.ylabel('Accuracy')\n",
    "plt.xlabel('Epoch')\n",
    "plt.legend(['Train', 'Val'], loc='upper right')\n",
    "plt.show()"
   ]
  },
  {
   "cell_type": "code",
   "execution_count": 23,
   "id": "671c4cff",
   "metadata": {
    "scrolled": true
   },
   "outputs": [
    {
     "data": {
      "image/png": "[encoded data removed]",
      "text/plain": [
       "<Figure size 640x480 with 1 Axes>"
      ]
     },
     "metadata": {},
     "output_type": "display_data"
    }
   ],
   "source": [
    "#Plot training vs. validation loss\n",
    "plt.plot(hist.history['loss'])\n",
    "plt.plot(hist.history['val_loss'])\n",
    "plt.title('Model Loss')\n",
    "plt.ylabel('Loss')\n",
    "plt.xlabel('Epoch')\n",
    "plt.legend(['Train', 'Val'], loc='upper right')\n",
    "plt.show()"
   ]
  },
  {
   "cell_type": "code",
   "execution_count": 24,
   "id": "2fb1522b",
   "metadata": {},
   "outputs": [],
   "source": [
    "# Making predictions based on the testing dataset. The classification threshold is set at 0.5\n",
    "y_pred = model.predict(X_test)\n",
    "y_pred = (y_pred > 0.5)"
   ]
  },
  {
   "cell_type": "code",
   "execution_count": 25,
   "id": "254b9650",
   "metadata": {},
   "outputs": [
    {
     "name": "stdout",
     "output_type": "stream",
     "text": [
      "Precision score:  0.9705882352941176\n"
     ]
    }
   ],
   "source": [
    "from sklearn.metrics import precision_score\n",
    "precision = precision_score(Y_test, y_pred)\n",
    "print(\"Precision score: \", precision)"
   ]
  },
  {
   "cell_type": "code",
   "execution_count": 26,
   "id": "31efe5dd",
   "metadata": {},
   "outputs": [
    {
     "name": "stdout",
     "output_type": "stream",
     "text": [
      "Recall score:  0.9428571428571428\n"
     ]
    }
   ],
   "source": [
    "from sklearn.metrics import recall_score\n",
    "recall = recall_score(Y_test, y_pred)\n",
    "print(\"Recall score: \", recall)"
   ]
  },
  {
   "cell_type": "code",
   "execution_count": 27,
   "id": "d7d6d2da",
   "metadata": {},
   "outputs": [
    {
     "data": {
      "text/plain": [
       "Text(50.722222222222214, 0.5, 'True')"
      ]
     },
     "execution_count": 27,
     "metadata": {},
     "output_type": "execute_result"
    },
    {
     "data": {
      "image/png": "[encoded data removed]",
      "text/plain": [
       "<Figure size 640x480 with 2 Axes>"
      ]
     },
     "metadata": {},
     "output_type": "display_data"
    }
   ],
   "source": [
    "# Building the confusion matrix\n",
    "from sklearn.metrics import confusion_matrix\n",
    "import seaborn as sns\n",
    "\n",
    "cf_matrix = confusion_matrix(Y_test, y_pred)\n",
    "sns.heatmap(cf_matrix, annot=True, cmap='Oranges')\n",
    "plt.xlabel('Predicted', fontsize=12)\n",
    "plt.ylabel('True', fontsize=12)"
   ]
  },
  {
   "cell_type": "code",
   "execution_count": 28,
   "id": "a6fff530",
   "metadata": {},
   "outputs": [
    {
     "name": "stdout",
     "output_type": "stream",
     "text": [
      "AUC score:  0.9487012987012987\n"
     ]
    }
   ],
   "source": [
    "from sklearn.metrics import roc_curve, auc\n",
    "\n",
    "false_positive_rate, recall, thresholds = roc_curve(Y_test, y_pred)\n",
    "roc_auc = auc(false_positive_rate, recall)\n",
    "print(\"AUC score: \", roc_auc)"
   ]
  }
 ],
 "metadata": {
  "kernelspec": {
   "display_name": "Python 3 (ipykernel)",
   "language": "python",
   "name": "python3"
  },
  "language_info": {
   "codemirror_mode": {
    "name": "ipython",
    "version": 3
   },
   "file_extension": ".py",
   "mimetype": "text/x-python",
   "name": "python",
   "nbconvert_exporter": "python",
   "pygments_lexer": "ipython3",
   "version": "3.7.13"
  }
 },
 "nbformat": 4,
 "nbformat_minor": 5
}
