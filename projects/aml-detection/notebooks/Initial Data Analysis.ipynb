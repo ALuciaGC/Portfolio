{
 "cells": [
  {
   "cell_type": "markdown",
   "id": "2744a665",
   "metadata": {},
   "source": [
    "# Individual Data Analysis"
   ]
  },
  {
   "cell_type": "markdown",
   "id": "f3036a5c",
   "metadata": {},
   "source": [
    "# Accounts"
   ]
  },
  {
   "cell_type": "code",
   "execution_count": 1,
   "id": "a204bff7",
   "metadata": {},
   "outputs": [],
   "source": [
    "import pandas as pd\n",
    "import matplotlib.pyplot as plt\n",
    "import seaborn as sns\n",
    "import numpy as np\n",
    "\n",
    "%matplotlib inline"
   ]
  },
  {
   "cell_type": "code",
   "execution_count": 2,
   "id": "7ff560b0",
   "metadata": {},
   "outputs": [],
   "source": [
    "accounts = pd.read_csv('accounts.csv')"
   ]
  },
  {
   "cell_type": "code",
   "execution_count": 3,
   "id": "faf2777b",
   "metadata": {},
   "outputs": [
    {
     "data": {
      "text/html": [
       "<div>\n",
       "<style scoped>\n",
       "    .dataframe tbody tr th:only-of-type {\n",
       "        vertical-align: middle;\n",
       "    }\n",
       "\n",
       "    .dataframe tbody tr th {\n",
       "        vertical-align: top;\n",
       "    }\n",
       "\n",
       "    .dataframe thead th {\n",
       "        text-align: right;\n",
       "    }\n",
       "</style>\n",
       "<table border=\"1\" class=\"dataframe\">\n",
       "  <thead>\n",
       "    <tr style=\"text-align: right;\">\n",
       "      <th></th>\n",
       "      <th>ACCOUNT_ID</th>\n",
       "      <th>CUSTOMER_ID</th>\n",
       "      <th>INIT_BALANCE</th>\n",
       "      <th>COUNTRY</th>\n",
       "      <th>ACCOUNT_TYPE</th>\n",
       "      <th>IS_FRAUD</th>\n",
       "      <th>TX_BEHAVIOR_ID</th>\n",
       "    </tr>\n",
       "  </thead>\n",
       "  <tbody>\n",
       "    <tr>\n",
       "      <th>0</th>\n",
       "      <td>0</td>\n",
       "      <td>C_0</td>\n",
       "      <td>184.44</td>\n",
       "      <td>US</td>\n",
       "      <td>I</td>\n",
       "      <td>False</td>\n",
       "      <td>1</td>\n",
       "    </tr>\n",
       "    <tr>\n",
       "      <th>1</th>\n",
       "      <td>1</td>\n",
       "      <td>C_1</td>\n",
       "      <td>175.80</td>\n",
       "      <td>US</td>\n",
       "      <td>I</td>\n",
       "      <td>False</td>\n",
       "      <td>1</td>\n",
       "    </tr>\n",
       "    <tr>\n",
       "      <th>2</th>\n",
       "      <td>2</td>\n",
       "      <td>C_2</td>\n",
       "      <td>142.06</td>\n",
       "      <td>US</td>\n",
       "      <td>I</td>\n",
       "      <td>False</td>\n",
       "      <td>1</td>\n",
       "    </tr>\n",
       "    <tr>\n",
       "      <th>3</th>\n",
       "      <td>3</td>\n",
       "      <td>C_3</td>\n",
       "      <td>125.89</td>\n",
       "      <td>US</td>\n",
       "      <td>I</td>\n",
       "      <td>False</td>\n",
       "      <td>1</td>\n",
       "    </tr>\n",
       "    <tr>\n",
       "      <th>4</th>\n",
       "      <td>4</td>\n",
       "      <td>C_4</td>\n",
       "      <td>151.13</td>\n",
       "      <td>US</td>\n",
       "      <td>I</td>\n",
       "      <td>False</td>\n",
       "      <td>1</td>\n",
       "    </tr>\n",
       "    <tr>\n",
       "      <th>5</th>\n",
       "      <td>5</td>\n",
       "      <td>C_5</td>\n",
       "      <td>140.49</td>\n",
       "      <td>US</td>\n",
       "      <td>I</td>\n",
       "      <td>False</td>\n",
       "      <td>1</td>\n",
       "    </tr>\n",
       "    <tr>\n",
       "      <th>6</th>\n",
       "      <td>6</td>\n",
       "      <td>C_6</td>\n",
       "      <td>178.38</td>\n",
       "      <td>US</td>\n",
       "      <td>I</td>\n",
       "      <td>False</td>\n",
       "      <td>1</td>\n",
       "    </tr>\n",
       "    <tr>\n",
       "      <th>7</th>\n",
       "      <td>7</td>\n",
       "      <td>C_7</td>\n",
       "      <td>130.33</td>\n",
       "      <td>US</td>\n",
       "      <td>I</td>\n",
       "      <td>False</td>\n",
       "      <td>1</td>\n",
       "    </tr>\n",
       "    <tr>\n",
       "      <th>8</th>\n",
       "      <td>8</td>\n",
       "      <td>C_8</td>\n",
       "      <td>147.66</td>\n",
       "      <td>US</td>\n",
       "      <td>I</td>\n",
       "      <td>False</td>\n",
       "      <td>1</td>\n",
       "    </tr>\n",
       "    <tr>\n",
       "      <th>9</th>\n",
       "      <td>9</td>\n",
       "      <td>C_9</td>\n",
       "      <td>158.34</td>\n",
       "      <td>US</td>\n",
       "      <td>I</td>\n",
       "      <td>False</td>\n",
       "      <td>1</td>\n",
       "    </tr>\n",
       "  </tbody>\n",
       "</table>\n",
       "</div>"
      ],
      "text/plain": [
       "   ACCOUNT_ID CUSTOMER_ID  INIT_BALANCE COUNTRY ACCOUNT_TYPE  IS_FRAUD  \\\n",
       "0           0         C_0        184.44      US            I     False   \n",
       "1           1         C_1        175.80      US            I     False   \n",
       "2           2         C_2        142.06      US            I     False   \n",
       "3           3         C_3        125.89      US            I     False   \n",
       "4           4         C_4        151.13      US            I     False   \n",
       "5           5         C_5        140.49      US            I     False   \n",
       "6           6         C_6        178.38      US            I     False   \n",
       "7           7         C_7        130.33      US            I     False   \n",
       "8           8         C_8        147.66      US            I     False   \n",
       "9           9         C_9        158.34      US            I     False   \n",
       "\n",
       "   TX_BEHAVIOR_ID  \n",
       "0               1  \n",
       "1               1  \n",
       "2               1  \n",
       "3               1  \n",
       "4               1  \n",
       "5               1  \n",
       "6               1  \n",
       "7               1  \n",
       "8               1  \n",
       "9               1  "
      ]
     },
     "execution_count": 3,
     "metadata": {},
     "output_type": "execute_result"
    }
   ],
   "source": [
    "accounts.head(10)"
   ]
  },
  {
   "cell_type": "code",
   "execution_count": 4,
   "id": "de098574",
   "metadata": {},
   "outputs": [
    {
     "data": {
      "text/plain": [
       "(100000, 7)"
      ]
     },
     "execution_count": 4,
     "metadata": {},
     "output_type": "execute_result"
    }
   ],
   "source": [
    "accounts.shape"
   ]
  },
  {
   "cell_type": "code",
   "execution_count": 5,
   "id": "53c1d68e",
   "metadata": {},
   "outputs": [
    {
     "data": {
      "text/plain": [
       "Index(['ACCOUNT_ID', 'CUSTOMER_ID', 'INIT_BALANCE', 'COUNTRY', 'ACCOUNT_TYPE',\n",
       "       'IS_FRAUD', 'TX_BEHAVIOR_ID'],\n",
       "      dtype='object')"
      ]
     },
     "execution_count": 5,
     "metadata": {},
     "output_type": "execute_result"
    }
   ],
   "source": [
    "accounts.columns"
   ]
  },
  {
   "cell_type": "code",
   "execution_count": 6,
   "id": "1212b607",
   "metadata": {
    "scrolled": false
   },
   "outputs": [
    {
     "data": {
      "text/plain": [
       "ACCOUNT_ID          int64\n",
       "CUSTOMER_ID        object\n",
       "INIT_BALANCE      float64\n",
       "COUNTRY            object\n",
       "ACCOUNT_TYPE       object\n",
       "IS_FRAUD             bool\n",
       "TX_BEHAVIOR_ID      int64\n",
       "dtype: object"
      ]
     },
     "execution_count": 6,
     "metadata": {},
     "output_type": "execute_result"
    }
   ],
   "source": [
    "accounts.dtypes"
   ]
  },
  {
   "cell_type": "code",
   "execution_count": 7,
   "id": "89978d4a",
   "metadata": {},
   "outputs": [
    {
     "data": {
      "text/plain": [
       "100000"
      ]
     },
     "execution_count": 7,
     "metadata": {},
     "output_type": "execute_result"
    }
   ],
   "source": [
    "#making sure that there are no repeated account IDs\n",
    "accounts.ACCOUNT_ID.nunique()"
   ]
  },
  {
   "cell_type": "code",
   "execution_count": 8,
   "id": "3c881e18",
   "metadata": {},
   "outputs": [
    {
     "data": {
      "text/plain": [
       "100000"
      ]
     },
     "execution_count": 8,
     "metadata": {},
     "output_type": "execute_result"
    }
   ],
   "source": [
    "#making sure that there are no repeated customer IDs\n",
    "accounts.CUSTOMER_ID.nunique()"
   ]
  },
  {
   "cell_type": "code",
   "execution_count": 9,
   "id": "12ced8c1",
   "metadata": {
    "scrolled": true
   },
   "outputs": [
    {
     "data": {
      "text/plain": [
       "1    20000\n",
       "2    20000\n",
       "3    20000\n",
       "4    20000\n",
       "5    20000\n",
       "Name: TX_BEHAVIOR_ID, dtype: int64"
      ]
     },
     "execution_count": 9,
     "metadata": {},
     "output_type": "execute_result"
    }
   ],
   "source": [
    "accounts.TX_BEHAVIOR_ID.value_counts()"
   ]
  },
  {
   "cell_type": "markdown",
   "id": "1eb5c1ec",
   "metadata": {},
   "source": [
    "While marked as integer, the contents of Behavior ID seem to be categorical, for which they will be transformed to obect."
   ]
  },
  {
   "cell_type": "code",
   "execution_count": 10,
   "id": "2248fb8c",
   "metadata": {},
   "outputs": [],
   "source": [
    "accounts['TX_BEHAVIOR_ID'] = accounts['TX_BEHAVIOR_ID'].astype(str)"
   ]
  },
  {
   "cell_type": "code",
   "execution_count": 11,
   "id": "a67072bb",
   "metadata": {},
   "outputs": [
    {
     "name": "stdout",
     "output_type": "stream",
     "text": [
      "ACCOUNT_ID          int64\n",
      "CUSTOMER_ID        object\n",
      "INIT_BALANCE      float64\n",
      "COUNTRY            object\n",
      "ACCOUNT_TYPE       object\n",
      "IS_FRAUD             bool\n",
      "TX_BEHAVIOR_ID     object\n",
      "dtype: object\n"
     ]
    }
   ],
   "source": [
    "print(accounts.dtypes)"
   ]
  },
  {
   "cell_type": "code",
   "execution_count": 12,
   "id": "592d81a6",
   "metadata": {},
   "outputs": [
    {
     "name": "stdout",
     "output_type": "stream",
     "text": [
      "\n",
      "Frequency count for COUNTRY:\n",
      "US    100000\n",
      "Name: COUNTRY, dtype: int64\n",
      "\n",
      "Frequency count for ACCOUNT_TYPE:\n",
      "I    100000\n",
      "Name: ACCOUNT_TYPE, dtype: int64\n",
      "\n",
      "Frequency count for IS_FRAUD:\n",
      "False    82909\n",
      "True     17091\n",
      "Name: IS_FRAUD, dtype: int64\n",
      "\n",
      "Frequency count for TX_BEHAVIOR_ID:\n",
      "1    20000\n",
      "2    20000\n",
      "3    20000\n",
      "4    20000\n",
      "5    20000\n",
      "Name: TX_BEHAVIOR_ID, dtype: int64\n"
     ]
    }
   ],
   "source": [
    "for col in ['COUNTRY', 'ACCOUNT_TYPE', 'IS_FRAUD', 'TX_BEHAVIOR_ID']:\n",
    "    print(f'\\nFrequency count for {col}:')\n",
    "    print(accounts[col].value_counts())"
   ]
  },
  {
   "cell_type": "markdown",
   "id": "c4966160",
   "metadata": {},
   "source": [
    "Country and Account Type Columns are irrelevant, as they contain one unique value each"
   ]
  },
  {
   "cell_type": "code",
   "execution_count": 13,
   "id": "d6df271f",
   "metadata": {},
   "outputs": [],
   "source": [
    "accounts.drop(['COUNTRY', 'ACCOUNT_TYPE'], axis=1, inplace=True)"
   ]
  },
  {
   "cell_type": "code",
   "execution_count": 14,
   "id": "d5b12918",
   "metadata": {},
   "outputs": [
    {
     "data": {
      "text/html": [
       "<div>\n",
       "<style scoped>\n",
       "    .dataframe tbody tr th:only-of-type {\n",
       "        vertical-align: middle;\n",
       "    }\n",
       "\n",
       "    .dataframe tbody tr th {\n",
       "        vertical-align: top;\n",
       "    }\n",
       "\n",
       "    .dataframe thead th {\n",
       "        text-align: right;\n",
       "    }\n",
       "</style>\n",
       "<table border=\"1\" class=\"dataframe\">\n",
       "  <thead>\n",
       "    <tr style=\"text-align: right;\">\n",
       "      <th></th>\n",
       "      <th>ACCOUNT_ID</th>\n",
       "      <th>CUSTOMER_ID</th>\n",
       "      <th>INIT_BALANCE</th>\n",
       "      <th>IS_FRAUD</th>\n",
       "      <th>TX_BEHAVIOR_ID</th>\n",
       "    </tr>\n",
       "  </thead>\n",
       "  <tbody>\n",
       "    <tr>\n",
       "      <th>0</th>\n",
       "      <td>0</td>\n",
       "      <td>C_0</td>\n",
       "      <td>184.44</td>\n",
       "      <td>False</td>\n",
       "      <td>1</td>\n",
       "    </tr>\n",
       "    <tr>\n",
       "      <th>1</th>\n",
       "      <td>1</td>\n",
       "      <td>C_1</td>\n",
       "      <td>175.80</td>\n",
       "      <td>False</td>\n",
       "      <td>1</td>\n",
       "    </tr>\n",
       "    <tr>\n",
       "      <th>2</th>\n",
       "      <td>2</td>\n",
       "      <td>C_2</td>\n",
       "      <td>142.06</td>\n",
       "      <td>False</td>\n",
       "      <td>1</td>\n",
       "    </tr>\n",
       "    <tr>\n",
       "      <th>3</th>\n",
       "      <td>3</td>\n",
       "      <td>C_3</td>\n",
       "      <td>125.89</td>\n",
       "      <td>False</td>\n",
       "      <td>1</td>\n",
       "    </tr>\n",
       "    <tr>\n",
       "      <th>4</th>\n",
       "      <td>4</td>\n",
       "      <td>C_4</td>\n",
       "      <td>151.13</td>\n",
       "      <td>False</td>\n",
       "      <td>1</td>\n",
       "    </tr>\n",
       "    <tr>\n",
       "      <th>...</th>\n",
       "      <td>...</td>\n",
       "      <td>...</td>\n",
       "      <td>...</td>\n",
       "      <td>...</td>\n",
       "      <td>...</td>\n",
       "    </tr>\n",
       "    <tr>\n",
       "      <th>99995</th>\n",
       "      <td>99995</td>\n",
       "      <td>C_99995</td>\n",
       "      <td>327.16</td>\n",
       "      <td>True</td>\n",
       "      <td>5</td>\n",
       "    </tr>\n",
       "    <tr>\n",
       "      <th>99996</th>\n",
       "      <td>99996</td>\n",
       "      <td>C_99996</td>\n",
       "      <td>273.99</td>\n",
       "      <td>False</td>\n",
       "      <td>5</td>\n",
       "    </tr>\n",
       "    <tr>\n",
       "      <th>99997</th>\n",
       "      <td>99997</td>\n",
       "      <td>C_99997</td>\n",
       "      <td>289.10</td>\n",
       "      <td>True</td>\n",
       "      <td>5</td>\n",
       "    </tr>\n",
       "    <tr>\n",
       "      <th>99998</th>\n",
       "      <td>99998</td>\n",
       "      <td>C_99998</td>\n",
       "      <td>223.91</td>\n",
       "      <td>True</td>\n",
       "      <td>5</td>\n",
       "    </tr>\n",
       "    <tr>\n",
       "      <th>99999</th>\n",
       "      <td>99999</td>\n",
       "      <td>C_99999</td>\n",
       "      <td>390.89</td>\n",
       "      <td>True</td>\n",
       "      <td>5</td>\n",
       "    </tr>\n",
       "  </tbody>\n",
       "</table>\n",
       "<p>100000 rows × 5 columns</p>\n",
       "</div>"
      ],
      "text/plain": [
       "       ACCOUNT_ID CUSTOMER_ID  INIT_BALANCE  IS_FRAUD TX_BEHAVIOR_ID\n",
       "0               0         C_0        184.44     False              1\n",
       "1               1         C_1        175.80     False              1\n",
       "2               2         C_2        142.06     False              1\n",
       "3               3         C_3        125.89     False              1\n",
       "4               4         C_4        151.13     False              1\n",
       "...           ...         ...           ...       ...            ...\n",
       "99995       99995     C_99995        327.16      True              5\n",
       "99996       99996     C_99996        273.99     False              5\n",
       "99997       99997     C_99997        289.10      True              5\n",
       "99998       99998     C_99998        223.91      True              5\n",
       "99999       99999     C_99999        390.89      True              5\n",
       "\n",
       "[100000 rows x 5 columns]"
      ]
     },
     "execution_count": 14,
     "metadata": {},
     "output_type": "execute_result"
    }
   ],
   "source": [
    "accounts"
   ]
  },
  {
   "cell_type": "code",
   "execution_count": 15,
   "id": "c21fedd1",
   "metadata": {
    "scrolled": true
   },
   "outputs": [
    {
     "data": {
      "text/html": [
       "<div>\n",
       "<style scoped>\n",
       "    .dataframe tbody tr th:only-of-type {\n",
       "        vertical-align: middle;\n",
       "    }\n",
       "\n",
       "    .dataframe tbody tr th {\n",
       "        vertical-align: top;\n",
       "    }\n",
       "\n",
       "    .dataframe thead th {\n",
       "        text-align: right;\n",
       "    }\n",
       "</style>\n",
       "<table border=\"1\" class=\"dataframe\">\n",
       "  <thead>\n",
       "    <tr style=\"text-align: right;\">\n",
       "      <th></th>\n",
       "      <th>ACCOUNT_ID</th>\n",
       "      <th>INIT_BALANCE</th>\n",
       "    </tr>\n",
       "  </thead>\n",
       "  <tbody>\n",
       "    <tr>\n",
       "      <th>count</th>\n",
       "      <td>100000.000000</td>\n",
       "      <td>100000.000000</td>\n",
       "    </tr>\n",
       "    <tr>\n",
       "      <th>mean</th>\n",
       "      <td>49999.500000</td>\n",
       "      <td>279.888703</td>\n",
       "    </tr>\n",
       "    <tr>\n",
       "      <th>std</th>\n",
       "      <td>28867.657797</td>\n",
       "      <td>137.568366</td>\n",
       "    </tr>\n",
       "    <tr>\n",
       "      <th>min</th>\n",
       "      <td>0.000000</td>\n",
       "      <td>100.000000</td>\n",
       "    </tr>\n",
       "    <tr>\n",
       "      <th>25%</th>\n",
       "      <td>24999.750000</td>\n",
       "      <td>162.465000</td>\n",
       "    </tr>\n",
       "    <tr>\n",
       "      <th>50%</th>\n",
       "      <td>49999.500000</td>\n",
       "      <td>249.190000</td>\n",
       "    </tr>\n",
       "    <tr>\n",
       "      <th>75%</th>\n",
       "      <td>74999.250000</td>\n",
       "      <td>374.672500</td>\n",
       "    </tr>\n",
       "    <tr>\n",
       "      <th>max</th>\n",
       "      <td>99999.000000</td>\n",
       "      <td>599.990000</td>\n",
       "    </tr>\n",
       "  </tbody>\n",
       "</table>\n",
       "</div>"
      ],
      "text/plain": [
       "          ACCOUNT_ID   INIT_BALANCE\n",
       "count  100000.000000  100000.000000\n",
       "mean    49999.500000     279.888703\n",
       "std     28867.657797     137.568366\n",
       "min         0.000000     100.000000\n",
       "25%     24999.750000     162.465000\n",
       "50%     49999.500000     249.190000\n",
       "75%     74999.250000     374.672500\n",
       "max     99999.000000     599.990000"
      ]
     },
     "execution_count": 15,
     "metadata": {},
     "output_type": "execute_result"
    }
   ],
   "source": [
    "accounts.describe()"
   ]
  },
  {
   "cell_type": "markdown",
   "id": "ea9e95a8",
   "metadata": {},
   "source": [
    "The mean in ACCOUNT_ID indicates a uniform distribution of IDs from 0 to 99,999. This is further confirmed by the standard deviation, showing a typical broad spectrum of account IDs over the range.\n",
    "\n",
    "In terms of INIT_BALANCE, the mean shows that the average initial balance is approx. $279. The standaed deviation indicates variability in the initial balances amongst the accounts. "
   ]
  },
  {
   "cell_type": "code",
   "execution_count": 16,
   "id": "3cdcf78a",
   "metadata": {},
   "outputs": [],
   "source": [
    "sns.set(style='whitegrid')"
   ]
  },
  {
   "cell_type": "code",
   "execution_count": 17,
   "id": "81eeda70",
   "metadata": {},
   "outputs": [
    {
     "name": "stdout",
     "output_type": "stream",
     "text": [
      "Counts:\n",
      "False    82909\n",
      "True     17091\n",
      "Name: IS_FRAUD, dtype: int64\n",
      "\n",
      "Percentages:\n",
      "False    82.909\n",
      "True     17.091\n",
      "Name: IS_FRAUD, dtype: float64\n"
     ]
    }
   ],
   "source": [
    "# Calculate value counts\n",
    "fraud_counts = accounts['IS_FRAUD'].value_counts()\n",
    "\n",
    "# Calculate percentages\n",
    "fraud_percentages = accounts['IS_FRAUD'].value_counts(normalize=True) * 100\n",
    "\n",
    "# Display counts and percentages\n",
    "print(\"Counts:\")\n",
    "print(fraud_counts)\n",
    "print(\"\\nPercentages:\")\n",
    "print(fraud_percentages)"
   ]
  },
  {
   "cell_type": "code",
   "execution_count": 18,
   "id": "a87d702d",
   "metadata": {},
   "outputs": [
    {
     "data": {
      "image/png": "[encoded data removed]",
      "text/plain": [
       "<Figure size 576x432 with 1 Axes>"
      ]
     },
     "metadata": {},
     "output_type": "display_data"
    }
   ],
   "source": [
    "plt.figure(figsize=(8,6))\n",
    "sns.countplot(x='IS_FRAUD', data=accounts, palette='coolwarm')\n",
    "plt.title('Distribution of Fraudulent and Non Fraudulent Accounts')\n",
    "plt.xlabel('Is Fraudulent')\n",
    "plt.ylabel('Count')\n",
    "plt.xticks([0, 1], ['Not Fraudulent', 'Fraudulent'])\n",
    "plt.show()"
   ]
  },
  {
   "cell_type": "code",
   "execution_count": 19,
   "id": "f2b850b3",
   "metadata": {
    "scrolled": false
   },
   "outputs": [
    {
     "data": {
      "text/plain": [
       "<function matplotlib.pyplot.show(close=None, block=None)>"
      ]
     },
     "execution_count": 19,
     "metadata": {},
     "output_type": "execute_result"
    },
    {
     "data": {
      "image/png": "[encoded data removed]",
      "text/plain": [
       "<Figure size 720x432 with 1 Axes>"
      ]
     },
     "metadata": {},
     "output_type": "display_data"
    }
   ],
   "source": [
    "plt.figure(figsize=(10,6))\n",
    "sns.histplot(accounts['INIT_BALANCE'], kde=True, color='blue')\n",
    "plt.title('Histogram of Initial Balances')\n",
    "plt.xlabel('Initial Balance')\n",
    "plt.ylabel('Frequency')\n",
    "plt.show"
   ]
  },
  {
   "cell_type": "code",
   "execution_count": 20,
   "id": "777cd965",
   "metadata": {
    "scrolled": false
   },
   "outputs": [
    {
     "data": {
      "image/png": "[encoded data removed]",
      "text/plain": [
       "<Figure size 720x432 with 1 Axes>"
      ]
     },
     "metadata": {},
     "output_type": "display_data"
    }
   ],
   "source": [
    "plt.figure(figsize=(10, 6))\n",
    "sns.violinplot(x='IS_FRAUD', y='INIT_BALANCE', data=accounts, palette='coolwarm')\n",
    "plt.title('Initial Balance Distribution by Fraudulent Status')\n",
    "plt.xlabel('Is Fraudulent')\n",
    "plt.ylabel('Initial Balance')\n",
    "plt.xticks([0,1], ['Non Fraudulent', 'Fraudulent'])\n",
    "plt.show()"
   ]
  },
  {
   "cell_type": "code",
   "execution_count": 21,
   "id": "5535e34c",
   "metadata": {
    "scrolled": true
   },
   "outputs": [
    {
     "data": {
      "image/png": "[encoded data removed]",
      "text/plain": [
       "<Figure size 720x432 with 1 Axes>"
      ]
     },
     "metadata": {},
     "output_type": "display_data"
    }
   ],
   "source": [
    "plt.figure(figsize=(10, 6))\n",
    "sns.countplot(x='TX_BEHAVIOR_ID', hue='IS_FRAUD', data=accounts, palette='coolwarm')\n",
    "plt.title('Count of Fraudulent and Non-Fraudulent Transactions by Transaction Behavior ID')\n",
    "plt.xlabel('Transaction Behavior ID')\n",
    "plt.ylabel('Count')\n",
    "plt.legend(title='Is Fraudulent', labels=['Not Fraudulent', 'Fraudulent'])\n",
    "plt.show()"
   ]
  },
  {
   "cell_type": "code",
   "execution_count": 22,
   "id": "b3542a25",
   "metadata": {},
   "outputs": [
    {
     "data": {
      "image/png": "[encoded data removed]",
      "text/plain": [
       "<Figure size 720x432 with 2 Axes>"
      ]
     },
     "metadata": {},
     "output_type": "display_data"
    }
   ],
   "source": [
    "plt.figure(figsize=(10, 6))\n",
    "sns.heatmap(accounts.corr(), annot=True, fmt=\".2f\", cmap='coolwarm')\n",
    "plt.title('Heatmap of Correlation Matrix')\n",
    "plt.show()"
   ]
  },
  {
   "cell_type": "markdown",
   "id": "6aa32235",
   "metadata": {},
   "source": [
    "# Transactions"
   ]
  },
  {
   "cell_type": "code",
   "execution_count": 23,
   "id": "3327be5e",
   "metadata": {},
   "outputs": [],
   "source": [
    "transactions = pd.read_csv('transactions.csv')"
   ]
  },
  {
   "cell_type": "code",
   "execution_count": 24,
   "id": "f739bada",
   "metadata": {},
   "outputs": [
    {
     "data": {
      "text/html": [
       "<div>\n",
       "<style scoped>\n",
       "    .dataframe tbody tr th:only-of-type {\n",
       "        vertical-align: middle;\n",
       "    }\n",
       "\n",
       "    .dataframe tbody tr th {\n",
       "        vertical-align: top;\n",
       "    }\n",
       "\n",
       "    .dataframe thead th {\n",
       "        text-align: right;\n",
       "    }\n",
       "</style>\n",
       "<table border=\"1\" class=\"dataframe\">\n",
       "  <thead>\n",
       "    <tr style=\"text-align: right;\">\n",
       "      <th></th>\n",
       "      <th>TX_ID</th>\n",
       "      <th>SENDER_ACCOUNT_ID</th>\n",
       "      <th>RECEIVER_ACCOUNT_ID</th>\n",
       "      <th>TX_TYPE</th>\n",
       "      <th>TX_AMOUNT</th>\n",
       "      <th>TIMESTAMP</th>\n",
       "      <th>IS_FRAUD</th>\n",
       "      <th>ALERT_ID</th>\n",
       "    </tr>\n",
       "  </thead>\n",
       "  <tbody>\n",
       "    <tr>\n",
       "      <th>0</th>\n",
       "      <td>1</td>\n",
       "      <td>5942</td>\n",
       "      <td>92982</td>\n",
       "      <td>TRANSFER</td>\n",
       "      <td>516.95</td>\n",
       "      <td>0</td>\n",
       "      <td>False</td>\n",
       "      <td>-1</td>\n",
       "    </tr>\n",
       "    <tr>\n",
       "      <th>1</th>\n",
       "      <td>2</td>\n",
       "      <td>86700</td>\n",
       "      <td>43995</td>\n",
       "      <td>TRANSFER</td>\n",
       "      <td>197.88</td>\n",
       "      <td>0</td>\n",
       "      <td>False</td>\n",
       "      <td>-1</td>\n",
       "    </tr>\n",
       "    <tr>\n",
       "      <th>2</th>\n",
       "      <td>3</td>\n",
       "      <td>86700</td>\n",
       "      <td>95516</td>\n",
       "      <td>TRANSFER</td>\n",
       "      <td>197.88</td>\n",
       "      <td>0</td>\n",
       "      <td>False</td>\n",
       "      <td>-1</td>\n",
       "    </tr>\n",
       "    <tr>\n",
       "      <th>3</th>\n",
       "      <td>4</td>\n",
       "      <td>86700</td>\n",
       "      <td>83911</td>\n",
       "      <td>TRANSFER</td>\n",
       "      <td>197.88</td>\n",
       "      <td>0</td>\n",
       "      <td>False</td>\n",
       "      <td>-1</td>\n",
       "    </tr>\n",
       "    <tr>\n",
       "      <th>4</th>\n",
       "      <td>5</td>\n",
       "      <td>86700</td>\n",
       "      <td>82801</td>\n",
       "      <td>TRANSFER</td>\n",
       "      <td>197.88</td>\n",
       "      <td>0</td>\n",
       "      <td>False</td>\n",
       "      <td>-1</td>\n",
       "    </tr>\n",
       "    <tr>\n",
       "      <th>5</th>\n",
       "      <td>6</td>\n",
       "      <td>86700</td>\n",
       "      <td>10605</td>\n",
       "      <td>TRANSFER</td>\n",
       "      <td>197.88</td>\n",
       "      <td>0</td>\n",
       "      <td>False</td>\n",
       "      <td>-1</td>\n",
       "    </tr>\n",
       "    <tr>\n",
       "      <th>6</th>\n",
       "      <td>7</td>\n",
       "      <td>86700</td>\n",
       "      <td>88864</td>\n",
       "      <td>TRANSFER</td>\n",
       "      <td>197.88</td>\n",
       "      <td>0</td>\n",
       "      <td>False</td>\n",
       "      <td>-1</td>\n",
       "    </tr>\n",
       "    <tr>\n",
       "      <th>7</th>\n",
       "      <td>8</td>\n",
       "      <td>86700</td>\n",
       "      <td>25971</td>\n",
       "      <td>TRANSFER</td>\n",
       "      <td>197.88</td>\n",
       "      <td>0</td>\n",
       "      <td>False</td>\n",
       "      <td>-1</td>\n",
       "    </tr>\n",
       "    <tr>\n",
       "      <th>8</th>\n",
       "      <td>9</td>\n",
       "      <td>86700</td>\n",
       "      <td>74981</td>\n",
       "      <td>TRANSFER</td>\n",
       "      <td>197.88</td>\n",
       "      <td>0</td>\n",
       "      <td>False</td>\n",
       "      <td>-1</td>\n",
       "    </tr>\n",
       "    <tr>\n",
       "      <th>9</th>\n",
       "      <td>10</td>\n",
       "      <td>86700</td>\n",
       "      <td>42920</td>\n",
       "      <td>TRANSFER</td>\n",
       "      <td>197.88</td>\n",
       "      <td>0</td>\n",
       "      <td>False</td>\n",
       "      <td>-1</td>\n",
       "    </tr>\n",
       "  </tbody>\n",
       "</table>\n",
       "</div>"
      ],
      "text/plain": [
       "   TX_ID  SENDER_ACCOUNT_ID  RECEIVER_ACCOUNT_ID   TX_TYPE  TX_AMOUNT  \\\n",
       "0      1               5942                92982  TRANSFER     516.95   \n",
       "1      2              86700                43995  TRANSFER     197.88   \n",
       "2      3              86700                95516  TRANSFER     197.88   \n",
       "3      4              86700                83911  TRANSFER     197.88   \n",
       "4      5              86700                82801  TRANSFER     197.88   \n",
       "5      6              86700                10605  TRANSFER     197.88   \n",
       "6      7              86700                88864  TRANSFER     197.88   \n",
       "7      8              86700                25971  TRANSFER     197.88   \n",
       "8      9              86700                74981  TRANSFER     197.88   \n",
       "9     10              86700                42920  TRANSFER     197.88   \n",
       "\n",
       "   TIMESTAMP  IS_FRAUD  ALERT_ID  \n",
       "0          0     False        -1  \n",
       "1          0     False        -1  \n",
       "2          0     False        -1  \n",
       "3          0     False        -1  \n",
       "4          0     False        -1  \n",
       "5          0     False        -1  \n",
       "6          0     False        -1  \n",
       "7          0     False        -1  \n",
       "8          0     False        -1  \n",
       "9          0     False        -1  "
      ]
     },
     "execution_count": 24,
     "metadata": {},
     "output_type": "execute_result"
    }
   ],
   "source": [
    "transactions.head(10)"
   ]
  },
  {
   "cell_type": "code",
   "execution_count": 25,
   "id": "3e8c1061",
   "metadata": {},
   "outputs": [
    {
     "data": {
      "text/plain": [
       "(12476012, 8)"
      ]
     },
     "execution_count": 25,
     "metadata": {},
     "output_type": "execute_result"
    }
   ],
   "source": [
    "transactions.shape"
   ]
  },
  {
   "cell_type": "code",
   "execution_count": 26,
   "id": "5c3c1af0",
   "metadata": {},
   "outputs": [
    {
     "data": {
      "text/plain": [
       "Index(['TX_ID', 'SENDER_ACCOUNT_ID', 'RECEIVER_ACCOUNT_ID', 'TX_TYPE',\n",
       "       'TX_AMOUNT', 'TIMESTAMP', 'IS_FRAUD', 'ALERT_ID'],\n",
       "      dtype='object')"
      ]
     },
     "execution_count": 26,
     "metadata": {},
     "output_type": "execute_result"
    }
   ],
   "source": [
    "transactions.columns"
   ]
  },
  {
   "cell_type": "code",
   "execution_count": 27,
   "id": "7da87ce1",
   "metadata": {},
   "outputs": [
    {
     "data": {
      "text/plain": [
       "TX_ID                    int64\n",
       "SENDER_ACCOUNT_ID        int64\n",
       "RECEIVER_ACCOUNT_ID      int64\n",
       "TX_TYPE                 object\n",
       "TX_AMOUNT              float64\n",
       "TIMESTAMP                int64\n",
       "IS_FRAUD                  bool\n",
       "ALERT_ID                 int64\n",
       "dtype: object"
      ]
     },
     "execution_count": 27,
     "metadata": {},
     "output_type": "execute_result"
    }
   ],
   "source": [
    "transactions.dtypes"
   ]
  },
  {
   "cell_type": "code",
   "execution_count": 28,
   "id": "ca02f746",
   "metadata": {},
   "outputs": [
    {
     "name": "stdout",
     "output_type": "stream",
     "text": [
      "TX_ID                    int64\n",
      "SENDER_ACCOUNT_ID        int64\n",
      "RECEIVER_ACCOUNT_ID      int64\n",
      "TX_TYPE                 object\n",
      "TX_AMOUNT              float64\n",
      "TIMESTAMP                int64\n",
      "IS_FRAUD                  bool\n",
      "ALERT_ID                object\n",
      "dtype: object\n"
     ]
    }
   ],
   "source": [
    "transactions['ALERT_ID'] = transactions['ALERT_ID'].astype(str)\n",
    "print(transactions.dtypes)"
   ]
  },
  {
   "cell_type": "code",
   "execution_count": 29,
   "id": "8d006b73",
   "metadata": {},
   "outputs": [
    {
     "data": {
      "text/html": [
       "<div>\n",
       "<style scoped>\n",
       "    .dataframe tbody tr th:only-of-type {\n",
       "        vertical-align: middle;\n",
       "    }\n",
       "\n",
       "    .dataframe tbody tr th {\n",
       "        vertical-align: top;\n",
       "    }\n",
       "\n",
       "    .dataframe thead th {\n",
       "        text-align: right;\n",
       "    }\n",
       "</style>\n",
       "<table border=\"1\" class=\"dataframe\">\n",
       "  <thead>\n",
       "    <tr style=\"text-align: right;\">\n",
       "      <th></th>\n",
       "      <th>TX_ID</th>\n",
       "      <th>SENDER_ACCOUNT_ID</th>\n",
       "      <th>RECEIVER_ACCOUNT_ID</th>\n",
       "      <th>TX_AMOUNT</th>\n",
       "      <th>TIMESTAMP</th>\n",
       "    </tr>\n",
       "  </thead>\n",
       "  <tbody>\n",
       "    <tr>\n",
       "      <th>count</th>\n",
       "      <td>1.247601e+07</td>\n",
       "      <td>1.247601e+07</td>\n",
       "      <td>1.247601e+07</td>\n",
       "      <td>1.247601e+07</td>\n",
       "      <td>1.247601e+07</td>\n",
       "    </tr>\n",
       "    <tr>\n",
       "      <th>mean</th>\n",
       "      <td>6.238006e+06</td>\n",
       "      <td>4.954179e+04</td>\n",
       "      <td>4.953202e+04</td>\n",
       "      <td>2.264288e+04</td>\n",
       "      <td>9.945583e+01</td>\n",
       "    </tr>\n",
       "    <tr>\n",
       "      <th>std</th>\n",
       "      <td>3.601515e+06</td>\n",
       "      <td>2.884096e+04</td>\n",
       "      <td>2.881305e+04</td>\n",
       "      <td>3.428947e+05</td>\n",
       "      <td>5.771132e+01</td>\n",
       "    </tr>\n",
       "    <tr>\n",
       "      <th>min</th>\n",
       "      <td>1.000000e+00</td>\n",
       "      <td>0.000000e+00</td>\n",
       "      <td>0.000000e+00</td>\n",
       "      <td>0.000000e+00</td>\n",
       "      <td>0.000000e+00</td>\n",
       "    </tr>\n",
       "    <tr>\n",
       "      <th>25%</th>\n",
       "      <td>3.119004e+06</td>\n",
       "      <td>2.500700e+04</td>\n",
       "      <td>2.398900e+04</td>\n",
       "      <td>2.129000e+01</td>\n",
       "      <td>4.900000e+01</td>\n",
       "    </tr>\n",
       "    <tr>\n",
       "      <th>50%</th>\n",
       "      <td>6.238006e+06</td>\n",
       "      <td>4.993600e+04</td>\n",
       "      <td>4.882500e+04</td>\n",
       "      <td>1.547100e+02</td>\n",
       "      <td>9.900000e+01</td>\n",
       "    </tr>\n",
       "    <tr>\n",
       "      <th>75%</th>\n",
       "      <td>9.357009e+06</td>\n",
       "      <td>7.500600e+04</td>\n",
       "      <td>7.395500e+04</td>\n",
       "      <td>4.477900e+02</td>\n",
       "      <td>1.490000e+02</td>\n",
       "    </tr>\n",
       "    <tr>\n",
       "      <th>max</th>\n",
       "      <td>1.247601e+07</td>\n",
       "      <td>9.999900e+04</td>\n",
       "      <td>9.999900e+04</td>\n",
       "      <td>2.147484e+07</td>\n",
       "      <td>1.990000e+02</td>\n",
       "    </tr>\n",
       "  </tbody>\n",
       "</table>\n",
       "</div>"
      ],
      "text/plain": [
       "              TX_ID  SENDER_ACCOUNT_ID  RECEIVER_ACCOUNT_ID     TX_AMOUNT  \\\n",
       "count  1.247601e+07       1.247601e+07         1.247601e+07  1.247601e+07   \n",
       "mean   6.238006e+06       4.954179e+04         4.953202e+04  2.264288e+04   \n",
       "std    3.601515e+06       2.884096e+04         2.881305e+04  3.428947e+05   \n",
       "min    1.000000e+00       0.000000e+00         0.000000e+00  0.000000e+00   \n",
       "25%    3.119004e+06       2.500700e+04         2.398900e+04  2.129000e+01   \n",
       "50%    6.238006e+06       4.993600e+04         4.882500e+04  1.547100e+02   \n",
       "75%    9.357009e+06       7.500600e+04         7.395500e+04  4.477900e+02   \n",
       "max    1.247601e+07       9.999900e+04         9.999900e+04  2.147484e+07   \n",
       "\n",
       "          TIMESTAMP  \n",
       "count  1.247601e+07  \n",
       "mean   9.945583e+01  \n",
       "std    5.771132e+01  \n",
       "min    0.000000e+00  \n",
       "25%    4.900000e+01  \n",
       "50%    9.900000e+01  \n",
       "75%    1.490000e+02  \n",
       "max    1.990000e+02  "
      ]
     },
     "execution_count": 29,
     "metadata": {},
     "output_type": "execute_result"
    }
   ],
   "source": [
    "transactions.describe()"
   ]
  },
  {
   "cell_type": "markdown",
   "id": "4d8efad7",
   "metadata": {},
   "source": [
    "The mean and median SENDER_ACCOUNT_ID and RECEIVER_ACCOUNT_ID are close, indicating a relatively uniform distribution of IDs.\n",
    "TX_AMOUNT has a large standard deviation of compared to its mean, indicating a wide range of transaction amounts, some possibly being much larger than the mean.\n",
    "The difference between the std and mean in TIMESTAMP idnciates variability in the timing of transactions."
   ]
  },
  {
   "cell_type": "code",
   "execution_count": 30,
   "id": "22170665",
   "metadata": {},
   "outputs": [
    {
     "name": "stdout",
     "output_type": "stream",
     "text": [
      "Counts:\n",
      "False    12458960\n",
      "True        17052\n",
      "Name: IS_FRAUD, dtype: int64\n",
      "\n",
      "Percentages:\n",
      "False    99.863322\n",
      "True      0.136678\n",
      "Name: IS_FRAUD, dtype: float64\n"
     ]
    }
   ],
   "source": [
    "# Calculate value counts\n",
    "fraud_counts = transactions['IS_FRAUD'].value_counts()\n",
    "\n",
    "# Calculate percentages\n",
    "fraud_percentages = transactions['IS_FRAUD'].value_counts(normalize=True) * 100\n",
    "\n",
    "# Display counts and percentages\n",
    "print(\"Counts:\")\n",
    "print(fraud_counts)\n",
    "print(\"\\nPercentages:\")\n",
    "print(fraud_percentages)"
   ]
  },
  {
   "cell_type": "code",
   "execution_count": 31,
   "id": "d6f7d265",
   "metadata": {},
   "outputs": [
    {
     "data": {
      "text/plain": [
       "<AxesSubplot:>"
      ]
     },
     "execution_count": 31,
     "metadata": {},
     "output_type": "execute_result"
    },
    {
     "data": {
      "image/png": "[encoded data removed]",
      "text/plain": [
       "<Figure size 432x288 with 1 Axes>"
      ]
     },
     "metadata": {},
     "output_type": "display_data"
    }
   ],
   "source": [
    "transactions.IS_FRAUD.value_counts().plot(kind='bar')\n",
    "#confirming class imbalance"
   ]
  },
  {
   "cell_type": "code",
   "execution_count": 32,
   "id": "922d0f82",
   "metadata": {},
   "outputs": [
    {
     "data": {
      "text/plain": [
       "TRANSFER    12476012\n",
       "Name: TX_TYPE, dtype: int64"
      ]
     },
     "execution_count": 32,
     "metadata": {},
     "output_type": "execute_result"
    }
   ],
   "source": [
    "transactions.TX_TYPE.value_counts()"
   ]
  },
  {
   "cell_type": "markdown",
   "id": "00f0b649",
   "metadata": {},
   "source": [
    "TX_TYPE is irrelevant, as it contains one unique value"
   ]
  },
  {
   "cell_type": "code",
   "execution_count": 33,
   "id": "4cd0085b",
   "metadata": {},
   "outputs": [],
   "source": [
    "transactions.drop(['TX_TYPE'], axis=1, inplace=True)"
   ]
  },
  {
   "cell_type": "code",
   "execution_count": 34,
   "id": "8fd4465c",
   "metadata": {},
   "outputs": [
    {
     "data": {
      "text/plain": [
       "-1      12458960\n",
       "3116           5\n",
       "2827           5\n",
       "2442           5\n",
       "2435           5\n",
       "          ...   \n",
       "3956           1\n",
       "2613           1\n",
       "1039           1\n",
       "909            1\n",
       "265            1\n",
       "Name: ALERT_ID, Length: 3911, dtype: int64"
      ]
     },
     "execution_count": 34,
     "metadata": {},
     "output_type": "execute_result"
    }
   ],
   "source": [
    "transactions.ALERT_ID.value_counts()"
   ]
  },
  {
   "cell_type": "markdown",
   "id": "01fb7606",
   "metadata": {},
   "source": [
    "## Correlations"
   ]
  },
  {
   "cell_type": "markdown",
   "id": "f9367af6",
   "metadata": {},
   "source": [
    "### Sender ID"
   ]
  },
  {
   "cell_type": "code",
   "execution_count": 35,
   "id": "1bb3c42d",
   "metadata": {
    "scrolled": true
   },
   "outputs": [
    {
     "name": "stdout",
     "output_type": "stream",
     "text": [
      "Contingency Table for SENDER_ACCOUNT_IS vs. IS_FRAUD:\n",
      "IS_FRAUD           False  True\n",
      "SENDER_ACCOUNT_ID             \n",
      "0                     20     0\n",
      "1                     23     0\n",
      "2                     21     0\n",
      "3                     16     0\n",
      "4                     44     0\n",
      "...                  ...   ...\n",
      "99995                 57     2\n",
      "99996                 63     0\n",
      "99997                 92     1\n",
      "99998                 80     1\n",
      "99999                 85     0\n",
      "\n",
      "[100000 rows x 2 columns]\n"
     ]
    }
   ],
   "source": [
    "fraud_by_sender = pd.crosstab(transactions['SENDER_ACCOUNT_ID'], transactions['IS_FRAUD'])\n",
    "\n",
    "print('Contingency Table for SENDER_ACCOUNT_IS vs. IS_FRAUD:')\n",
    "print(fraud_by_sender)"
   ]
  },
  {
   "cell_type": "markdown",
   "id": "d227c22b",
   "metadata": {},
   "source": [
    "The **Pearson correlation coefficient** measures the linear relationship between two continuous variables. It ranges from -1 to 1, where:\n",
    "\n",
    "* 1 indicates a perfect positive linear relationship,\n",
    "* -1 indicates a perfect negative linear relationship, and\n",
    "* 0 indicates no linear relationship."
   ]
  },
  {
   "cell_type": "code",
   "execution_count": 36,
   "id": "c55f231e",
   "metadata": {},
   "outputs": [
    {
     "name": "stdout",
     "output_type": "stream",
     "text": [
      "Pearson correlation coefficient: 0.0007323989044449373\n"
     ]
    }
   ],
   "source": [
    "import scipy.stats\n",
    "\n",
    "sender_account_id = transactions['SENDER_ACCOUNT_ID']\n",
    "is_fraud = transactions['IS_FRAUD']\n",
    "\n",
    "correlation_coef, p_value = scipy.stats.pearsonr(sender_account_id, is_fraud)\n",
    "\n",
    "print('Pearson correlation coefficient:', correlation_coef)"
   ]
  },
  {
   "cell_type": "markdown",
   "id": "c14a628e",
   "metadata": {},
   "source": [
    "### Receiver ID"
   ]
  },
  {
   "cell_type": "code",
   "execution_count": 37,
   "id": "bea89d02",
   "metadata": {},
   "outputs": [
    {
     "name": "stdout",
     "output_type": "stream",
     "text": [
      "\n",
      "Contingency Table for RECEIVER_ACCOUNT_ID vs. IS_FRAUD:\n",
      "IS_FRAUD             False  True\n",
      "RECEIVER_ACCOUNT_ID             \n",
      "0                       22     0\n",
      "1                        3     0\n",
      "2                       20     0\n",
      "3                       20     0\n",
      "4                       20     0\n",
      "...                    ...   ...\n",
      "99995                  573     1\n",
      "99996                  503     0\n",
      "99997                  744     1\n",
      "99998                 1002     0\n",
      "99999                 1237     0\n",
      "\n",
      "[99069 rows x 2 columns]\n"
     ]
    }
   ],
   "source": [
    "fraud_by_receiver = pd.crosstab(transactions['RECEIVER_ACCOUNT_ID'], transactions['IS_FRAUD'])\n",
    "\n",
    "print('\\nContingency Table for RECEIVER_ACCOUNT_ID vs. IS_FRAUD:')\n",
    "print(fraud_by_receiver)"
   ]
  },
  {
   "cell_type": "code",
   "execution_count": 38,
   "id": "7e69957d",
   "metadata": {},
   "outputs": [
    {
     "name": "stdout",
     "output_type": "stream",
     "text": [
      "Pearson correlation coefficient: 0.0002234311241454905\n"
     ]
    }
   ],
   "source": [
    "receiver_account_id = transactions['RECEIVER_ACCOUNT_ID']\n",
    "is_fraud = transactions['IS_FRAUD']\n",
    "\n",
    "correlation_coef, p_value = scipy.stats.pearsonr(receiver_account_id, is_fraud)\n",
    "\n",
    "print('Pearson correlation coefficient:', correlation_coef)"
   ]
  },
  {
   "cell_type": "markdown",
   "id": "8776a0f4",
   "metadata": {},
   "source": [
    "#analyzing network relations\n",
    "from sklearn.preprocessing import PolynomialFeatures\n",
    "from sklearn.linear_model import LinearRegression\n",
    "from sklearn.pipeline import make_pipeline\n",
    "\n",
    "sender = transactions['SENDER_ACCOUNT_ID']\n",
    "receiver = transactions['RECEIVER_ACCOUNT_ID']\n",
    "tx_amounts = transactions['TX_AMOUNT']\n",
    "\n",
    "# Apply polynomial regression to sender account data\n",
    "degree = 2 \n",
    "poly_features = PolynomialFeatures(degree=degree)\n",
    "X_sender = poly_features.fit_transform(sender.values.reshape(-1, 1))\n",
    "y_sender = tx_amounts.values\n",
    "model_sender = LinearRegression().fit(X_sender, y_sender)\n",
    "\n",
    "# Apply polynomial regression to receiver account data\n",
    "X_receiver = poly_features.fit_transform(receiver.values.reshape(-1, 1))\n",
    "y_receiver = tx_amounts.values\n",
    "model_receiver = LinearRegression().fit(X_receiver, y_receiver)\n",
    "\n",
    "# Plot sender account data and polynomial curve\n",
    "plt.scatter(sender, tx_amounts, label='Sender Account Data')\n",
    "plt.plot(sender, model_sender.predict(X_sender), color='red', label='Sender Polynomial Fit')\n",
    "\n",
    "# Plot receiver account data and polynomial curve\n",
    "plt.scatter(receiver, tx_amounts, label='Receiver Account Data')\n",
    "plt.plot(receiver, model_receiver.predict(X_receiver), color='blue', label='Receiver Polynomial Fit')\n",
    "\n",
    "plt.xlabel('Account ID')\n",
    "plt.ylabel('Transaction Amount')\n",
    "plt.title('Scatter Plot with Polynomial Regression for Sender and Receiver Accounts')\n",
    "plt.legend()\n",
    "plt.grid(True)\n",
    "plt.show()"
   ]
  },
  {
   "cell_type": "markdown",
   "id": "4654b671",
   "metadata": {},
   "source": [
    "### Timestamp"
   ]
  },
  {
   "cell_type": "code",
   "execution_count": 39,
   "id": "c1f03efb",
   "metadata": {},
   "outputs": [
    {
     "data": {
      "image/png": "[encoded data removed]",
      "text/plain": [
       "<Figure size 720x432 with 1 Axes>"
      ]
     },
     "metadata": {},
     "output_type": "display_data"
    }
   ],
   "source": [
    "fraudulent_transactions = transactions[transactions['IS_FRAUD'] == True]\n",
    "non_fraudulent_transactions = transactions[transactions['IS_FRAUD'] == False]\n",
    "\n",
    "plt.figure(figsize=(10,6))\n",
    "sns.histplot(fraudulent_transactions['TIMESTAMP'], color='red', alpha=0.5, label='Fraudulent')\n",
    "sns.histplot(non_fraudulent_transactions['TIMESTAMP'], color='blue', alpha=0.5, label='Non Fraudulent')\n",
    "plt.title('Distribution of Timestamps by Fraud Status')\n",
    "plt.xlabel('Timestamp')\n",
    "plt.ylabel('Frequency')\n",
    "plt.legend()\n",
    "plt.show()"
   ]
  },
  {
   "cell_type": "markdown",
   "id": "469ca6c3",
   "metadata": {},
   "source": [
    "### Transaction Amount"
   ]
  },
  {
   "cell_type": "code",
   "execution_count": 40,
   "id": "f3c95afd",
   "metadata": {},
   "outputs": [
    {
     "data": {
      "image/png": "[encoded data removed]",
      "text/plain": [
       "<Figure size 576x432 with 1 Axes>"
      ]
     },
     "metadata": {},
     "output_type": "display_data"
    }
   ],
   "source": [
    "plt.figure(figsize=(8,6))\n",
    "sns.boxplot(x='IS_FRAUD', y='TX_AMOUNT', data=transactions)\n",
    "plt.title('Transaction Amount and Fraud Status')\n",
    "plt.xlabel('Is Fraudulent')\n",
    "plt.ylabel('Transaction Amount')\n",
    "plt.xticks([0, 1], ['Not Fraudulent', 'Fraudulent'])\n",
    "plt.show()"
   ]
  },
  {
   "cell_type": "markdown",
   "id": "2ffeb49e",
   "metadata": {},
   "source": [
    "### Numerical Features"
   ]
  },
  {
   "cell_type": "code",
   "execution_count": 41,
   "id": "17cae3bd",
   "metadata": {},
   "outputs": [
    {
     "data": {
      "image/png": "[encoded data removed]",
      "text/plain": [
       "<Figure size 720x432 with 2 Axes>"
      ]
     },
     "metadata": {},
     "output_type": "display_data"
    }
   ],
   "source": [
    "plt.figure(figsize=(10, 6))\n",
    "sns.heatmap(transactions.corr(), annot=True, fmt=\".2f\", cmap='coolwarm')\n",
    "plt.title('Heatmap of Correlation Matrix')\n",
    "plt.show()"
   ]
  },
  {
   "cell_type": "code",
   "execution_count": 42,
   "id": "af74eda9",
   "metadata": {},
   "outputs": [
    {
     "name": "stdout",
     "output_type": "stream",
     "text": [
      "Pearson correlation coefficient: 0.08380822558316398\n"
     ]
    }
   ],
   "source": [
    "timestamp = transactions['TIMESTAMP']\n",
    "tx_amount = transactions['TX_AMOUNT']\n",
    "\n",
    "correlation_coef, p_value = scipy.stats.pearsonr(timestamp, tx_amount)\n",
    "\n",
    "print('Pearson correlation coefficient:', correlation_coef)"
   ]
  },
  {
   "cell_type": "markdown",
   "id": "ab29d520",
   "metadata": {},
   "source": [
    "# Alerts"
   ]
  },
  {
   "cell_type": "code",
   "execution_count": 43,
   "id": "1a71a2cd",
   "metadata": {},
   "outputs": [],
   "source": [
    "alerts = pd.read_csv('alerts.csv')"
   ]
  },
  {
   "cell_type": "code",
   "execution_count": 44,
   "id": "153e05a5",
   "metadata": {
    "scrolled": true
   },
   "outputs": [
    {
     "data": {
      "text/html": [
       "<div>\n",
       "<style scoped>\n",
       "    .dataframe tbody tr th:only-of-type {\n",
       "        vertical-align: middle;\n",
       "    }\n",
       "\n",
       "    .dataframe tbody tr th {\n",
       "        vertical-align: top;\n",
       "    }\n",
       "\n",
       "    .dataframe thead th {\n",
       "        text-align: right;\n",
       "    }\n",
       "</style>\n",
       "<table border=\"1\" class=\"dataframe\">\n",
       "  <thead>\n",
       "    <tr style=\"text-align: right;\">\n",
       "      <th></th>\n",
       "      <th>ALERT_ID</th>\n",
       "      <th>ALERT_TYPE</th>\n",
       "      <th>IS_FRAUD</th>\n",
       "      <th>TX_ID</th>\n",
       "      <th>SENDER_ACCOUNT_ID</th>\n",
       "      <th>RECEIVER_ACCOUNT_ID</th>\n",
       "      <th>TX_TYPE</th>\n",
       "      <th>TX_AMOUNT</th>\n",
       "      <th>TIMESTAMP</th>\n",
       "    </tr>\n",
       "  </thead>\n",
       "  <tbody>\n",
       "    <tr>\n",
       "      <th>0</th>\n",
       "      <td>2036</td>\n",
       "      <td>cycle</td>\n",
       "      <td>True</td>\n",
       "      <td>188</td>\n",
       "      <td>24830</td>\n",
       "      <td>33880</td>\n",
       "      <td>TRANSFER</td>\n",
       "      <td>12.40</td>\n",
       "      <td>0</td>\n",
       "    </tr>\n",
       "    <tr>\n",
       "      <th>1</th>\n",
       "      <td>842</td>\n",
       "      <td>fan_in</td>\n",
       "      <td>True</td>\n",
       "      <td>556</td>\n",
       "      <td>45959</td>\n",
       "      <td>91430</td>\n",
       "      <td>TRANSFER</td>\n",
       "      <td>3.07</td>\n",
       "      <td>0</td>\n",
       "    </tr>\n",
       "    <tr>\n",
       "      <th>2</th>\n",
       "      <td>3000</td>\n",
       "      <td>cycle</td>\n",
       "      <td>True</td>\n",
       "      <td>1038</td>\n",
       "      <td>25885</td>\n",
       "      <td>22925</td>\n",
       "      <td>TRANSFER</td>\n",
       "      <td>13.06</td>\n",
       "      <td>0</td>\n",
       "    </tr>\n",
       "    <tr>\n",
       "      <th>3</th>\n",
       "      <td>280</td>\n",
       "      <td>fan_in</td>\n",
       "      <td>True</td>\n",
       "      <td>1051</td>\n",
       "      <td>80408</td>\n",
       "      <td>27980</td>\n",
       "      <td>TRANSFER</td>\n",
       "      <td>2.79</td>\n",
       "      <td>0</td>\n",
       "    </tr>\n",
       "    <tr>\n",
       "      <th>4</th>\n",
       "      <td>2861</td>\n",
       "      <td>cycle</td>\n",
       "      <td>True</td>\n",
       "      <td>2415</td>\n",
       "      <td>96988</td>\n",
       "      <td>91037</td>\n",
       "      <td>TRANSFER</td>\n",
       "      <td>12.84</td>\n",
       "      <td>0</td>\n",
       "    </tr>\n",
       "    <tr>\n",
       "      <th>5</th>\n",
       "      <td>1252</td>\n",
       "      <td>fan_in</td>\n",
       "      <td>True</td>\n",
       "      <td>2737</td>\n",
       "      <td>41576</td>\n",
       "      <td>94117</td>\n",
       "      <td>TRANSFER</td>\n",
       "      <td>4.48</td>\n",
       "      <td>0</td>\n",
       "    </tr>\n",
       "    <tr>\n",
       "      <th>6</th>\n",
       "      <td>1147</td>\n",
       "      <td>fan_in</td>\n",
       "      <td>True</td>\n",
       "      <td>2950</td>\n",
       "      <td>21605</td>\n",
       "      <td>33312</td>\n",
       "      <td>TRANSFER</td>\n",
       "      <td>4.19</td>\n",
       "      <td>0</td>\n",
       "    </tr>\n",
       "    <tr>\n",
       "      <th>7</th>\n",
       "      <td>802</td>\n",
       "      <td>fan_in</td>\n",
       "      <td>True</td>\n",
       "      <td>3011</td>\n",
       "      <td>4475</td>\n",
       "      <td>65944</td>\n",
       "      <td>TRANSFER</td>\n",
       "      <td>4.02</td>\n",
       "      <td>0</td>\n",
       "    </tr>\n",
       "    <tr>\n",
       "      <th>8</th>\n",
       "      <td>2600</td>\n",
       "      <td>cycle</td>\n",
       "      <td>True</td>\n",
       "      <td>3251</td>\n",
       "      <td>37435</td>\n",
       "      <td>52470</td>\n",
       "      <td>TRANSFER</td>\n",
       "      <td>18.22</td>\n",
       "      <td>0</td>\n",
       "    </tr>\n",
       "    <tr>\n",
       "      <th>9</th>\n",
       "      <td>1106</td>\n",
       "      <td>fan_in</td>\n",
       "      <td>True</td>\n",
       "      <td>3719</td>\n",
       "      <td>8896</td>\n",
       "      <td>78512</td>\n",
       "      <td>TRANSFER</td>\n",
       "      <td>4.16</td>\n",
       "      <td>0</td>\n",
       "    </tr>\n",
       "  </tbody>\n",
       "</table>\n",
       "</div>"
      ],
      "text/plain": [
       "   ALERT_ID ALERT_TYPE  IS_FRAUD  TX_ID  SENDER_ACCOUNT_ID  \\\n",
       "0      2036      cycle      True    188              24830   \n",
       "1       842     fan_in      True    556              45959   \n",
       "2      3000      cycle      True   1038              25885   \n",
       "3       280     fan_in      True   1051              80408   \n",
       "4      2861      cycle      True   2415              96988   \n",
       "5      1252     fan_in      True   2737              41576   \n",
       "6      1147     fan_in      True   2950              21605   \n",
       "7       802     fan_in      True   3011               4475   \n",
       "8      2600      cycle      True   3251              37435   \n",
       "9      1106     fan_in      True   3719               8896   \n",
       "\n",
       "   RECEIVER_ACCOUNT_ID   TX_TYPE  TX_AMOUNT  TIMESTAMP  \n",
       "0                33880  TRANSFER      12.40          0  \n",
       "1                91430  TRANSFER       3.07          0  \n",
       "2                22925  TRANSFER      13.06          0  \n",
       "3                27980  TRANSFER       2.79          0  \n",
       "4                91037  TRANSFER      12.84          0  \n",
       "5                94117  TRANSFER       4.48          0  \n",
       "6                33312  TRANSFER       4.19          0  \n",
       "7                65944  TRANSFER       4.02          0  \n",
       "8                52470  TRANSFER      18.22          0  \n",
       "9                78512  TRANSFER       4.16          0  "
      ]
     },
     "execution_count": 44,
     "metadata": {},
     "output_type": "execute_result"
    }
   ],
   "source": [
    "alerts.head(10)"
   ]
  },
  {
   "cell_type": "code",
   "execution_count": 45,
   "id": "694b29bb",
   "metadata": {
    "scrolled": true
   },
   "outputs": [
    {
     "data": {
      "text/plain": [
       "(17052, 9)"
      ]
     },
     "execution_count": 45,
     "metadata": {},
     "output_type": "execute_result"
    }
   ],
   "source": [
    "alerts.shape"
   ]
  },
  {
   "cell_type": "code",
   "execution_count": 46,
   "id": "ae998631",
   "metadata": {},
   "outputs": [
    {
     "data": {
      "text/plain": [
       "Index(['ALERT_ID', 'ALERT_TYPE', 'IS_FRAUD', 'TX_ID', 'SENDER_ACCOUNT_ID',\n",
       "       'RECEIVER_ACCOUNT_ID', 'TX_TYPE', 'TX_AMOUNT', 'TIMESTAMP'],\n",
       "      dtype='object')"
      ]
     },
     "execution_count": 46,
     "metadata": {},
     "output_type": "execute_result"
    }
   ],
   "source": [
    "alerts.columns"
   ]
  },
  {
   "cell_type": "code",
   "execution_count": 47,
   "id": "24a3a58e",
   "metadata": {
    "scrolled": false
   },
   "outputs": [
    {
     "data": {
      "text/plain": [
       "ALERT_ID                 int64\n",
       "ALERT_TYPE              object\n",
       "IS_FRAUD                  bool\n",
       "TX_ID                    int64\n",
       "SENDER_ACCOUNT_ID        int64\n",
       "RECEIVER_ACCOUNT_ID      int64\n",
       "TX_TYPE                 object\n",
       "TX_AMOUNT              float64\n",
       "TIMESTAMP                int64\n",
       "dtype: object"
      ]
     },
     "execution_count": 47,
     "metadata": {},
     "output_type": "execute_result"
    }
   ],
   "source": [
    "alerts.dtypes"
   ]
  },
  {
   "cell_type": "code",
   "execution_count": 48,
   "id": "2980da01",
   "metadata": {},
   "outputs": [
    {
     "name": "stdout",
     "output_type": "stream",
     "text": [
      "ALERT_ID                object\n",
      "ALERT_TYPE              object\n",
      "IS_FRAUD                  bool\n",
      "TX_ID                    int64\n",
      "SENDER_ACCOUNT_ID        int64\n",
      "RECEIVER_ACCOUNT_ID      int64\n",
      "TX_TYPE                 object\n",
      "TX_AMOUNT              float64\n",
      "TIMESTAMP                int64\n",
      "dtype: object\n"
     ]
    }
   ],
   "source": [
    "# ALERT_ID is categorical rather than numerical\n",
    "\n",
    "alerts['ALERT_ID'] = alerts['ALERT_ID'].astype(str)\n",
    "print(alerts.dtypes)"
   ]
  },
  {
   "cell_type": "code",
   "execution_count": 49,
   "id": "b8a0d3f5",
   "metadata": {},
   "outputs": [
    {
     "data": {
      "text/html": [
       "<div>\n",
       "<style scoped>\n",
       "    .dataframe tbody tr th:only-of-type {\n",
       "        vertical-align: middle;\n",
       "    }\n",
       "\n",
       "    .dataframe tbody tr th {\n",
       "        vertical-align: top;\n",
       "    }\n",
       "\n",
       "    .dataframe thead th {\n",
       "        text-align: right;\n",
       "    }\n",
       "</style>\n",
       "<table border=\"1\" class=\"dataframe\">\n",
       "  <thead>\n",
       "    <tr style=\"text-align: right;\">\n",
       "      <th></th>\n",
       "      <th>TX_ID</th>\n",
       "      <th>SENDER_ACCOUNT_ID</th>\n",
       "      <th>RECEIVER_ACCOUNT_ID</th>\n",
       "      <th>TX_AMOUNT</th>\n",
       "      <th>TIMESTAMP</th>\n",
       "    </tr>\n",
       "  </thead>\n",
       "  <tbody>\n",
       "    <tr>\n",
       "      <th>count</th>\n",
       "      <td>1.705200e+04</td>\n",
       "      <td>17052.000000</td>\n",
       "      <td>17052.000000</td>\n",
       "      <td>17052.000000</td>\n",
       "      <td>17052.000000</td>\n",
       "    </tr>\n",
       "    <tr>\n",
       "      <th>mean</th>\n",
       "      <td>6.276044e+06</td>\n",
       "      <td>50112.756216</td>\n",
       "      <td>49706.032372</td>\n",
       "      <td>10.052406</td>\n",
       "      <td>100.066502</td>\n",
       "    </tr>\n",
       "    <tr>\n",
       "      <th>std</th>\n",
       "      <td>3.658158e+06</td>\n",
       "      <td>28713.546884</td>\n",
       "      <td>28786.808741</td>\n",
       "      <td>6.013111</td>\n",
       "      <td>58.620294</td>\n",
       "    </tr>\n",
       "    <tr>\n",
       "      <th>min</th>\n",
       "      <td>1.880000e+02</td>\n",
       "      <td>13.000000</td>\n",
       "      <td>13.000000</td>\n",
       "      <td>2.500000</td>\n",
       "      <td>0.000000</td>\n",
       "    </tr>\n",
       "    <tr>\n",
       "      <th>25%</th>\n",
       "      <td>3.068494e+06</td>\n",
       "      <td>25775.250000</td>\n",
       "      <td>24830.750000</td>\n",
       "      <td>3.870000</td>\n",
       "      <td>49.000000</td>\n",
       "    </tr>\n",
       "    <tr>\n",
       "      <th>50%</th>\n",
       "      <td>6.246108e+06</td>\n",
       "      <td>50132.500000</td>\n",
       "      <td>49057.500000</td>\n",
       "      <td>11.100000</td>\n",
       "      <td>100.000000</td>\n",
       "    </tr>\n",
       "    <tr>\n",
       "      <th>75%</th>\n",
       "      <td>9.461026e+06</td>\n",
       "      <td>74634.250000</td>\n",
       "      <td>74215.500000</td>\n",
       "      <td>15.600000</td>\n",
       "      <td>151.000000</td>\n",
       "    </tr>\n",
       "    <tr>\n",
       "      <th>max</th>\n",
       "      <td>1.247585e+07</td>\n",
       "      <td>99998.000000</td>\n",
       "      <td>99997.000000</td>\n",
       "      <td>20.000000</td>\n",
       "      <td>199.000000</td>\n",
       "    </tr>\n",
       "  </tbody>\n",
       "</table>\n",
       "</div>"
      ],
      "text/plain": [
       "              TX_ID  SENDER_ACCOUNT_ID  RECEIVER_ACCOUNT_ID     TX_AMOUNT  \\\n",
       "count  1.705200e+04       17052.000000         17052.000000  17052.000000   \n",
       "mean   6.276044e+06       50112.756216         49706.032372     10.052406   \n",
       "std    3.658158e+06       28713.546884         28786.808741      6.013111   \n",
       "min    1.880000e+02          13.000000            13.000000      2.500000   \n",
       "25%    3.068494e+06       25775.250000         24830.750000      3.870000   \n",
       "50%    6.246108e+06       50132.500000         49057.500000     11.100000   \n",
       "75%    9.461026e+06       74634.250000         74215.500000     15.600000   \n",
       "max    1.247585e+07       99998.000000         99997.000000     20.000000   \n",
       "\n",
       "          TIMESTAMP  \n",
       "count  17052.000000  \n",
       "mean     100.066502  \n",
       "std       58.620294  \n",
       "min        0.000000  \n",
       "25%       49.000000  \n",
       "50%      100.000000  \n",
       "75%      151.000000  \n",
       "max      199.000000  "
      ]
     },
     "execution_count": 49,
     "metadata": {},
     "output_type": "execute_result"
    }
   ],
   "source": [
    "alerts.describe()"
   ]
  },
  {
   "cell_type": "markdown",
   "id": "b2dfdaf9",
   "metadata": {},
   "source": [
    "The std of TX_AMOUNT is relatively large compared to the mean, indicating a wide range of transaction amounts, contributing to high variability in the data. Similarly, the difference between mean and std in TIMESTAMP indicates variability in the timing of transactions. "
   ]
  },
  {
   "cell_type": "code",
   "execution_count": 50,
   "id": "ec6bfd94",
   "metadata": {},
   "outputs": [
    {
     "data": {
      "text/plain": [
       "True    17052\n",
       "Name: IS_FRAUD, dtype: int64"
      ]
     },
     "execution_count": 50,
     "metadata": {},
     "output_type": "execute_result"
    }
   ],
   "source": [
    "alerts.IS_FRAUD.value_counts()"
   ]
  },
  {
   "cell_type": "markdown",
   "id": "51284f47",
   "metadata": {},
   "source": [
    "Alerts are only initiated in cases of fraudulent transactions."
   ]
  },
  {
   "cell_type": "code",
   "execution_count": 51,
   "id": "89928488",
   "metadata": {
    "scrolled": true
   },
   "outputs": [
    {
     "data": {
      "text/plain": [
       "cycle     9513\n",
       "fan_in    7539\n",
       "Name: ALERT_TYPE, dtype: int64"
      ]
     },
     "execution_count": 51,
     "metadata": {},
     "output_type": "execute_result"
    }
   ],
   "source": [
    "alerts.ALERT_TYPE.value_counts()"
   ]
  },
  {
   "cell_type": "code",
   "execution_count": 52,
   "id": "399efbeb",
   "metadata": {},
   "outputs": [
    {
     "data": {
      "image/png": "[encoded data removed]",
      "text/plain": [
       "<Figure size 576x432 with 1 Axes>"
      ]
     },
     "metadata": {},
     "output_type": "display_data"
    }
   ],
   "source": [
    "plt.figure(figsize=(8, 6))\n",
    "sns.countplot(x='ALERT_TYPE', data=alerts, palette='Set2')\n",
    "plt.title('Distribution of Alert Types')\n",
    "plt.xlabel('Alert Type')\n",
    "plt.ylabel('Count')\n",
    "plt.xticks(rotation=45)\n",
    "plt.show()"
   ]
  },
  {
   "cell_type": "code",
   "execution_count": 53,
   "id": "97a5a844",
   "metadata": {
    "scrolled": true
   },
   "outputs": [
    {
     "data": {
      "text/plain": [
       "TRANSFER    17052\n",
       "Name: TX_TYPE, dtype: int64"
      ]
     },
     "execution_count": 53,
     "metadata": {},
     "output_type": "execute_result"
    }
   ],
   "source": [
    "alerts.TX_TYPE.value_counts() "
   ]
  },
  {
   "cell_type": "code",
   "execution_count": 54,
   "id": "d9c4e7db",
   "metadata": {},
   "outputs": [],
   "source": [
    "#elminiate as it only contains one unique value\n",
    "alerts.drop(['TX_TYPE'], axis=1, inplace=True)"
   ]
  },
  {
   "cell_type": "code",
   "execution_count": 55,
   "id": "3c018ad4",
   "metadata": {},
   "outputs": [
    {
     "data": {
      "text/plain": [
       "79999    6\n",
       "61999    6\n",
       "27999    6\n",
       "26999    5\n",
       "30999    5\n",
       "        ..\n",
       "75952    1\n",
       "78247    1\n",
       "90883    1\n",
       "30911    1\n",
       "58261    1\n",
       "Name: SENDER_ACCOUNT_ID, Length: 14923, dtype: int64"
      ]
     },
     "execution_count": 55,
     "metadata": {},
     "output_type": "execute_result"
    }
   ],
   "source": [
    "#are some alerts raised by the same sender?\n",
    "alerts.SENDER_ACCOUNT_ID.value_counts()"
   ]
  },
  {
   "cell_type": "code",
   "execution_count": 56,
   "id": "5fd972b0",
   "metadata": {},
   "outputs": [
    {
     "data": {
      "text/plain": [
       "61999    8\n",
       "26999    7\n",
       "90995    7\n",
       "79999    7\n",
       "46985    7\n",
       "        ..\n",
       "51927    1\n",
       "19523    1\n",
       "18483    1\n",
       "92579    1\n",
       "19829    1\n",
       "Name: RECEIVER_ACCOUNT_ID, Length: 10391, dtype: int64"
      ]
     },
     "execution_count": 56,
     "metadata": {},
     "output_type": "execute_result"
    }
   ],
   "source": [
    "#what about receivers?\n",
    "alerts.RECEIVER_ACCOUNT_ID.value_counts()"
   ]
  },
  {
   "cell_type": "code",
   "execution_count": 57,
   "id": "4700d82a",
   "metadata": {},
   "outputs": [
    {
     "name": "stdout",
     "output_type": "stream",
     "text": [
      "      ALERT_ID ALERT_TYPE  IS_FRAUD     TX_ID  SENDER_ACCOUNT_ID  \\\n",
      "11        2455      cycle      True      4004              16840   \n",
      "175       2651      cycle      True    121485              41579   \n",
      "390       2455      cycle      True    261597              17977   \n",
      "395       2539      cycle      True    263742              14566   \n",
      "672       2928      cycle      True    450137              16840   \n",
      "...        ...        ...       ...       ...                ...   \n",
      "14833     3843      cycle      True  11040888              26897   \n",
      "15021     3221      cycle      True  11169612              62358   \n",
      "15545     2504      cycle      True  11514165              38949   \n",
      "16724     1682     fan_in      True  12267967              23646   \n",
      "16869     3253      cycle      True  12350228              48938   \n",
      "\n",
      "       RECEIVER_ACCOUNT_ID  TX_AMOUNT  TIMESTAMP  \n",
      "11                   17977      11.38          0  \n",
      "175                   1986      14.72          1  \n",
      "390                  17690      11.38          4  \n",
      "395                  46464      17.15          4  \n",
      "672                  17977      14.92          7  \n",
      "...                    ...        ...        ...  \n",
      "14833                22434      14.05        176  \n",
      "15021                 7822      15.18        179  \n",
      "15545                83761      13.64        184  \n",
      "16724                66256       3.90        196  \n",
      "16869                 7707      19.44        197  \n",
      "\n",
      "[68 rows x 8 columns]\n"
     ]
    }
   ],
   "source": [
    "# Check for duplicates based on combination of sender ID and receiver ID\n",
    "pairs = alerts.duplicated(subset=['SENDER_ACCOUNT_ID', 'RECEIVER_ACCOUNT_ID'], keep=False)\n",
    "duplicate_pairs = alerts[pairs]\n",
    "print(duplicate_pairs)"
   ]
  },
  {
   "cell_type": "code",
   "execution_count": 58,
   "id": "3c48f5a8",
   "metadata": {},
   "outputs": [
    {
     "name": "stdout",
     "output_type": "stream",
     "text": [
      "SENDER_ACCOUNT_ID  RECEIVER_ACCOUNT_ID\n",
      "1988               56285                  2\n",
      "2198               33482                  2\n",
      "2240               14497                  2\n",
      "3796               2765                   2\n",
      "10145              3858                   2\n",
      "14566              46464                  2\n",
      "16840              17977                  2\n",
      "17977              17690                  2\n",
      "23646              66256                  2\n",
      "26897              22434                  2\n",
      "27280              3345                   2\n",
      "30497              47921                  2\n",
      "32719              70648                  2\n",
      "33482              2198                   2\n",
      "33927              9216                   2\n",
      "33988              54884                  2\n",
      "36245              4334                   2\n",
      "38949              83761                  2\n",
      "41153              80977                  2\n",
      "41579              1986                   2\n",
      "47935              6993                   2\n",
      "48413              80982                  2\n",
      "48938              7707                   2\n",
      "50926              26607                  2\n",
      "54470              41153                  2\n",
      "62358              7822                   2\n",
      "64628              15573                  2\n",
      "68662              24013                  2\n",
      "68996              38348                  2\n",
      "71380              10749                  2\n",
      "74374              1279                   2\n",
      "80977              64530                  2\n",
      "92431              20592                  2\n",
      "93290              61835                  2\n",
      "dtype: int64\n"
     ]
    }
   ],
   "source": [
    "pair_counts = alerts.groupby(['SENDER_ACCOUNT_ID', 'RECEIVER_ACCOUNT_ID']).size()\n",
    "duplicate_pairs = pair_counts[pair_counts > 1]\n",
    "\n",
    "print(duplicate_pairs)"
   ]
  },
  {
   "cell_type": "code",
   "execution_count": 59,
   "id": "08f4324b",
   "metadata": {},
   "outputs": [
    {
     "data": {
      "image/png": "[encoded data removed]",
      "text/plain": [
       "<Figure size 576x432 with 2 Axes>"
      ]
     },
     "metadata": {},
     "output_type": "display_data"
    }
   ],
   "source": [
    "# Check correlation between numerical columns\n",
    "correlation_matrix = alerts.corr()\n",
    "plt.figure(figsize=(8, 6))\n",
    "sns.heatmap(correlation_matrix, annot=True, cmap='coolwarm', fmt=\".2f\")\n",
    "plt.title('Correlation Matrix')\n",
    "plt.show()"
   ]
  },
  {
   "cell_type": "markdown",
   "id": "80d7843b",
   "metadata": {},
   "source": [
    "**Thus far, the three separate datasets do not contain significant  correlations within their values.**"
   ]
  },
  {
   "cell_type": "markdown",
   "id": "864e0ba4",
   "metadata": {},
   "source": [
    "# INTEGRATION"
   ]
  },
  {
   "cell_type": "markdown",
   "id": "abb92a58",
   "metadata": {},
   "source": [
    "**Alerts and Transactions** share common information; the only unique feature in alerts is ALERT_TYPE which will be inserted into Transactions."
   ]
  },
  {
   "cell_type": "code",
   "execution_count": 60,
   "id": "fe841258",
   "metadata": {},
   "outputs": [
    {
     "data": {
      "text/html": [
       "<div>\n",
       "<style scoped>\n",
       "    .dataframe tbody tr th:only-of-type {\n",
       "        vertical-align: middle;\n",
       "    }\n",
       "\n",
       "    .dataframe tbody tr th {\n",
       "        vertical-align: top;\n",
       "    }\n",
       "\n",
       "    .dataframe thead th {\n",
       "        text-align: right;\n",
       "    }\n",
       "</style>\n",
       "<table border=\"1\" class=\"dataframe\">\n",
       "  <thead>\n",
       "    <tr style=\"text-align: right;\">\n",
       "      <th></th>\n",
       "      <th>TX_ID</th>\n",
       "      <th>SENDER_ACCOUNT_ID</th>\n",
       "      <th>RECEIVER_ACCOUNT_ID</th>\n",
       "      <th>TX_AMOUNT</th>\n",
       "      <th>TIMESTAMP</th>\n",
       "      <th>IS_FRAUD</th>\n",
       "      <th>ALERT_ID</th>\n",
       "      <th>ALERT_TYPE</th>\n",
       "    </tr>\n",
       "  </thead>\n",
       "  <tbody>\n",
       "    <tr>\n",
       "      <th>0</th>\n",
       "      <td>1</td>\n",
       "      <td>5942</td>\n",
       "      <td>92982</td>\n",
       "      <td>516.95</td>\n",
       "      <td>0</td>\n",
       "      <td>False</td>\n",
       "      <td>-1</td>\n",
       "      <td>NaN</td>\n",
       "    </tr>\n",
       "    <tr>\n",
       "      <th>1</th>\n",
       "      <td>2</td>\n",
       "      <td>86700</td>\n",
       "      <td>43995</td>\n",
       "      <td>197.88</td>\n",
       "      <td>0</td>\n",
       "      <td>False</td>\n",
       "      <td>-1</td>\n",
       "      <td>NaN</td>\n",
       "    </tr>\n",
       "    <tr>\n",
       "      <th>2</th>\n",
       "      <td>3</td>\n",
       "      <td>86700</td>\n",
       "      <td>95516</td>\n",
       "      <td>197.88</td>\n",
       "      <td>0</td>\n",
       "      <td>False</td>\n",
       "      <td>-1</td>\n",
       "      <td>NaN</td>\n",
       "    </tr>\n",
       "    <tr>\n",
       "      <th>3</th>\n",
       "      <td>4</td>\n",
       "      <td>86700</td>\n",
       "      <td>83911</td>\n",
       "      <td>197.88</td>\n",
       "      <td>0</td>\n",
       "      <td>False</td>\n",
       "      <td>-1</td>\n",
       "      <td>NaN</td>\n",
       "    </tr>\n",
       "    <tr>\n",
       "      <th>4</th>\n",
       "      <td>5</td>\n",
       "      <td>86700</td>\n",
       "      <td>82801</td>\n",
       "      <td>197.88</td>\n",
       "      <td>0</td>\n",
       "      <td>False</td>\n",
       "      <td>-1</td>\n",
       "      <td>NaN</td>\n",
       "    </tr>\n",
       "    <tr>\n",
       "      <th>...</th>\n",
       "      <td>...</td>\n",
       "      <td>...</td>\n",
       "      <td>...</td>\n",
       "      <td>...</td>\n",
       "      <td>...</td>\n",
       "      <td>...</td>\n",
       "      <td>...</td>\n",
       "      <td>...</td>\n",
       "    </tr>\n",
       "    <tr>\n",
       "      <th>12476007</th>\n",
       "      <td>12476008</td>\n",
       "      <td>21152</td>\n",
       "      <td>4931</td>\n",
       "      <td>37.62</td>\n",
       "      <td>199</td>\n",
       "      <td>False</td>\n",
       "      <td>-1</td>\n",
       "      <td>NaN</td>\n",
       "    </tr>\n",
       "    <tr>\n",
       "      <th>12476008</th>\n",
       "      <td>12476009</td>\n",
       "      <td>21152</td>\n",
       "      <td>78099</td>\n",
       "      <td>37.62</td>\n",
       "      <td>199</td>\n",
       "      <td>False</td>\n",
       "      <td>-1</td>\n",
       "      <td>NaN</td>\n",
       "    </tr>\n",
       "    <tr>\n",
       "      <th>12476009</th>\n",
       "      <td>12476010</td>\n",
       "      <td>65293</td>\n",
       "      <td>35701</td>\n",
       "      <td>521.48</td>\n",
       "      <td>199</td>\n",
       "      <td>False</td>\n",
       "      <td>-1</td>\n",
       "      <td>NaN</td>\n",
       "    </tr>\n",
       "    <tr>\n",
       "      <th>12476010</th>\n",
       "      <td>12476011</td>\n",
       "      <td>9171</td>\n",
       "      <td>85759</td>\n",
       "      <td>332.55</td>\n",
       "      <td>199</td>\n",
       "      <td>False</td>\n",
       "      <td>-1</td>\n",
       "      <td>NaN</td>\n",
       "    </tr>\n",
       "    <tr>\n",
       "      <th>12476011</th>\n",
       "      <td>12476012</td>\n",
       "      <td>5316</td>\n",
       "      <td>41817</td>\n",
       "      <td>539.75</td>\n",
       "      <td>199</td>\n",
       "      <td>False</td>\n",
       "      <td>-1</td>\n",
       "      <td>NaN</td>\n",
       "    </tr>\n",
       "  </tbody>\n",
       "</table>\n",
       "<p>12476012 rows × 8 columns</p>\n",
       "</div>"
      ],
      "text/plain": [
       "             TX_ID  SENDER_ACCOUNT_ID  RECEIVER_ACCOUNT_ID  TX_AMOUNT  \\\n",
       "0                1               5942                92982     516.95   \n",
       "1                2              86700                43995     197.88   \n",
       "2                3              86700                95516     197.88   \n",
       "3                4              86700                83911     197.88   \n",
       "4                5              86700                82801     197.88   \n",
       "...            ...                ...                  ...        ...   \n",
       "12476007  12476008              21152                 4931      37.62   \n",
       "12476008  12476009              21152                78099      37.62   \n",
       "12476009  12476010              65293                35701     521.48   \n",
       "12476010  12476011               9171                85759     332.55   \n",
       "12476011  12476012               5316                41817     539.75   \n",
       "\n",
       "          TIMESTAMP  IS_FRAUD ALERT_ID ALERT_TYPE  \n",
       "0                 0     False       -1        NaN  \n",
       "1                 0     False       -1        NaN  \n",
       "2                 0     False       -1        NaN  \n",
       "3                 0     False       -1        NaN  \n",
       "4                 0     False       -1        NaN  \n",
       "...             ...       ...      ...        ...  \n",
       "12476007        199     False       -1        NaN  \n",
       "12476008        199     False       -1        NaN  \n",
       "12476009        199     False       -1        NaN  \n",
       "12476010        199     False       -1        NaN  \n",
       "12476011        199     False       -1        NaN  \n",
       "\n",
       "[12476012 rows x 8 columns]"
      ]
     },
     "execution_count": 60,
     "metadata": {},
     "output_type": "execute_result"
    }
   ],
   "source": [
    "transactions = transactions.merge(alerts[['TX_ID', 'ALERT_TYPE']], on='TX_ID', how='left')\n",
    "\n",
    "transactions"
   ]
  },
  {
   "cell_type": "code",
   "execution_count": 61,
   "id": "426de7b6",
   "metadata": {},
   "outputs": [
    {
     "data": {
      "text/html": [
       "<div>\n",
       "<style scoped>\n",
       "    .dataframe tbody tr th:only-of-type {\n",
       "        vertical-align: middle;\n",
       "    }\n",
       "\n",
       "    .dataframe tbody tr th {\n",
       "        vertical-align: top;\n",
       "    }\n",
       "\n",
       "    .dataframe thead th {\n",
       "        text-align: right;\n",
       "    }\n",
       "</style>\n",
       "<table border=\"1\" class=\"dataframe\">\n",
       "  <thead>\n",
       "    <tr style=\"text-align: right;\">\n",
       "      <th></th>\n",
       "      <th>TX_ID</th>\n",
       "      <th>SENDER_ACCOUNT_ID</th>\n",
       "      <th>RECEIVER_ACCOUNT_ID</th>\n",
       "      <th>TX_AMOUNT</th>\n",
       "      <th>TIMESTAMP</th>\n",
       "      <th>IS_FRAUD</th>\n",
       "      <th>ALERT_ID</th>\n",
       "      <th>ALERT_TYPE</th>\n",
       "    </tr>\n",
       "  </thead>\n",
       "  <tbody>\n",
       "    <tr>\n",
       "      <th>0</th>\n",
       "      <td>1</td>\n",
       "      <td>5942</td>\n",
       "      <td>92982</td>\n",
       "      <td>516.95</td>\n",
       "      <td>0</td>\n",
       "      <td>False</td>\n",
       "      <td>-1</td>\n",
       "      <td>None</td>\n",
       "    </tr>\n",
       "    <tr>\n",
       "      <th>1</th>\n",
       "      <td>2</td>\n",
       "      <td>86700</td>\n",
       "      <td>43995</td>\n",
       "      <td>197.88</td>\n",
       "      <td>0</td>\n",
       "      <td>False</td>\n",
       "      <td>-1</td>\n",
       "      <td>None</td>\n",
       "    </tr>\n",
       "    <tr>\n",
       "      <th>2</th>\n",
       "      <td>3</td>\n",
       "      <td>86700</td>\n",
       "      <td>95516</td>\n",
       "      <td>197.88</td>\n",
       "      <td>0</td>\n",
       "      <td>False</td>\n",
       "      <td>-1</td>\n",
       "      <td>None</td>\n",
       "    </tr>\n",
       "    <tr>\n",
       "      <th>3</th>\n",
       "      <td>4</td>\n",
       "      <td>86700</td>\n",
       "      <td>83911</td>\n",
       "      <td>197.88</td>\n",
       "      <td>0</td>\n",
       "      <td>False</td>\n",
       "      <td>-1</td>\n",
       "      <td>None</td>\n",
       "    </tr>\n",
       "    <tr>\n",
       "      <th>4</th>\n",
       "      <td>5</td>\n",
       "      <td>86700</td>\n",
       "      <td>82801</td>\n",
       "      <td>197.88</td>\n",
       "      <td>0</td>\n",
       "      <td>False</td>\n",
       "      <td>-1</td>\n",
       "      <td>None</td>\n",
       "    </tr>\n",
       "    <tr>\n",
       "      <th>...</th>\n",
       "      <td>...</td>\n",
       "      <td>...</td>\n",
       "      <td>...</td>\n",
       "      <td>...</td>\n",
       "      <td>...</td>\n",
       "      <td>...</td>\n",
       "      <td>...</td>\n",
       "      <td>...</td>\n",
       "    </tr>\n",
       "    <tr>\n",
       "      <th>12476007</th>\n",
       "      <td>12476008</td>\n",
       "      <td>21152</td>\n",
       "      <td>4931</td>\n",
       "      <td>37.62</td>\n",
       "      <td>199</td>\n",
       "      <td>False</td>\n",
       "      <td>-1</td>\n",
       "      <td>None</td>\n",
       "    </tr>\n",
       "    <tr>\n",
       "      <th>12476008</th>\n",
       "      <td>12476009</td>\n",
       "      <td>21152</td>\n",
       "      <td>78099</td>\n",
       "      <td>37.62</td>\n",
       "      <td>199</td>\n",
       "      <td>False</td>\n",
       "      <td>-1</td>\n",
       "      <td>None</td>\n",
       "    </tr>\n",
       "    <tr>\n",
       "      <th>12476009</th>\n",
       "      <td>12476010</td>\n",
       "      <td>65293</td>\n",
       "      <td>35701</td>\n",
       "      <td>521.48</td>\n",
       "      <td>199</td>\n",
       "      <td>False</td>\n",
       "      <td>-1</td>\n",
       "      <td>None</td>\n",
       "    </tr>\n",
       "    <tr>\n",
       "      <th>12476010</th>\n",
       "      <td>12476011</td>\n",
       "      <td>9171</td>\n",
       "      <td>85759</td>\n",
       "      <td>332.55</td>\n",
       "      <td>199</td>\n",
       "      <td>False</td>\n",
       "      <td>-1</td>\n",
       "      <td>None</td>\n",
       "    </tr>\n",
       "    <tr>\n",
       "      <th>12476011</th>\n",
       "      <td>12476012</td>\n",
       "      <td>5316</td>\n",
       "      <td>41817</td>\n",
       "      <td>539.75</td>\n",
       "      <td>199</td>\n",
       "      <td>False</td>\n",
       "      <td>-1</td>\n",
       "      <td>None</td>\n",
       "    </tr>\n",
       "  </tbody>\n",
       "</table>\n",
       "<p>12476012 rows × 8 columns</p>\n",
       "</div>"
      ],
      "text/plain": [
       "             TX_ID  SENDER_ACCOUNT_ID  RECEIVER_ACCOUNT_ID  TX_AMOUNT  \\\n",
       "0                1               5942                92982     516.95   \n",
       "1                2              86700                43995     197.88   \n",
       "2                3              86700                95516     197.88   \n",
       "3                4              86700                83911     197.88   \n",
       "4                5              86700                82801     197.88   \n",
       "...            ...                ...                  ...        ...   \n",
       "12476007  12476008              21152                 4931      37.62   \n",
       "12476008  12476009              21152                78099      37.62   \n",
       "12476009  12476010              65293                35701     521.48   \n",
       "12476010  12476011               9171                85759     332.55   \n",
       "12476011  12476012               5316                41817     539.75   \n",
       "\n",
       "          TIMESTAMP  IS_FRAUD ALERT_ID ALERT_TYPE  \n",
       "0                 0     False       -1       None  \n",
       "1                 0     False       -1       None  \n",
       "2                 0     False       -1       None  \n",
       "3                 0     False       -1       None  \n",
       "4                 0     False       -1       None  \n",
       "...             ...       ...      ...        ...  \n",
       "12476007        199     False       -1       None  \n",
       "12476008        199     False       -1       None  \n",
       "12476009        199     False       -1       None  \n",
       "12476010        199     False       -1       None  \n",
       "12476011        199     False       -1       None  \n",
       "\n",
       "[12476012 rows x 8 columns]"
      ]
     },
     "execution_count": 61,
     "metadata": {},
     "output_type": "execute_result"
    }
   ],
   "source": [
    "#fill NaN values in Alert Type\n",
    "transactions['ALERT_TYPE'].fillna('None', inplace=True)\n",
    "transactions"
   ]
  },
  {
   "cell_type": "markdown",
   "id": "d22ee992",
   "metadata": {},
   "source": [
    "Integrate **Transactions and Accounts**"
   ]
  },
  {
   "cell_type": "code",
   "execution_count": 62,
   "id": "58120426",
   "metadata": {},
   "outputs": [
    {
     "name": "stdout",
     "output_type": "stream",
     "text": [
      "       ACCOUNT_ID CUSTOMER_ID  INIT_BALANCE  IS_FRAUD TX_BEHAVIOR_ID\n",
      "5942         5942      C_5942        516.95     False              3\n",
      "92982       92982     C_92982        281.32      True              2\n"
     ]
    }
   ],
   "source": [
    "#confirm that account ID in accounts is reflected in sender/receiver account ID in transactions\n",
    "print(accounts[(accounts['ACCOUNT_ID'] == 5942) | (accounts['ACCOUNT_ID'] == 92982)])"
   ]
  },
  {
   "cell_type": "code",
   "execution_count": 63,
   "id": "99e65319",
   "metadata": {},
   "outputs": [
    {
     "data": {
      "text/html": [
       "<div>\n",
       "<style scoped>\n",
       "    .dataframe tbody tr th:only-of-type {\n",
       "        vertical-align: middle;\n",
       "    }\n",
       "\n",
       "    .dataframe tbody tr th {\n",
       "        vertical-align: top;\n",
       "    }\n",
       "\n",
       "    .dataframe thead th {\n",
       "        text-align: right;\n",
       "    }\n",
       "</style>\n",
       "<table border=\"1\" class=\"dataframe\">\n",
       "  <thead>\n",
       "    <tr style=\"text-align: right;\">\n",
       "      <th></th>\n",
       "      <th>ACCOUNT_ID</th>\n",
       "      <th>CUSTOMER_ID</th>\n",
       "      <th>INIT_BALANCE</th>\n",
       "      <th>IS_FRAUD_x</th>\n",
       "      <th>TX_BEHAVIOR_ID</th>\n",
       "      <th>TX_ID</th>\n",
       "      <th>SENDER_ACCOUNT_ID</th>\n",
       "      <th>RECEIVER_ACCOUNT_ID</th>\n",
       "      <th>TX_AMOUNT</th>\n",
       "      <th>TIMESTAMP</th>\n",
       "      <th>IS_FRAUD_y</th>\n",
       "      <th>ALERT_ID</th>\n",
       "      <th>ALERT_TYPE</th>\n",
       "    </tr>\n",
       "  </thead>\n",
       "  <tbody>\n",
       "    <tr>\n",
       "      <th>0</th>\n",
       "      <td>0</td>\n",
       "      <td>C_0</td>\n",
       "      <td>184.44</td>\n",
       "      <td>False</td>\n",
       "      <td>1</td>\n",
       "      <td>76779</td>\n",
       "      <td>0</td>\n",
       "      <td>17570</td>\n",
       "      <td>184.44</td>\n",
       "      <td>1</td>\n",
       "      <td>False</td>\n",
       "      <td>-1</td>\n",
       "      <td>None</td>\n",
       "    </tr>\n",
       "    <tr>\n",
       "      <th>1</th>\n",
       "      <td>0</td>\n",
       "      <td>C_0</td>\n",
       "      <td>184.44</td>\n",
       "      <td>False</td>\n",
       "      <td>1</td>\n",
       "      <td>1915266</td>\n",
       "      <td>0</td>\n",
       "      <td>17570</td>\n",
       "      <td>184.44</td>\n",
       "      <td>30</td>\n",
       "      <td>False</td>\n",
       "      <td>-1</td>\n",
       "      <td>None</td>\n",
       "    </tr>\n",
       "    <tr>\n",
       "      <th>2</th>\n",
       "      <td>0</td>\n",
       "      <td>C_0</td>\n",
       "      <td>184.44</td>\n",
       "      <td>False</td>\n",
       "      <td>1</td>\n",
       "      <td>2354475</td>\n",
       "      <td>0</td>\n",
       "      <td>17570</td>\n",
       "      <td>184.44</td>\n",
       "      <td>37</td>\n",
       "      <td>False</td>\n",
       "      <td>-1</td>\n",
       "      <td>None</td>\n",
       "    </tr>\n",
       "    <tr>\n",
       "      <th>3</th>\n",
       "      <td>0</td>\n",
       "      <td>C_0</td>\n",
       "      <td>184.44</td>\n",
       "      <td>False</td>\n",
       "      <td>1</td>\n",
       "      <td>2979634</td>\n",
       "      <td>0</td>\n",
       "      <td>17570</td>\n",
       "      <td>184.44</td>\n",
       "      <td>47</td>\n",
       "      <td>False</td>\n",
       "      <td>-1</td>\n",
       "      <td>None</td>\n",
       "    </tr>\n",
       "    <tr>\n",
       "      <th>4</th>\n",
       "      <td>0</td>\n",
       "      <td>C_0</td>\n",
       "      <td>184.44</td>\n",
       "      <td>False</td>\n",
       "      <td>1</td>\n",
       "      <td>3111796</td>\n",
       "      <td>0</td>\n",
       "      <td>17570</td>\n",
       "      <td>184.44</td>\n",
       "      <td>49</td>\n",
       "      <td>False</td>\n",
       "      <td>-1</td>\n",
       "      <td>None</td>\n",
       "    </tr>\n",
       "    <tr>\n",
       "      <th>...</th>\n",
       "      <td>...</td>\n",
       "      <td>...</td>\n",
       "      <td>...</td>\n",
       "      <td>...</td>\n",
       "      <td>...</td>\n",
       "      <td>...</td>\n",
       "      <td>...</td>\n",
       "      <td>...</td>\n",
       "      <td>...</td>\n",
       "      <td>...</td>\n",
       "      <td>...</td>\n",
       "      <td>...</td>\n",
       "      <td>...</td>\n",
       "    </tr>\n",
       "    <tr>\n",
       "      <th>12476007</th>\n",
       "      <td>99999</td>\n",
       "      <td>C_99999</td>\n",
       "      <td>390.89</td>\n",
       "      <td>True</td>\n",
       "      <td>5</td>\n",
       "      <td>12142074</td>\n",
       "      <td>99999</td>\n",
       "      <td>72612</td>\n",
       "      <td>390.89</td>\n",
       "      <td>194</td>\n",
       "      <td>False</td>\n",
       "      <td>-1</td>\n",
       "      <td>None</td>\n",
       "    </tr>\n",
       "    <tr>\n",
       "      <th>12476008</th>\n",
       "      <td>99999</td>\n",
       "      <td>C_99999</td>\n",
       "      <td>390.89</td>\n",
       "      <td>True</td>\n",
       "      <td>5</td>\n",
       "      <td>12142075</td>\n",
       "      <td>99999</td>\n",
       "      <td>92981</td>\n",
       "      <td>390.89</td>\n",
       "      <td>194</td>\n",
       "      <td>False</td>\n",
       "      <td>-1</td>\n",
       "      <td>None</td>\n",
       "    </tr>\n",
       "    <tr>\n",
       "      <th>12476009</th>\n",
       "      <td>99999</td>\n",
       "      <td>C_99999</td>\n",
       "      <td>390.89</td>\n",
       "      <td>True</td>\n",
       "      <td>5</td>\n",
       "      <td>12142076</td>\n",
       "      <td>99999</td>\n",
       "      <td>19105</td>\n",
       "      <td>390.89</td>\n",
       "      <td>194</td>\n",
       "      <td>False</td>\n",
       "      <td>-1</td>\n",
       "      <td>None</td>\n",
       "    </tr>\n",
       "    <tr>\n",
       "      <th>12476010</th>\n",
       "      <td>99999</td>\n",
       "      <td>C_99999</td>\n",
       "      <td>390.89</td>\n",
       "      <td>True</td>\n",
       "      <td>5</td>\n",
       "      <td>12142077</td>\n",
       "      <td>99999</td>\n",
       "      <td>45752</td>\n",
       "      <td>390.89</td>\n",
       "      <td>194</td>\n",
       "      <td>False</td>\n",
       "      <td>-1</td>\n",
       "      <td>None</td>\n",
       "    </tr>\n",
       "    <tr>\n",
       "      <th>12476011</th>\n",
       "      <td>99999</td>\n",
       "      <td>C_99999</td>\n",
       "      <td>390.89</td>\n",
       "      <td>True</td>\n",
       "      <td>5</td>\n",
       "      <td>12142078</td>\n",
       "      <td>99999</td>\n",
       "      <td>18892</td>\n",
       "      <td>390.89</td>\n",
       "      <td>194</td>\n",
       "      <td>False</td>\n",
       "      <td>-1</td>\n",
       "      <td>None</td>\n",
       "    </tr>\n",
       "  </tbody>\n",
       "</table>\n",
       "<p>12476012 rows × 13 columns</p>\n",
       "</div>"
      ],
      "text/plain": [
       "          ACCOUNT_ID CUSTOMER_ID  INIT_BALANCE  IS_FRAUD_x TX_BEHAVIOR_ID  \\\n",
       "0                  0         C_0        184.44       False              1   \n",
       "1                  0         C_0        184.44       False              1   \n",
       "2                  0         C_0        184.44       False              1   \n",
       "3                  0         C_0        184.44       False              1   \n",
       "4                  0         C_0        184.44       False              1   \n",
       "...              ...         ...           ...         ...            ...   \n",
       "12476007       99999     C_99999        390.89        True              5   \n",
       "12476008       99999     C_99999        390.89        True              5   \n",
       "12476009       99999     C_99999        390.89        True              5   \n",
       "12476010       99999     C_99999        390.89        True              5   \n",
       "12476011       99999     C_99999        390.89        True              5   \n",
       "\n",
       "             TX_ID  SENDER_ACCOUNT_ID  RECEIVER_ACCOUNT_ID  TX_AMOUNT  \\\n",
       "0            76779                  0                17570     184.44   \n",
       "1          1915266                  0                17570     184.44   \n",
       "2          2354475                  0                17570     184.44   \n",
       "3          2979634                  0                17570     184.44   \n",
       "4          3111796                  0                17570     184.44   \n",
       "...            ...                ...                  ...        ...   \n",
       "12476007  12142074              99999                72612     390.89   \n",
       "12476008  12142075              99999                92981     390.89   \n",
       "12476009  12142076              99999                19105     390.89   \n",
       "12476010  12142077              99999                45752     390.89   \n",
       "12476011  12142078              99999                18892     390.89   \n",
       "\n",
       "          TIMESTAMP  IS_FRAUD_y ALERT_ID ALERT_TYPE  \n",
       "0                 1       False       -1       None  \n",
       "1                30       False       -1       None  \n",
       "2                37       False       -1       None  \n",
       "3                47       False       -1       None  \n",
       "4                49       False       -1       None  \n",
       "...             ...         ...      ...        ...  \n",
       "12476007        194       False       -1       None  \n",
       "12476008        194       False       -1       None  \n",
       "12476009        194       False       -1       None  \n",
       "12476010        194       False       -1       None  \n",
       "12476011        194       False       -1       None  \n",
       "\n",
       "[12476012 rows x 13 columns]"
      ]
     },
     "execution_count": 63,
     "metadata": {},
     "output_type": "execute_result"
    }
   ],
   "source": [
    "#integrate both databases on senders\n",
    "data = pd.merge(accounts, transactions, left_on='ACCOUNT_ID', right_on='SENDER_ACCOUNT_ID', how='inner')\n",
    "data"
   ]
  },
  {
   "cell_type": "code",
   "execution_count": 64,
   "id": "7370bad7",
   "metadata": {},
   "outputs": [],
   "source": [
    "#drop duplicate columns\n",
    "data.drop(['ACCOUNT_ID', 'IS_FRAUD_x'], axis=1, inplace=True)"
   ]
  },
  {
   "cell_type": "code",
   "execution_count": 65,
   "id": "dab424bd",
   "metadata": {},
   "outputs": [],
   "source": [
    "#rearrange columns for clarity\n",
    "columns_to_move = data[['RECEIVER_ACCOUNT_ID', 'SENDER_ACCOUNT_ID']] \n",
    "desired_position = 1\n",
    "\n",
    "data.drop(columns=['RECEIVER_ACCOUNT_ID', 'SENDER_ACCOUNT_ID'], inplace=True)\n",
    "\n",
    "for col_name, col_data in columns_to_move.iteritems():\n",
    "    data.insert(desired_position, col_name, col_data)"
   ]
  },
  {
   "cell_type": "code",
   "execution_count": 66,
   "id": "c4b4b45b",
   "metadata": {},
   "outputs": [
    {
     "data": {
      "text/html": [
       "<div>\n",
       "<style scoped>\n",
       "    .dataframe tbody tr th:only-of-type {\n",
       "        vertical-align: middle;\n",
       "    }\n",
       "\n",
       "    .dataframe tbody tr th {\n",
       "        vertical-align: top;\n",
       "    }\n",
       "\n",
       "    .dataframe thead th {\n",
       "        text-align: right;\n",
       "    }\n",
       "</style>\n",
       "<table border=\"1\" class=\"dataframe\">\n",
       "  <thead>\n",
       "    <tr style=\"text-align: right;\">\n",
       "      <th></th>\n",
       "      <th>CUSTOMER_ID</th>\n",
       "      <th>SENDER_ACCOUNT_ID</th>\n",
       "      <th>RECEIVER_ACCOUNT_ID</th>\n",
       "      <th>INIT_BALANCE</th>\n",
       "      <th>TX_BEHAVIOR_ID</th>\n",
       "      <th>TX_ID</th>\n",
       "      <th>TX_AMOUNT</th>\n",
       "      <th>TIMESTAMP</th>\n",
       "      <th>IS_FRAUD</th>\n",
       "      <th>ALERT_ID</th>\n",
       "      <th>ALERT_TYPE</th>\n",
       "    </tr>\n",
       "  </thead>\n",
       "  <tbody>\n",
       "    <tr>\n",
       "      <th>0</th>\n",
       "      <td>C_0</td>\n",
       "      <td>0</td>\n",
       "      <td>17570</td>\n",
       "      <td>184.44</td>\n",
       "      <td>1</td>\n",
       "      <td>76779</td>\n",
       "      <td>184.44</td>\n",
       "      <td>1</td>\n",
       "      <td>False</td>\n",
       "      <td>-1</td>\n",
       "      <td>None</td>\n",
       "    </tr>\n",
       "    <tr>\n",
       "      <th>1</th>\n",
       "      <td>C_0</td>\n",
       "      <td>0</td>\n",
       "      <td>17570</td>\n",
       "      <td>184.44</td>\n",
       "      <td>1</td>\n",
       "      <td>1915266</td>\n",
       "      <td>184.44</td>\n",
       "      <td>30</td>\n",
       "      <td>False</td>\n",
       "      <td>-1</td>\n",
       "      <td>None</td>\n",
       "    </tr>\n",
       "    <tr>\n",
       "      <th>2</th>\n",
       "      <td>C_0</td>\n",
       "      <td>0</td>\n",
       "      <td>17570</td>\n",
       "      <td>184.44</td>\n",
       "      <td>1</td>\n",
       "      <td>2354475</td>\n",
       "      <td>184.44</td>\n",
       "      <td>37</td>\n",
       "      <td>False</td>\n",
       "      <td>-1</td>\n",
       "      <td>None</td>\n",
       "    </tr>\n",
       "    <tr>\n",
       "      <th>3</th>\n",
       "      <td>C_0</td>\n",
       "      <td>0</td>\n",
       "      <td>17570</td>\n",
       "      <td>184.44</td>\n",
       "      <td>1</td>\n",
       "      <td>2979634</td>\n",
       "      <td>184.44</td>\n",
       "      <td>47</td>\n",
       "      <td>False</td>\n",
       "      <td>-1</td>\n",
       "      <td>None</td>\n",
       "    </tr>\n",
       "    <tr>\n",
       "      <th>4</th>\n",
       "      <td>C_0</td>\n",
       "      <td>0</td>\n",
       "      <td>17570</td>\n",
       "      <td>184.44</td>\n",
       "      <td>1</td>\n",
       "      <td>3111796</td>\n",
       "      <td>184.44</td>\n",
       "      <td>49</td>\n",
       "      <td>False</td>\n",
       "      <td>-1</td>\n",
       "      <td>None</td>\n",
       "    </tr>\n",
       "    <tr>\n",
       "      <th>...</th>\n",
       "      <td>...</td>\n",
       "      <td>...</td>\n",
       "      <td>...</td>\n",
       "      <td>...</td>\n",
       "      <td>...</td>\n",
       "      <td>...</td>\n",
       "      <td>...</td>\n",
       "      <td>...</td>\n",
       "      <td>...</td>\n",
       "      <td>...</td>\n",
       "      <td>...</td>\n",
       "    </tr>\n",
       "    <tr>\n",
       "      <th>12476007</th>\n",
       "      <td>C_99999</td>\n",
       "      <td>99999</td>\n",
       "      <td>72612</td>\n",
       "      <td>390.89</td>\n",
       "      <td>5</td>\n",
       "      <td>12142074</td>\n",
       "      <td>390.89</td>\n",
       "      <td>194</td>\n",
       "      <td>False</td>\n",
       "      <td>-1</td>\n",
       "      <td>None</td>\n",
       "    </tr>\n",
       "    <tr>\n",
       "      <th>12476008</th>\n",
       "      <td>C_99999</td>\n",
       "      <td>99999</td>\n",
       "      <td>92981</td>\n",
       "      <td>390.89</td>\n",
       "      <td>5</td>\n",
       "      <td>12142075</td>\n",
       "      <td>390.89</td>\n",
       "      <td>194</td>\n",
       "      <td>False</td>\n",
       "      <td>-1</td>\n",
       "      <td>None</td>\n",
       "    </tr>\n",
       "    <tr>\n",
       "      <th>12476009</th>\n",
       "      <td>C_99999</td>\n",
       "      <td>99999</td>\n",
       "      <td>19105</td>\n",
       "      <td>390.89</td>\n",
       "      <td>5</td>\n",
       "      <td>12142076</td>\n",
       "      <td>390.89</td>\n",
       "      <td>194</td>\n",
       "      <td>False</td>\n",
       "      <td>-1</td>\n",
       "      <td>None</td>\n",
       "    </tr>\n",
       "    <tr>\n",
       "      <th>12476010</th>\n",
       "      <td>C_99999</td>\n",
       "      <td>99999</td>\n",
       "      <td>45752</td>\n",
       "      <td>390.89</td>\n",
       "      <td>5</td>\n",
       "      <td>12142077</td>\n",
       "      <td>390.89</td>\n",
       "      <td>194</td>\n",
       "      <td>False</td>\n",
       "      <td>-1</td>\n",
       "      <td>None</td>\n",
       "    </tr>\n",
       "    <tr>\n",
       "      <th>12476011</th>\n",
       "      <td>C_99999</td>\n",
       "      <td>99999</td>\n",
       "      <td>18892</td>\n",
       "      <td>390.89</td>\n",
       "      <td>5</td>\n",
       "      <td>12142078</td>\n",
       "      <td>390.89</td>\n",
       "      <td>194</td>\n",
       "      <td>False</td>\n",
       "      <td>-1</td>\n",
       "      <td>None</td>\n",
       "    </tr>\n",
       "  </tbody>\n",
       "</table>\n",
       "<p>12476012 rows × 11 columns</p>\n",
       "</div>"
      ],
      "text/plain": [
       "         CUSTOMER_ID  SENDER_ACCOUNT_ID  RECEIVER_ACCOUNT_ID  INIT_BALANCE  \\\n",
       "0                C_0                  0                17570        184.44   \n",
       "1                C_0                  0                17570        184.44   \n",
       "2                C_0                  0                17570        184.44   \n",
       "3                C_0                  0                17570        184.44   \n",
       "4                C_0                  0                17570        184.44   \n",
       "...              ...                ...                  ...           ...   \n",
       "12476007     C_99999              99999                72612        390.89   \n",
       "12476008     C_99999              99999                92981        390.89   \n",
       "12476009     C_99999              99999                19105        390.89   \n",
       "12476010     C_99999              99999                45752        390.89   \n",
       "12476011     C_99999              99999                18892        390.89   \n",
       "\n",
       "         TX_BEHAVIOR_ID     TX_ID  TX_AMOUNT  TIMESTAMP  IS_FRAUD ALERT_ID  \\\n",
       "0                     1     76779     184.44          1     False       -1   \n",
       "1                     1   1915266     184.44         30     False       -1   \n",
       "2                     1   2354475     184.44         37     False       -1   \n",
       "3                     1   2979634     184.44         47     False       -1   \n",
       "4                     1   3111796     184.44         49     False       -1   \n",
       "...                 ...       ...        ...        ...       ...      ...   \n",
       "12476007              5  12142074     390.89        194     False       -1   \n",
       "12476008              5  12142075     390.89        194     False       -1   \n",
       "12476009              5  12142076     390.89        194     False       -1   \n",
       "12476010              5  12142077     390.89        194     False       -1   \n",
       "12476011              5  12142078     390.89        194     False       -1   \n",
       "\n",
       "         ALERT_TYPE  \n",
       "0              None  \n",
       "1              None  \n",
       "2              None  \n",
       "3              None  \n",
       "4              None  \n",
       "...             ...  \n",
       "12476007       None  \n",
       "12476008       None  \n",
       "12476009       None  \n",
       "12476010       None  \n",
       "12476011       None  \n",
       "\n",
       "[12476012 rows x 11 columns]"
      ]
     },
     "execution_count": 66,
     "metadata": {},
     "output_type": "execute_result"
    }
   ],
   "source": [
    "data.rename(columns={'IS_FRAUD_y': 'IS_FRAUD'}, inplace=True)\n",
    "data"
   ]
  },
  {
   "cell_type": "code",
   "execution_count": 67,
   "id": "c9b6b504",
   "metadata": {
    "scrolled": true
   },
   "outputs": [
    {
     "name": "stdout",
     "output_type": "stream",
     "text": [
      "     ALERT_ID     COUNT\n",
      "0          -1  12458960\n",
      "1        2347         5\n",
      "2        3212         5\n",
      "3        2521         5\n",
      "4        3823         5\n",
      "...       ...       ...\n",
      "3906     2701         1\n",
      "3907     2887         1\n",
      "3908      265         1\n",
      "3909     2992         1\n",
      "3910     3262         1\n",
      "\n",
      "[3911 rows x 2 columns]\n"
     ]
    }
   ],
   "source": [
    "alert_id_counts = data['ALERT_ID'].value_counts().reset_index()\n",
    "alert_id_counts.columns = ['ALERT_ID', 'COUNT']\n",
    "\n",
    "# Verify the counts\n",
    "print(alert_id_counts)"
   ]
  },
  {
   "cell_type": "code",
   "execution_count": 68,
   "id": "e66e7a59",
   "metadata": {},
   "outputs": [
    {
     "data": {
      "text/plain": [
       "3911"
      ]
     },
     "execution_count": 68,
     "metadata": {},
     "output_type": "execute_result"
    }
   ],
   "source": [
    "data['ALERT_ID'].nunique()"
   ]
  },
  {
   "cell_type": "code",
   "execution_count": 69,
   "id": "2e85b9e9",
   "metadata": {},
   "outputs": [
    {
     "data": {
      "image/png": "[encoded data removed]",
      "text/plain": [
       "<Figure size 864x432 with 1 Axes>"
      ]
     },
     "metadata": {},
     "output_type": "display_data"
    }
   ],
   "source": [
    "plt.figure(figsize=(12, 6))\n",
    "\n",
    "plt.scatter(data['CUSTOMER_ID'], data['SENDER_ACCOUNT_ID'], alpha=0.5, marker='o')\n",
    "plt.title('Relationship between CUSTOMER_ID and SENDER_ACCOUNT_ID')\n",
    "plt.xlabel('CUSTOMER_ID')\n",
    "plt.ylabel('SENDER_ACCOUNT_ID')\n",
    "plt.grid(True)\n",
    "plt.show()"
   ]
  },
  {
   "cell_type": "code",
   "execution_count": 70,
   "id": "02fec372",
   "metadata": {
    "scrolled": true
   },
   "outputs": [
    {
     "data": {
      "image/png": "[encoded data removed]",
      "text/plain": [
       "<Figure size 864x432 with 1 Axes>"
      ]
     },
     "metadata": {},
     "output_type": "display_data"
    }
   ],
   "source": [
    "plt.figure(figsize=(12, 6))\n",
    "\n",
    "data_sorted = data.sort_values(by='TIMESTAMP')\n",
    "\n",
    "plt.plot(data_sorted['TIMESTAMP'], data_sorted['TX_ID'], marker='o', linestyle='-', markersize=2)\n",
    "plt.title('TX_ID over Time')\n",
    "plt.xlabel('TIMESTAMP')\n",
    "plt.ylabel('TX_ID')\n",
    "plt.grid(True)\n",
    "plt.show()"
   ]
  },
  {
   "cell_type": "markdown",
   "id": "d27f32c9",
   "metadata": {},
   "source": [
    "CUSTOMER_ID and TX_ID are redundant."
   ]
  },
  {
   "cell_type": "code",
   "execution_count": 71,
   "id": "90fc44c8",
   "metadata": {},
   "outputs": [],
   "source": [
    "data.drop(['CUSTOMER_ID', 'TX_ID'], axis=1, inplace=True)"
   ]
  },
  {
   "cell_type": "code",
   "execution_count": 72,
   "id": "a6dc2c84",
   "metadata": {
    "scrolled": true
   },
   "outputs": [
    {
     "data": {
      "text/html": [
       "<div>\n",
       "<style scoped>\n",
       "    .dataframe tbody tr th:only-of-type {\n",
       "        vertical-align: middle;\n",
       "    }\n",
       "\n",
       "    .dataframe tbody tr th {\n",
       "        vertical-align: top;\n",
       "    }\n",
       "\n",
       "    .dataframe thead th {\n",
       "        text-align: right;\n",
       "    }\n",
       "</style>\n",
       "<table border=\"1\" class=\"dataframe\">\n",
       "  <thead>\n",
       "    <tr style=\"text-align: right;\">\n",
       "      <th></th>\n",
       "      <th>SENDER_ACCOUNT_ID</th>\n",
       "      <th>RECEIVER_ACCOUNT_ID</th>\n",
       "      <th>INIT_BALANCE</th>\n",
       "      <th>TX_BEHAVIOR_ID</th>\n",
       "      <th>TX_AMOUNT</th>\n",
       "      <th>TIMESTAMP</th>\n",
       "      <th>IS_FRAUD</th>\n",
       "      <th>ALERT_ID</th>\n",
       "      <th>ALERT_TYPE</th>\n",
       "    </tr>\n",
       "  </thead>\n",
       "  <tbody>\n",
       "    <tr>\n",
       "      <th>0</th>\n",
       "      <td>0</td>\n",
       "      <td>17570</td>\n",
       "      <td>184.44</td>\n",
       "      <td>1</td>\n",
       "      <td>184.44</td>\n",
       "      <td>1</td>\n",
       "      <td>False</td>\n",
       "      <td>-1</td>\n",
       "      <td>None</td>\n",
       "    </tr>\n",
       "    <tr>\n",
       "      <th>1</th>\n",
       "      <td>0</td>\n",
       "      <td>17570</td>\n",
       "      <td>184.44</td>\n",
       "      <td>1</td>\n",
       "      <td>184.44</td>\n",
       "      <td>30</td>\n",
       "      <td>False</td>\n",
       "      <td>-1</td>\n",
       "      <td>None</td>\n",
       "    </tr>\n",
       "    <tr>\n",
       "      <th>2</th>\n",
       "      <td>0</td>\n",
       "      <td>17570</td>\n",
       "      <td>184.44</td>\n",
       "      <td>1</td>\n",
       "      <td>184.44</td>\n",
       "      <td>37</td>\n",
       "      <td>False</td>\n",
       "      <td>-1</td>\n",
       "      <td>None</td>\n",
       "    </tr>\n",
       "    <tr>\n",
       "      <th>3</th>\n",
       "      <td>0</td>\n",
       "      <td>17570</td>\n",
       "      <td>184.44</td>\n",
       "      <td>1</td>\n",
       "      <td>184.44</td>\n",
       "      <td>47</td>\n",
       "      <td>False</td>\n",
       "      <td>-1</td>\n",
       "      <td>None</td>\n",
       "    </tr>\n",
       "    <tr>\n",
       "      <th>4</th>\n",
       "      <td>0</td>\n",
       "      <td>17570</td>\n",
       "      <td>184.44</td>\n",
       "      <td>1</td>\n",
       "      <td>184.44</td>\n",
       "      <td>49</td>\n",
       "      <td>False</td>\n",
       "      <td>-1</td>\n",
       "      <td>None</td>\n",
       "    </tr>\n",
       "    <tr>\n",
       "      <th>...</th>\n",
       "      <td>...</td>\n",
       "      <td>...</td>\n",
       "      <td>...</td>\n",
       "      <td>...</td>\n",
       "      <td>...</td>\n",
       "      <td>...</td>\n",
       "      <td>...</td>\n",
       "      <td>...</td>\n",
       "      <td>...</td>\n",
       "    </tr>\n",
       "    <tr>\n",
       "      <th>12476007</th>\n",
       "      <td>99999</td>\n",
       "      <td>72612</td>\n",
       "      <td>390.89</td>\n",
       "      <td>5</td>\n",
       "      <td>390.89</td>\n",
       "      <td>194</td>\n",
       "      <td>False</td>\n",
       "      <td>-1</td>\n",
       "      <td>None</td>\n",
       "    </tr>\n",
       "    <tr>\n",
       "      <th>12476008</th>\n",
       "      <td>99999</td>\n",
       "      <td>92981</td>\n",
       "      <td>390.89</td>\n",
       "      <td>5</td>\n",
       "      <td>390.89</td>\n",
       "      <td>194</td>\n",
       "      <td>False</td>\n",
       "      <td>-1</td>\n",
       "      <td>None</td>\n",
       "    </tr>\n",
       "    <tr>\n",
       "      <th>12476009</th>\n",
       "      <td>99999</td>\n",
       "      <td>19105</td>\n",
       "      <td>390.89</td>\n",
       "      <td>5</td>\n",
       "      <td>390.89</td>\n",
       "      <td>194</td>\n",
       "      <td>False</td>\n",
       "      <td>-1</td>\n",
       "      <td>None</td>\n",
       "    </tr>\n",
       "    <tr>\n",
       "      <th>12476010</th>\n",
       "      <td>99999</td>\n",
       "      <td>45752</td>\n",
       "      <td>390.89</td>\n",
       "      <td>5</td>\n",
       "      <td>390.89</td>\n",
       "      <td>194</td>\n",
       "      <td>False</td>\n",
       "      <td>-1</td>\n",
       "      <td>None</td>\n",
       "    </tr>\n",
       "    <tr>\n",
       "      <th>12476011</th>\n",
       "      <td>99999</td>\n",
       "      <td>18892</td>\n",
       "      <td>390.89</td>\n",
       "      <td>5</td>\n",
       "      <td>390.89</td>\n",
       "      <td>194</td>\n",
       "      <td>False</td>\n",
       "      <td>-1</td>\n",
       "      <td>None</td>\n",
       "    </tr>\n",
       "  </tbody>\n",
       "</table>\n",
       "<p>12476012 rows × 9 columns</p>\n",
       "</div>"
      ],
      "text/plain": [
       "          SENDER_ACCOUNT_ID  RECEIVER_ACCOUNT_ID  INIT_BALANCE TX_BEHAVIOR_ID  \\\n",
       "0                         0                17570        184.44              1   \n",
       "1                         0                17570        184.44              1   \n",
       "2                         0                17570        184.44              1   \n",
       "3                         0                17570        184.44              1   \n",
       "4                         0                17570        184.44              1   \n",
       "...                     ...                  ...           ...            ...   \n",
       "12476007              99999                72612        390.89              5   \n",
       "12476008              99999                92981        390.89              5   \n",
       "12476009              99999                19105        390.89              5   \n",
       "12476010              99999                45752        390.89              5   \n",
       "12476011              99999                18892        390.89              5   \n",
       "\n",
       "          TX_AMOUNT  TIMESTAMP  IS_FRAUD ALERT_ID ALERT_TYPE  \n",
       "0            184.44          1     False       -1       None  \n",
       "1            184.44         30     False       -1       None  \n",
       "2            184.44         37     False       -1       None  \n",
       "3            184.44         47     False       -1       None  \n",
       "4            184.44         49     False       -1       None  \n",
       "...             ...        ...       ...      ...        ...  \n",
       "12476007     390.89        194     False       -1       None  \n",
       "12476008     390.89        194     False       -1       None  \n",
       "12476009     390.89        194     False       -1       None  \n",
       "12476010     390.89        194     False       -1       None  \n",
       "12476011     390.89        194     False       -1       None  \n",
       "\n",
       "[12476012 rows x 9 columns]"
      ]
     },
     "execution_count": 72,
     "metadata": {},
     "output_type": "execute_result"
    }
   ],
   "source": [
    "data"
   ]
  },
  {
   "cell_type": "code",
   "execution_count": 73,
   "id": "e733e66e",
   "metadata": {
    "scrolled": true
   },
   "outputs": [
    {
     "data": {
      "text/plain": [
       "SENDER_ACCOUNT_ID        int64\n",
       "RECEIVER_ACCOUNT_ID      int64\n",
       "INIT_BALANCE           float64\n",
       "TX_BEHAVIOR_ID          object\n",
       "TX_AMOUNT              float64\n",
       "TIMESTAMP                int64\n",
       "IS_FRAUD                  bool\n",
       "ALERT_ID                object\n",
       "ALERT_TYPE              object\n",
       "dtype: object"
      ]
     },
     "execution_count": 73,
     "metadata": {},
     "output_type": "execute_result"
    }
   ],
   "source": [
    "data.dtypes"
   ]
  },
  {
   "cell_type": "code",
   "execution_count": 74,
   "id": "e821cce6",
   "metadata": {},
   "outputs": [],
   "source": [
    "# Convert SENDER_ACCOUNT_ID and RECEIVER_ACCOUNT_ID to object\n",
    "data['SENDER_ACCOUNT_ID'] = data['SENDER_ACCOUNT_ID'].astype('object')\n",
    "data['RECEIVER_ACCOUNT_ID'] = data['RECEIVER_ACCOUNT_ID'].astype('object')"
   ]
  },
  {
   "cell_type": "code",
   "execution_count": 75,
   "id": "52bcba79",
   "metadata": {
    "scrolled": true
   },
   "outputs": [
    {
     "data": {
      "text/plain": [
       "SENDER_ACCOUNT_ID       object\n",
       "RECEIVER_ACCOUNT_ID     object\n",
       "INIT_BALANCE           float64\n",
       "TX_BEHAVIOR_ID          object\n",
       "TX_AMOUNT              float64\n",
       "TIMESTAMP                int64\n",
       "IS_FRAUD                  bool\n",
       "ALERT_ID                object\n",
       "ALERT_TYPE              object\n",
       "dtype: object"
      ]
     },
     "execution_count": 75,
     "metadata": {},
     "output_type": "execute_result"
    }
   ],
   "source": [
    "data.dtypes"
   ]
  },
  {
   "cell_type": "code",
   "execution_count": 85,
   "id": "3ff3e2fb",
   "metadata": {},
   "outputs": [],
   "source": [
    "data.to_csv('integrated_data.csv')"
   ]
  },
  {
   "cell_type": "code",
   "execution_count": 77,
   "id": "8d0f9f23",
   "metadata": {},
   "outputs": [
    {
     "data": {
      "text/plain": [
       "0             1\n",
       "1            30\n",
       "2            37\n",
       "3            47\n",
       "4            49\n",
       "           ... \n",
       "12476007    194\n",
       "12476008    194\n",
       "12476009    194\n",
       "12476010    194\n",
       "12476011    194\n",
       "Name: TIMESTAMP, Length: 12476012, dtype: int64"
      ]
     },
     "execution_count": 77,
     "metadata": {},
     "output_type": "execute_result"
    }
   ],
   "source": [
    "data['TIMESTAMP']"
   ]
  },
  {
   "cell_type": "code",
   "execution_count": 78,
   "id": "3d9eebe0",
   "metadata": {},
   "outputs": [
    {
     "data": {
      "image/png": "[encoded data removed]",
      "text/plain": [
       "<Figure size 1008x720 with 2 Axes>"
      ]
     },
     "metadata": {},
     "output_type": "display_data"
    }
   ],
   "source": [
    "data['TIMESTAMP'] = pd.to_numeric(data['TIMESTAMP'])\n",
    "\n",
    "# Resample the data by TIMESTAMP and count fraud vs. non-fraud transactions\n",
    "fraud_counts = data[data['IS_FRAUD'] == 1].groupby('TIMESTAMP').size()\n",
    "non_fraud_counts = data[data['IS_FRAUD'] == 0].groupby('TIMESTAMP').size()\n",
    "\n",
    "# Create a DataFrame with the counts\n",
    "counts_df = pd.DataFrame({\n",
    "    'Fraud': fraud_counts,\n",
    "    'Non-Fraud': non_fraud_counts\n",
    "}).fillna(0).astype(int)\n",
    "\n",
    "# Plot the data using subplots\n",
    "plt.figure(figsize=(14, 10))\n",
    "\n",
    "# Subplot for fraud transactions\n",
    "plt.subplot(2, 1, 1)\n",
    "sns.lineplot(data=counts_df['Fraud'], color='red')\n",
    "plt.title('Number of Fraud Transactions Over Time')\n",
    "plt.xlabel('Timestamp')\n",
    "plt.ylabel('Number of Transactions')\n",
    "plt.grid(True)\n",
    "\n",
    "# Subplot for non-fraud transactions\n",
    "plt.subplot(2, 1, 2)\n",
    "sns.lineplot(data=counts_df['Non-Fraud'], color='blue')\n",
    "plt.title('Number of Non-Fraud Transactions Over Time')\n",
    "plt.xlabel('Timestamp')\n",
    "plt.ylabel('Number of Transactions')\n",
    "plt.grid(True)\n",
    "\n",
    "plt.tight_layout()\n",
    "plt.show()"
   ]
  },
  {
   "cell_type": "code",
   "execution_count": 79,
   "id": "36d44997",
   "metadata": {
    "scrolled": true
   },
   "outputs": [
    {
     "data": {
      "image/png": "[encoded data removed]",
      "text/plain": [
       "<Figure size 720x432 with 1 Axes>"
      ]
     },
     "metadata": {},
     "output_type": "display_data"
    }
   ],
   "source": [
    "# Scatter plot to identify outliers\n",
    "plt.figure(figsize=(10, 6))\n",
    "plt.scatter(data['SENDER_ACCOUNT_ID'], data['INIT_BALANCE'], alpha=0.6, color='blue', edgecolors='w', s=100)\n",
    "plt.title('Scatter Plot of Initial Balance vs Account ID')\n",
    "plt.xlabel('Sender Account ID')\n",
    "plt.ylabel('Initial Balance')\n",
    "plt.grid(True)\n",
    "plt.show()"
   ]
  },
  {
   "cell_type": "code",
   "execution_count": 80,
   "id": "2ff2f114",
   "metadata": {},
   "outputs": [
    {
     "data": {
      "image/png": "[encoded data removed]",
      "text/plain": [
       "<Figure size 720x432 with 1 Axes>"
      ]
     },
     "metadata": {},
     "output_type": "display_data"
    }
   ],
   "source": [
    "# Box plot for initial balances\n",
    "plt.figure(figsize=(10, 6))\n",
    "sns.boxplot(x='IS_FRAUD', y='INIT_BALANCE', data=accounts, palette='vlag_r')\n",
    "plt.title('Initial Balance Distribution by Fraudulent Status')\n",
    "plt.xlabel('Is Fraudulent')\n",
    "plt.ylabel('Initial Balance')\n",
    "plt.xticks([0, 1], ['Non-Fraudulent', 'Fraudulent'])\n",
    "plt.show()"
   ]
  },
  {
   "cell_type": "code",
   "execution_count": 81,
   "id": "8ea27483",
   "metadata": {},
   "outputs": [
    {
     "data": {
      "image/png": "[encoded data removed]",
      "text/plain": [
       "<Figure size 720x432 with 1 Axes>"
      ]
     },
     "metadata": {},
     "output_type": "display_data"
    }
   ],
   "source": [
    "plt.figure(figsize=(10, 6))\n",
    "plt.scatter(data['SENDER_ACCOUNT_ID'], data['IS_FRAUD'], alpha=0.6, color='blue', edgecolors='w', s=100)\n",
    "plt.title('Sender Account ID Distribution by Fraudulent Status')\n",
    "plt.xlabel('Sender Account ID')\n",
    "plt.ylabel('Initial Balance')\n",
    "plt.grid(True)\n",
    "plt.show()"
   ]
  },
  {
   "cell_type": "code",
   "execution_count": 82,
   "id": "bb254520",
   "metadata": {
    "scrolled": true
   },
   "outputs": [
    {
     "data": {
      "image/png": "[encoded data removed]",
      "text/plain": [
       "<Figure size 576x432 with 2 Axes>"
      ]
     },
     "metadata": {},
     "output_type": "display_data"
    }
   ],
   "source": [
    "#look for correlations\n",
    "correlation_matrix = data.corr()\n",
    "plt.figure(figsize=(8, 6))\n",
    "sns.heatmap(correlation_matrix, annot=True, cmap='vlag_r', fmt=\".2f\")\n",
    "plt.title('Correlation Matrix')\n",
    "plt.show()"
   ]
  },
  {
   "cell_type": "code",
   "execution_count": null,
   "id": "fa22e8a0",
   "metadata": {},
   "outputs": [],
   "source": []
  }
 ],
 "metadata": {
  "kernelspec": {
   "display_name": "Python 3 (ipykernel)",
   "language": "python",
   "name": "python3"
  },
  "language_info": {
   "codemirror_mode": {
    "name": "ipython",
    "version": 3
   },
   "file_extension": ".py",
   "mimetype": "text/x-python",
   "name": "python",
   "nbconvert_exporter": "python",
   "pygments_lexer": "ipython3",
   "version": "3.7.13"
  }
 },
 "nbformat": 4,
 "nbformat_minor": 5
}
